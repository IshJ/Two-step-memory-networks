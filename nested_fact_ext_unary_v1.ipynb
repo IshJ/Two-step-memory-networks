{
  "nbformat": 4,
  "nbformat_minor": 0,
  "metadata": {
    "colab": {
      "name": "nested_fact_ext_unary_v1.ipynb",
      "version": "0.3.2",
      "provenance": [],
      "collapsed_sections": []
    },
    "kernelspec": {
      "name": "python2",
      "display_name": "Python 2"
    },
    "accelerator": "TPU"
  },
  "cells": [
    {
      "cell_type": "code",
      "metadata": {
        "id": "QhFSZnLF1GUl",
        "colab_type": "code",
        "colab": {}
      },
      "source": [
        "# !rm da*\n",
        "# !rm mem*\n",
        "# !rm sim*\n",
        "\n",
        "from __future__ import absolute_import\n",
        "from __future__ import print_function\n",
        "\n",
        "from sklearn import metrics\n",
        "# from memn2n import MemN2N\n",
        "from itertools import chain\n",
        "from six.moves import range, reduce\n",
        "import re\n",
        "\n",
        "import tensorflow as tf\n",
        "from tensorflow import keras\n",
        "\n",
        "import numpy as np\n",
        "\n",
        "from google.colab import files\n",
        "\n",
        "import matplotlib as mpl\n",
        "from matplotlib import pyplot as plt\n",
        "from matplotlib import cm\n",
        "\n",
        "# uploaded = files.upload()\n",
        "# uploaded = None"
      ],
      "execution_count": 0,
      "outputs": []
    },
    {
      "cell_type": "code",
      "metadata": {
        "id": "uVDG74lwl4Za",
        "colab_type": "code",
        "outputId": "70bfbae6-65bc-44f5-cde6-03443b5934f8",
        "colab": {
          "base_uri": "https://localhost:8080/",
          "height": 34
        }
      },
      "source": [
        "re.findall(r'\\bx\\b', 'line In the figure above , what is the value of x ?')\n",
        "\n",
        "\n",
        "\n",
        "# re.findall(r'(\\b([A-Z]+)\\b)|(\\bx\\b)', 'line In the figure above , what is the value of y ?')\n",
        "\n",
        "# re.findall(r'\\b([A-Z]+)\\b', 'line In the figure above , what is A the BC value of x ?')\n",
        "x = 33\n",
        "if (not x ==3):\n",
        "  print('dd')"
      ],
      "execution_count": 0,
      "outputs": [
        {
          "output_type": "stream",
          "text": [
            "dd\n"
          ],
          "name": "stdout"
        }
      ]
    },
    {
      "cell_type": "code",
      "metadata": {
        "id": "SmzCiO9D98A0",
        "colab_type": "code",
        "colab": {}
      },
      "source": [
        "# ############################ data utils\n",
        "\n",
        "def load_task3(train_file, only_supporting=False, test_count=10):\n",
        "    #   filter for binary rules\n",
        "    train2_data = list()\n",
        "    for line in train_file:\n",
        "        line = line.replace('\\n', '')\n",
        "        #     line = str.lower(line)\n",
        "        # \t\tline = str.lower(line)\n",
        "        print(line)\n",
        "        _, qna = line.split('##')\n",
        "        if (len(qna.split(' ')) == 2):\n",
        "            #             print('line ',line)\n",
        "            train2_data.append(line)\n",
        "\n",
        "    train_data = parse_stories3(train2_data[:-1 * test_count], -1, only_supporting)\n",
        "    test_data = parse_stories3(train2_data[-1 * test_count:], -1, only_supporting)\n",
        "    print('lens', len(train2_data), '#', len(train_data), '#', len(test_data))\n",
        "    return train_data, test_data\n",
        "\n",
        "\n",
        "# len(parse_stories(train_data[:-11], False)),len(parse_stories(train_data[-11:], False))\n",
        "\n",
        "def tokenize(sent):\n",
        "    '''Return the tokens of a sentence including punctuation.\n",
        "    >>> tokenize('Bob dropped the apple. Where is the apple?')\n",
        "    ['Bob', 'dropped', 'the', 'apple', '.', 'Where', 'is', 'the', 'apple', '?']\n",
        "    '''\n",
        "    return [x.strip() for x in re.split('(\\W+)?', sent) if x.strip()]\n",
        "\n",
        "\n",
        "def parse_stories3(lines, q_position=-1, only_supporting=False):\n",
        "    '''Parse stories provided in the bAbI tasks format\n",
        "    If only_supporting is true, only the sentences that support the answer are kept.\n",
        "    '''\n",
        "    # In circle O , diameter AB is perpendicular to chord CD at E .##perpendicular AB CD\n",
        "\n",
        "    data = []\n",
        "    story = []\n",
        "    for line in lines:\n",
        "        if(len(lines)>1):\n",
        "            q_position = -1\n",
        "        #     print('parseLine', line)\n",
        "        story = []\n",
        "        line = line.replace('\\n', '')\n",
        "        #     line = str.lower(line)\n",
        "        # \t\tline = str.lower(line)\n",
        "        #         print line\n",
        "        fact1, qna = line.split('##')\n",
        "        # q, a, supporting = line.split('\\t')\n",
        "\n",
        "        #     a = tokenize(a)\n",
        "\n",
        "        fact1 = tokenize(fact1)\n",
        "        if fact1[-1] == \"?\" or fact1[-1] == \".\":\n",
        "            fact1 = fact1[:-1]\n",
        "\n",
        "        for word in fact1:\n",
        "            story.append(word)\n",
        "        # story.append(fact1)\n",
        "        # a = tokenize(a)\n",
        "        # answer is one vocab word even if it's actually multiple words\n",
        "        #     a = [a]\n",
        "#         print('qna', qna)\n",
        "        qna = qna.split(' ')\n",
        "        if (len(qna) == 2):\n",
        "            q1, a1 = qna[:-1], qna[-1:]\n",
        "            if not re.search(r'\\b(([A-Z]+)|([a-z]))\\b', a1[0]):\n",
        "                continue\n",
        "            q1 = ' '.join(q1)\n",
        "            q1 = tokenize(q1)\n",
        "#             print('fact1, q1, a1', fact1, a1, q1)\n",
        "            min_dis = 0\n",
        "#             print('q_position 0 ', q_position)\n",
        "            if (q_position == -1):\n",
        "                q_position, a_index, min_dis = get_q_index(fact1, a1, q1)\n",
        "#                 print(q_position, a_index, min_dis)\n",
        "                if (min_dis == 0):\n",
        "                    continue\n",
        "#             print('story, a1, q1, q_position', story,'\\n', a1,'\\n', q1,'\\n', q_position)\n",
        "            data.append((story, a1, q1, q_position))\n",
        "    return data\n",
        "\n",
        "\n",
        "def vectorize_datas(data, word_idx, sentence_size, memory_size, q_position=-1):\n",
        "    \"\"\"\n",
        "    Vectorize stories and queries.\n",
        "\n",
        "    If a sentence length < sentence_size, the sentence will be padded with 0's.\n",
        "\n",
        "    If a story length < memory_size, the story will be padded with empty memories.\n",
        "    Empty memories are 1-D arrays of length sentence_size filled with 0's.\n",
        "\n",
        "    The answer array is returned as a one-hot encoding.\n",
        "    \"\"\"\n",
        "    S = []\n",
        "    Q = []\n",
        "    A = []\n",
        "    print('data', data)\n",
        "    for story, query, answer, q_position in data:\n",
        "        # \t\tprint('story', story)\n",
        "        # story ['In', 'the', 'accompanying', 'diagram', 'of', 'circle', 'O', ',', 'the', 'measure', 'of', 'angle', 'ABC', 'is', '@', 'v_0', 'and', 'the', 'measure', 'of', 'arc', 'AC', 'is', '@', 'v_1']\n",
        "\n",
        "        if (q_position == -1):\n",
        "            q_position = story.index(query[0])\n",
        "\n",
        "        if (answer[0] not in story):\n",
        "            continue\n",
        "        ss = []\n",
        "        for i, sentence in enumerate(story, 1):\n",
        "            ls = 1\n",
        "            # \t\t\tprint('ls, sentence_size, sentence', ls, sentence, sentence_size, query)\n",
        "            #       ls, sentence_size, sentence 1 accompanying 2 ['is']\n",
        "            ss.append([word_idx[sentence]] + [0] * ls)\n",
        "        # print('[word_idx[sentence]] + [0] * ls', [word_idx[sentence]] + [0] * ls)\n",
        "        # \t\t\tprint('ss', ss)\n",
        "\n",
        "        # take only the most recent sentences that fit in memory\n",
        "        ss = ss[::-1][:memory_size][::-1]\n",
        "\n",
        "        # Make the last word of each sentence the time 'word' which\n",
        "        # corresponds to vector of lookup table\n",
        "        print('q_position_1', q_position)\n",
        "        ss[q_position][-1] = len(word_idx) - memory_size\n",
        "        # \t\tprint('ss[q_position][-1] ', ss[q_position][-1], q_position )\n",
        "        count = 0\n",
        "        for i in range(q_position - 1, -1, -1):\n",
        "            count += 1\n",
        "            # \t\t\tprint('i', i, ss[q_position][-1] - count)\n",
        "\n",
        "            ss[i][-1] = ss[q_position][-1] - count\n",
        "\n",
        "        count = 0\n",
        "        for j in range(q_position + 1, len(ss)):\n",
        "            count += 1\n",
        "            # \t\t\tprint('j', j, ss[q_position][-1] + count)\n",
        "\n",
        "            ss[j][-1] = ss[q_position][-1] + count\n",
        "\n",
        "        # print()\n",
        "\n",
        "        # \t\tfor i in range(len(ss)):\n",
        "        # \t\t\tss[i][-1] = len(word_idx) - memory_size - i + len(ss)\n",
        "        #       i - q_position\n",
        "        # \t\tprint('ss1', ss)\n",
        "        # pad to memory_size\n",
        "        lm = max(0, memory_size - len(ss))\n",
        "        for _ in range(lm):\n",
        "            ss.append([0, 0])\n",
        "        # print('ss2', ss)\n",
        "        lq = max(0, sentence_size - len(query))\n",
        "        q = [word_idx[w] for w in query] + [len(word_idx) - memory_size] * lq\n",
        "\n",
        "        y = np.zeros(memory_size)  # 0 is reserved for nil word\n",
        "        for a in answer:\n",
        "            y = np.zeros(memory_size)\n",
        "            y[story.index(answer[0])] = 1\n",
        "\n",
        "        S.append(ss)\n",
        "        # \t\tprint(q_position, 'ss23', ss)\n",
        "        Q.append(q)\n",
        "        A.append(y)\n",
        "    return S, np.array(Q), np.array(A)\n",
        "\n",
        "\n",
        "def vectorize_data(story, query, answer, word_idx,\n",
        "                   sentence_size, memory_size, q_position=-1, S=[], Q=[], A=[]):\n",
        "    S = []\n",
        "    Q = []\n",
        "    A = []\n",
        "    ss = []\n",
        "    if (q_position == -1):\n",
        "        q_position = story.index(query[0])\n",
        "    for i, sentence in enumerate(story, 1):\n",
        "        ls = 1\n",
        "        # \t\t\tprint('ls, sentence_size, sentence', ls, sentence_size, sentence)\n",
        "        ss.append([word_idx[sentence]] + [0] * ls)\n",
        "    #\n",
        "    # take only the most recent sentences that fit in memory\n",
        "    ss = ss[::-1][:memory_size][::-1]\n",
        "    # \t\tprint('len11',len(ss))\n",
        "    # Make the last word of each sentence the time 'word' which\n",
        "    # corresponds to vector of lookup table\n",
        "    ss[q_position][-1] = len(word_idx) - memory_size\n",
        "    # \t\tprint('ss[q_position][-1] ', ss[q_position][-1], q_position )\n",
        "    count = 0\n",
        "    for i in range(q_position - 1, -1, -1):\n",
        "        count += 1\n",
        "        # \t\t\tprint('i', i, ss[q_position][-1] - count)\n",
        "\n",
        "        ss[i][-1] = ss[q_position][-1] - count\n",
        "\n",
        "    count = 0\n",
        "    for j in range(q_position + 1, len(ss)):\n",
        "        count += 1\n",
        "        # \t\t\tprint('j', j, ss[q_position][-1] + count)\n",
        "\n",
        "        ss[j][-1] = ss[q_position][-1] + count\n",
        "    lm = max(0, memory_size - len(ss))\n",
        "    for _ in range(lm):\n",
        "        ss.append([0, 0])\n",
        "    # print('len13',len(ss))\n",
        "    lq = max(0, sentence_size - len(query))\n",
        "    q = [word_idx[w] for w in query] + [len(word_idx) - memory_size] * lq\n",
        "\n",
        "    y = np.zeros(len(word_idx) + 1)  # 0 is reserved for nil word\n",
        "    for a in answer:\n",
        "        y = np.zeros(memory_size)\n",
        "        y[0] = 1\n",
        "\n",
        "    # print('len1S',len(S))\n",
        "    S.append(ss)\n",
        "    Q.append(q)\n",
        "    A.append(y)\n",
        "    # \t\tprint('len12S',len(S))\n",
        "    return S, Q, A\n",
        "\n",
        "\n",
        "def vectorize_question(story, query, answer, word_idx, sentence_size, memory_size, S=[], Q=[], A=[]):\n",
        "    Q = []\n",
        "    lq = max(0, sentence_size - len(query))\n",
        "    q = [word_idx[w] for w in query] + [0] * lq\n",
        "    Q.append(q)\n",
        "    return Q\n",
        "\n",
        "\n",
        "def position_encoding(sentence_size, embedding_size):\n",
        "    \"\"\"\n",
        "    Position Encoding described in section 4.1 [1]\n",
        "    \"\"\"\n",
        "    # each 1 cell contain the #ss count of values which represent nth embedding value of each sentence\n",
        "    encoding = np.ones((embedding_size, sentence_size), dtype=np.float32)\n",
        "    ls = sentence_size + 1\n",
        "    le = embedding_size + 1\n",
        "    for i in range(1, le):\n",
        "        for j in range(1, ls):\n",
        "            encoding[i - 1, j - 1] = (i - (embedding_size + 1) / 2) * (j - (sentence_size + 1) / 2)\n",
        "    encoding = 1 + 4 * encoding / embedding_size / sentence_size\n",
        "    # Make position encoding of time words identity to avoid modifying them\n",
        "    encoding[:, -1] = 1.0\n",
        "    # now this is each sentence embedded. [ss,em]\n",
        "    return np.transpose(encoding)\n",
        "\n",
        "\n",
        "def zero_nil_slot(t, name=None):\n",
        "    \"\"\"\n",
        "    Overwrites the nil_slot (first row) of the input Tensor with zeros.\n",
        "\n",
        "    The nil_slot is a dummy slot and should not be trained and influence\n",
        "    the training algorithm.\n",
        "    \"\"\"\n",
        "    with tf.op_scope([t], name, \"zero_nil_slot\") as name:\n",
        "        t = tf.convert_to_tensor(t, name=\"t\")\n",
        "        s = tf.shape(t)[1]\n",
        "        z = tf.zeros(tf.stack([1, s]))\n",
        "        return tf.concat(axis=0, values=[z, tf.slice(t, [1, 0], [-1, -1])], name=name)\n",
        "\n",
        "\n",
        "def add_gradient_noise(t, stddev=1e-3, name=None):\n",
        "    \"\"\"\n",
        "    Adds gradient noise as described in http://arxiv.org/abs/1511.06807 [2].\n",
        "\n",
        "    The input Tensor `t` should be a gradient.\n",
        "\n",
        "    The output will be `t` + gaussian noise.\n",
        "\n",
        "    0.001 was said to be a good fixed value for memory networks [2].\n",
        "    \"\"\"\n",
        "    with tf.op_scope([t, stddev], name, \"add_gradient_noise\") as name:\n",
        "        t = tf.convert_to_tensor(t, name=\"t\")\n",
        "        gn = tf.random_normal(tf.shape(t), stddev=stddev)\n",
        "        return tf.add(t, gn, name=name)\n",
        "\n",
        "\n",
        "def get_q_index(fact1, q1, a1):\n",
        "#     print(fact1)\n",
        "#     print(q1)\n",
        "#     print(a1)\n",
        "    a_indices = [i for i, x in enumerate(fact1) if x == a1[0]]\n",
        "    q_indices = [i1 for i1, x1 in enumerate(fact1) if x1 == q1[0]]\n",
        "    a_indices = np.sort(a_indices)\n",
        "    q_indices = np.sort(q_indices)\n",
        "#     print(a_indices)\n",
        "#     print(q_indices)\n",
        "    a_index = 0\n",
        "    q_index = 0\n",
        "    min_dis = [0]\n",
        "    for qi in q_indices:\n",
        "        for ai in a_indices:\n",
        "            if not (ai > qi):\n",
        "                continue\n",
        "            a_index = ai\n",
        "            q_index = qi\n",
        "            #             print(qi-ai)\n",
        "            min_dis = np.absolute([qi - ai])\n",
        "            break\n",
        "    if (min_dis[0] == 0):\n",
        "        for ai in a_indices:\n",
        "            for qi in q_indices:\n",
        "                if qi < ai:\n",
        "                    continue\n",
        "                a_index = ai\n",
        "                q_index = qi\n",
        "                #                 print(qi - ai)\n",
        "                if ('is' in fact1[ai:qi]):\n",
        "                    return q_index, a_index, min_dis[0]\n",
        "                min_dis = np.absolute([qi - ai])\n",
        "                break\n",
        "\n",
        "    return q_index, a_index, min_dis[0]\n",
        "\n",
        "# ###############################################################################\n"
      ],
      "execution_count": 0,
      "outputs": []
    },
    {
      "cell_type": "code",
      "metadata": {
        "id": "OyxjzbtLjBbs",
        "colab_type": "code",
        "colab": {}
      },
      "source": [
        "story = ['line AB and line CD are parallel']\n",
        "query = ['line']\n",
        "answer = ['AB']\n"
      ],
      "execution_count": 0,
      "outputs": []
    },
    {
      "cell_type": "code",
      "metadata": {
        "id": "3oO3eygyJqpp",
        "colab_type": "code",
        "outputId": "9dd961b6-0728-4882-f117-a636ec4582fa",
        "colab": {
          "base_uri": "https://localhost:8080/",
          "height": 697
        }
      },
      "source": [
        "keywords = open('keywords.txt','r').readlines()\n",
        "keyword_dict = dict(zip([i.split('##')[0] for i in keywords], [int(i.split('##')[1]) for i in keywords]))\n",
        "\n",
        "# code before modifying\n",
        "# evaluate_data = open('evaluate_data_file.txt','r').readlines()\n",
        "# evaluate_data = [data.replace('\\n','') for data in evaluate_data]\n",
        "# # evaluate_data_dict = dict(zip([i.split('##')[0] for i in evaluate_data],[i.split('##')[1] for i in evaluate_data] ))\n",
        "\n",
        "# evaluate_rules = open('evaluate_rule_file.txt','r').readlines()\n",
        "# evaluate_rules = [data.replace('\\n','') for data in evaluate_rules if len(data.split('##')[1].split(' '))==2]\n",
        "# # evaluate_rule_dict = dict(zip([i.split('##')[0] for i in evaluate_rule],[i.split('##')[1] for i in evaluate_rule] ))\n",
        "\n",
        "# ruleKeys = list(set(rule.split('##')[0] for rule in evaluate_rules))\n",
        "# rule_dict = {key: list() for key in ruleKeys}\n",
        "# for rule in evaluate_rules:\n",
        "#   rule_dict[rule.split('##')[0]].append(rule.split('##')[1].replace('\\n',''))\n",
        "  \n",
        "\n",
        "# keywords = open('keywords.txt','r').readlines()\n",
        "# keyword_dict = dict(zip([i.split('##')[0] for i in keywords], [int(i.split('##')[1]) for i in keywords]))\n",
        "\n",
        "\n",
        "# modified\n",
        "evaluate_rule_list_file = open(\"evaluate_rule_file_v1.txt\", \"r\") .readlines()\n",
        "evaluate_data = list()\n",
        "evaluate_rules = list()\n",
        "rule_dict = dict()\n",
        "for qline in evaluate_rule_list_file:\n",
        "#   print(qline)\n",
        "  qkey = qline.split('##')[0]\n",
        "  qLinewrules = qline.split('##')[1]\n",
        "  evaluate_data.append(qline.split('$$')[0])\n",
        "  rule_list = qLinewrules.split('$$')[1].split('$')\n",
        "  rule_dict[qkey] = [rule.replace('\\n','').strip() for rule in rule_list if rule.replace('\\n','').strip()>0 ]\n",
        "  rule_dict[qkey] = rule_dict[qkey][:-1]\n",
        "  evaluate_rules.extend(rule_dict[qkey])\n",
        "  print(rule_dict[qkey])\n",
        "  \n",
        "  \n",
        "\n",
        "# # code for creating the file  \n",
        "# evaluate_rule_file_v1 = open(\"evaluate_rule_file_v1.txt\", \"w+\") \n",
        "# for qline in evaluate_data:\n",
        "#   qkey = qline.split('##')[0]\n",
        "#   if qkey not in rule_dict:\n",
        "#     continue\n",
        "#   rules = rule_dict[qkey]  \n",
        "#   evaluate_rule_file_v1.write(qline)\n",
        "#   evaluate_rule_file_v1.write('$$')\n",
        "#   for rule in rules:  \n",
        "#     evaluate_rule_file_v1.write('@')  \n",
        "#     evaluate_rule_file_v1.write(rule)\n",
        "#   evaluate_rule_file_v1.write('\\n')\n",
        "    \n",
        "   "
      ],
      "execution_count": 0,
      "outputs": [
        {
          "output_type": "stream",
          "text": [
            "['value x']\n",
            "['value v']\n",
            "['value v', 'quadrilateral PQRS']\n",
            "['point O', 'line AB']\n",
            "['value x']\n",
            "['triangle ABC', 'angle BAC', 'point D']\n",
            "['angle BAC']\n",
            "['value y']\n",
            "['radius r', 'center P']\n",
            "['Lines AB', 'Lines AC']\n",
            "['segment AC', 'angle PMC', 'angle MPC', 'segment PA', 'Midpoint M']\n",
            "['lines l', 'point Q', 'lines k']\n",
            "['value x']\n",
            "['triangle ABC', 'center O', 'diameter AC']\n",
            "['angle ABO']\n",
            "['line CD', 'line AB', 'line EF']\n",
            "['value x']\n",
            "['triangle RST']\n",
            "['area PQRS']\n",
            "['point B', 'side AC']\n",
            "['value y']\n",
            "['sides BD', 'rectangle ABDF', 'midpoints C', 'midpoints E', 'sides DF']\n",
            "['rectangle ABCD', 'area v']\n",
            "['rectangle ABCD', 'area v']\n",
            "['radii PA', 'Point P', 'radii PB']\n",
            "['diameter AB', 'center O']\n",
            "['triangle ABC']\n",
            "['lines l', 'lines m']\n",
            "['value x']\n",
            "['perimeter p']\n",
            "['value p', 'integers l', 'integers w']\n",
            "['value x', 'lines n', 'lines p', 'lines m', 'lines l']\n",
            "['points A', 'points B', 'center O']\n",
            "['value z']\n",
            "['value x']\n",
            "['triangle ABC', 'length AB', 'midpoint D']\n",
            "['length BC']\n",
            "['square ABCE', 'triangle CDE']\n",
            "['polygon ABCDE']\n",
            "['triangle CAF', 'rectangle CDEF', 'segment AD']\n"
          ],
          "name": "stdout"
        }
      ]
    },
    {
      "cell_type": "code",
      "metadata": {
        "id": "0WNq0HGIKBwN",
        "colab_type": "code",
        "colab": {}
      },
      "source": [
        "class MemN2N(object):\n",
        "    \"\"\"End-To-End Memory Network.\"\"\"\n",
        "\n",
        "    def __init__(self, batch_size, vocab_size, sentence_size, memory_size, embedding_size,\n",
        "                 hops=3,\n",
        "                 max_grad_norm=40.0,\n",
        "                 nonlin=None,\n",
        "                 initializer=tf.random_normal_initializer(stddev=0.1),\n",
        "                 encoding=position_encoding,\n",
        "                 session=tf.Session(),\n",
        "                 name='MemN2N'):\n",
        "        \"\"\"Creates an End-To-End Memory Network\n",
        "\n",
        "        Args:\n",
        "            batch_size: The size of the batch.\n",
        "\n",
        "            vocab_size: The size of the vocabulary (should include the nil word). The nil word\n",
        "            one-hot encoding should be 0.\n",
        "\n",
        "            sentence_size: The max size of a sentence in the data. All sentences should be padded\n",
        "            to this length. If padding is required it should be done with nil one-hot encoding (0).\n",
        "\n",
        "            memory_size: The max size of the memory. Since Tensorflow currently does not support jagged arrays\n",
        "            all memories must be padded to this length. If padding is required, the extra memories should be\n",
        "            empty memories; memories filled with the nil word ([0, 0, 0, ......, 0]).\n",
        "\n",
        "            embedding_size: The size of the word embedding.\n",
        "\n",
        "            hops: The number of hops. A hop consists of reading and addressing a memory slot.\n",
        "            Defaults to `3`.\n",
        "\n",
        "            max_grad_norm: Maximum L2 norm clipping value. Defaults to `40.0`.\n",
        "\n",
        "            nonlin: Non-linearity. Defaults to `None`.\n",
        "\n",
        "            initializer: Weight initializer. Defaults to `tf.random_normal_initializer(stddev=0.1)`.\n",
        "\n",
        "            optimizer: Optimizer algorithm used for SGD. Defaults to `tf.train.AdamOptimizer(learning_rate=1e-2)`.\n",
        "\n",
        "            encoding: A function returning a 2D Tensor (sentence_size, embedding_size). Defaults to `position_encoding`.\n",
        "\n",
        "            session: Tensorflow Session the model is run with. Defaults to `tf.Session()`.\n",
        "\n",
        "            name: Name of the End-To-End Memory Network. Defaults to `MemN2N`.\n",
        "        \"\"\"\n",
        "\n",
        "        self._batch_size = batch_size\n",
        "        self._vocab_size = vocab_size\n",
        "        self._sentence_size = sentence_size\n",
        "        self._memory_size = memory_size\n",
        "        self._embedding_size = embedding_size\n",
        "        self._hops = hops\n",
        "        self._max_grad_norm = max_grad_norm\n",
        "        self._nonlin = nonlin\n",
        "        self._init = initializer\n",
        "        self._name = name\n",
        "\n",
        "        self._build_inputs()\n",
        "        self._build_vars()\n",
        "\n",
        "        self._opt = tf.train.AdamOptimizer(learning_rate=self._lr)\n",
        "\n",
        "        self._encoding = tf.constant(encoding(self._sentence_size, self._embedding_size), name=\"encoding\")\n",
        "\n",
        "        # cross entropy\n",
        "        # logits = self._inference(self._stories, self._queries)  # (batch_size, vocab_size)\n",
        "        logits, att = self._inference_att(self._stories, self._queries)  # (batch_size, vocab_size)\n",
        "\n",
        "        #         print('logits', logits)\n",
        "        cross_entropy = tf.nn.softmax_cross_entropy_with_logits(logits=logits,\n",
        "                                                                labels=tf.cast(self._answers, tf.float32),\n",
        "                                                                name=\"cross_entropy\")\n",
        "        #         print('cross_entropy', cross_entropy)\n",
        "        cross_entropy_sum = tf.reduce_sum(cross_entropy, name=\"cross_entropy_sum\")\n",
        "        #         print('cross_entropy_sum', cross_entropy_sum)\n",
        "\n",
        "        # loss op\n",
        "        loss_op = cross_entropy_sum\n",
        "\n",
        "        # gradient pipeline\n",
        "        grads_and_vars = self._opt.compute_gradients(loss_op)\n",
        "        grads_and_vars1 = []\n",
        "        for grad, var in grads_and_vars:\n",
        "            if grad is not None:\n",
        "                grads_and_vars1.append([grad, var])\n",
        "            else:\n",
        "                grads_and_vars1.append([tf.zeros_like(var), var])\n",
        "\n",
        "        grads_and_vars = grads_and_vars1\n",
        "\n",
        "        grads_and_vars = [(tf.clip_by_norm(g, self._max_grad_norm), v) for g, v in grads_and_vars]\n",
        "        grads_and_vars = [(add_gradient_noise(g), v) for g, v in grads_and_vars]\n",
        "        nil_grads_and_vars = []\n",
        "        for g, v in grads_and_vars:\n",
        "            if v.name in self._nil_vars:\n",
        "                nil_grads_and_vars.append((zero_nil_slot(g), v))\n",
        "            else:\n",
        "                nil_grads_and_vars.append((g, v))\n",
        "        train_op = self._opt.apply_gradients(nil_grads_and_vars, name=\"train_op\")\n",
        "\n",
        "        # predict ops\n",
        "        # edit\n",
        "        predict_out = logits\n",
        "        predict_op = tf.argmax(logits, 1, name=\"predict_op\")\n",
        "        predict_proba_op = tf.nn.softmax(logits, name=\"predict_proba_op\")\n",
        "        predict_log_proba_op = tf.log(predict_proba_op, name=\"predict_log_proba_op\")\n",
        "        predict_att = tf.nn.softmax(att, name=\"predict_att\")\n",
        "\n",
        "        # assign ops\n",
        "        self.loss_op = loss_op\n",
        "        self.predict_op = predict_op\n",
        "        # edit\n",
        "        self.predict_out = predict_out\n",
        "        self.predict_att = predict_att\n",
        "\n",
        "        self.predict_proba_op = predict_proba_op\n",
        "        self.predict_log_proba_op = predict_log_proba_op\n",
        "        self.train_op = train_op\n",
        "\n",
        "        init_op = tf.global_variables_initializer()\n",
        "        self._sess = session\n",
        "        self._sess.run(init_op)\n",
        "\n",
        "    def _build_inputs(self):\n",
        "        self._stories = tf.placeholder(tf.int32, [None, self._memory_size, self._sentence_size], name=\"stories\")\n",
        "        self._queries = tf.placeholder(tf.int32, [None, self._sentence_size], name=\"queries\")\n",
        "        self._answers = tf.placeholder(tf.int32, [None, self._memory_size], name=\"answers\")\n",
        "        self._lr = tf.placeholder(tf.float32, [], name=\"learning_rate\")\n",
        "\n",
        "    def _build_vars(self):\n",
        "        with tf.variable_scope(self._name):\n",
        "            nil_word_slot = tf.zeros([1, self._embedding_size])\n",
        "            A = tf.concat(axis=0, values=[nil_word_slot, self._init([self._vocab_size - 1, self._embedding_size])])\n",
        "            C = tf.concat(axis=0, values=[nil_word_slot, self._init([self._vocab_size - 1, self._embedding_size])])\n",
        "\n",
        "#             C_final = tf.concat(axis=0,\n",
        "#                                 values=[nil_word_slot, self._init([self._memory_size - 1, self._embedding_size])])\n",
        "            Q_emb = tf.concat(axis=0, values=[nil_word_slot, self._init([self._vocab_size - 1, self._embedding_size])])\n",
        "\n",
        "            self.A_1 = tf.Variable(A, name=\"A\")\n",
        "\n",
        "#             self.C_final = tf.Variable(C_final, name=\"C_final\")\n",
        "            self.Q_1 = tf.Variable(Q_emb, name=\"Q_emb\")\n",
        "\n",
        "            self.C = []\n",
        "\n",
        "            for hopn in range(self._hops-1):\n",
        "                with tf.variable_scope('hop_{}'.format(hopn)):\n",
        "                    self.C.append(tf.Variable(C, name=\"C\"))\n",
        "\n",
        "                    # Dont use projection for layerwise weight sharing\n",
        "                    # self.H = tf.Variable(self._init([self._embedding_size, self._embedding_size]), name=\"H\")\n",
        "\n",
        "                    # Use final C as replacement for W\n",
        "                    # self.W = tf.Variable(self._init([self._embedding_size, self._vocab_size]), name=\"W\")\n",
        "\n",
        "        self._nil_vars = set([self.A_1.name] + [x.name for x in self.C])\n",
        "\n",
        "    def _inference(self, stories, queries):\n",
        "        with tf.variable_scope(self._name):\n",
        "            # Use A_1 for thee question embedding as per Adjacent Weight Sharing\n",
        "            q_emb = tf.nn.embedding_lookup(self.Q_1, queries)\n",
        "            print('q_emb:', q_emb)\n",
        "            print('self._encoding', self._encoding)\n",
        "            u_0 = tf.reduce_sum(q_emb * self._encoding, 1)\n",
        "            print('u_0:', u_0)\n",
        "            u = [u_0]\n",
        "\n",
        "            for hopn in range(self._hops):\n",
        "                if hopn == 0:\n",
        "                    m_emb_A = tf.nn.embedding_lookup(self.A_1, stories)\n",
        "                    print('m_emb_A', m_emb_A)\n",
        "                    m_A = tf.reduce_sum(m_emb_A * self._encoding, 2)\n",
        "                    print('m_A', m_A)\n",
        "\n",
        "\n",
        "                else:\n",
        "                    with tf.variable_scope('hop_{}'.format(hopn - 1)):\n",
        "                        m_emb_A = tf.nn.embedding_lookup(self.C[hopn - 1], stories)\n",
        "                        m_A = tf.reduce_sum(m_emb_A * self._encoding, 2)\n",
        "\n",
        "                # hack to get around no reduce_dot\n",
        "                u_temp = tf.transpose(tf.expand_dims(u[-1], -1), [0, 2, 1])\n",
        "                dotted = tf.reduce_sum(m_A * u_temp, 2)\n",
        "\n",
        "                print('u_temp', u_temp)\n",
        "                print('dotted', dotted)\n",
        "\n",
        "                # Calculate probabilities\n",
        "                probs = tf.nn.softmax(dotted)\n",
        "                print('probs', probs)\n",
        "\n",
        "                probs_temp = tf.transpose(tf.expand_dims(probs, -1), [0, 2, 1])\n",
        "                print('probs_temp', probs_temp)\n",
        "                with tf.variable_scope('hop_{}'.format(hopn)):\n",
        "                    m_emb_C = tf.nn.embedding_lookup(self.C[hopn], stories)\n",
        "                    print('m_emb_C', m_emb_C)\n",
        "                m_C = tf.reduce_sum(m_emb_C * self._encoding, 2)\n",
        "                print('m_C', m_C)\n",
        "\n",
        "                c_temp = tf.transpose(m_C, [0, 2, 1])\n",
        "                print('c_temp', c_temp)\n",
        "                o_k = tf.reduce_sum(c_temp * probs_temp, 2)\n",
        "                print('o_k', o_k)\n",
        "\n",
        "                # Dont use projection layer for adj weight sharing\n",
        "                # u_k = tf.matmul(u[-1], self.H) + o_k\n",
        "\n",
        "                u_k = u[-1] + o_k\n",
        "                print('u_k', u_k)\n",
        "\n",
        "                # nonlinearity\n",
        "                if self._nonlin:\n",
        "                    u_k = nonlin(u_k)\n",
        "\n",
        "                print('u_k', u_k)\n",
        "                u.append(u_k)\n",
        "\n",
        "            # Use last C for output (transposed)\n",
        "            with tf.variable_scope('hop_{}'.format(self._hops)):\n",
        "                #                 return dotted\n",
        "                print('self.C', self.C)\n",
        "                print('self.Czzz-final', self.C_final)\n",
        "                print('final', tf.matmul(u_k, tf.transpose(self.C_final, [1, 0])))\n",
        "                return tf.matmul(u_k, tf.transpose(self.C_final, [1, 0]))\n",
        "\n",
        "    def _inference_att(self, stories, queries):\n",
        "        with tf.variable_scope(self._name):\n",
        "            # Use A_1 for thee question embedding as per Adjacent Weight Sharing\n",
        "            q_emb = tf.nn.embedding_lookup(self.Q_1, queries)\n",
        "            print('q_emb:', q_emb)\n",
        "            print('self._encoding', self._encoding)\n",
        "            u_0 = tf.reduce_sum(q_emb * self._encoding, 1)\n",
        "            print('u_0:', u_0)\n",
        "            u = [u_0]\n",
        "\n",
        "            att_v = []\n",
        "            for hopn in range(self._hops-1):\n",
        "                if hopn == 0:\n",
        "                    m_emb_A = tf.nn.embedding_lookup(self.A_1, stories)\n",
        "                    print('m_emb_A', m_emb_A)\n",
        "                    m_A = tf.reduce_sum(m_emb_A * self._encoding, 2)\n",
        "                    print('m_A', m_A)\n",
        "\n",
        "\n",
        "                else:\n",
        "                    with tf.variable_scope('hop_{}'.format(hopn - 1)):\n",
        "                        m_emb_A = tf.nn.embedding_lookup(self.C[hopn - 1], stories)\n",
        "                        m_A = tf.reduce_sum(m_emb_A * self._encoding, 2)\n",
        "\n",
        "                # hack to get around no reduce_dot\n",
        "                u_temp = tf.transpose(tf.expand_dims(u[-1], -1), [0, 2, 1])\n",
        "                dotted = tf.reduce_sum(m_A * u_temp, 2)\n",
        "\n",
        "                print('u_temp', u_temp)\n",
        "                print('dotted', dotted)\n",
        "\n",
        "                # Calculate probabilities\n",
        "                probs = tf.nn.softmax(dotted)\n",
        "                print('probs', probs)\n",
        "                att_v.append(probs)\n",
        "\n",
        "                probs_temp = tf.transpose(tf.expand_dims(probs, -1), [0, 2, 1])\n",
        "                print('probs_temp', probs_temp)\n",
        "                with tf.variable_scope('hop_{}'.format(hopn)):\n",
        "                    m_emb_C = tf.nn.embedding_lookup(self.C[hopn], stories)\n",
        "                    print('m_emb_C', m_emb_C)\n",
        "                m_C = tf.reduce_sum(m_emb_C * self._encoding, 2)\n",
        "                print('m_C', m_C)\n",
        "\n",
        "                c_temp = tf.transpose(m_C, [0, 2, 1])\n",
        "                print('c_temp', c_temp)\n",
        "                o_k = tf.reduce_sum(c_temp * probs_temp, 2)\n",
        "                print('o_k', o_k)\n",
        "\n",
        "                # Dont use projection layer for adj weight sharing\n",
        "                # u_k = tf.matmul(u[-1], self.H) + o_k\n",
        "\n",
        "                u_k = u[-1] + o_k\n",
        "                print('u_k', u_k)\n",
        "\n",
        "                # nonlinearity\n",
        "                if self._nonlin:\n",
        "                    u_k = nonlin(u_k)\n",
        "\n",
        "                print('u_k', u_k)\n",
        "                u.append(u_k)\n",
        "\n",
        "            # Use last C for output (transposed)\n",
        "            with tf.variable_scope('hop_{}'.format(self._hops)):\n",
        "                #                 return dotted\n",
        "                if hopn == 0:\n",
        "                    m_emb_A = tf.nn.embedding_lookup(self.A_1, stories)\n",
        "                    print('m_emb_A', m_emb_A)\n",
        "                    m_A = tf.reduce_sum(m_emb_A * self._encoding, 2)\n",
        "                    print('m_A', m_A)\n",
        "\n",
        "\n",
        "                else:\n",
        "                    with tf.variable_scope('hop_{}'.format(hopn - 1)):\n",
        "                        m_emb_A = tf.nn.embedding_lookup(self.C[hopn - 1], stories)\n",
        "                        m_A = tf.reduce_sum(m_emb_A * self._encoding, 2)\n",
        "\n",
        "                # hack to get around no reduce_dot\n",
        "                u_temp = tf.transpose(tf.expand_dims(u[-1], -1), [0, 2, 1])\n",
        "                dotted = tf.reduce_sum(m_A * u_temp, 2)\n",
        "\n",
        "                print('u_temp', u_temp)\n",
        "                print('dotted', dotted)\n",
        "\n",
        "                # Calculate probabilities\n",
        "                probs = tf.nn.softmax(dotted)\n",
        "                print('probs', probs)\n",
        "                att_v.append(probs)\n",
        "                return probs, tf.stack(att_v)\n",
        "\n",
        "    def _inference_position(self, stories, queries, positions=[2, 7]):\n",
        "\n",
        "        with tf.variable_scope(self._name):\n",
        "            p1 = [i - positions[0] for i in range(0, self._sentence_size)]\n",
        "            p2 = [i - positions[1] for i in range(0, self._sentence_size)]\n",
        "\n",
        "            # Use A_1 for thee question embedding as per Adjacent Weight Sharing\n",
        "            q_emb = tf.nn.embedding_lookup(self.A_1, queries)\n",
        "            print('q_emb:', q_emb)\n",
        "            print('self._encoding', self._encoding)\n",
        "            u_0 = tf.reduce_sum(q_emb * self._encoding, 1)\n",
        "            print('u_0:', u_0)\n",
        "            u = [u_0]\n",
        "\n",
        "            for hopn in range(self._hops):\n",
        "                if hopn == 0:\n",
        "                    m_emb_A = tf.nn.embedding_lookup(self.A_1, stories)\n",
        "\n",
        "                    print('m_emb_A', m_emb_A)\n",
        "                    m_A = tf.reduce_sum(m_emb_A * self._encoding, 2)\n",
        "                    print('m_A', m_A)\n",
        "\n",
        "\n",
        "                else:\n",
        "                    with tf.variable_scope('hop_{}'.format(hopn - 1)):\n",
        "                        m_emb_A = tf.nn.embedding_lookup(self.C[hopn - 1], stories)\n",
        "                        m_A = tf.reduce_sum(m_emb_A * self._encoding, 2)\n",
        "\n",
        "                # hack to get around no reduce_dot\n",
        "                u_temp = tf.transpose(tf.expand_dims(u[-1], -1), [0, 2, 1])\n",
        "                dotted = tf.reduce_sum(m_A * u_temp, 2)\n",
        "\n",
        "                print('u_temp', u_temp)\n",
        "                print('dotted', dotted)\n",
        "\n",
        "                # Calculate probabilities\n",
        "                probs = tf.nn.softmax(dotted)\n",
        "                print('probs', probs)\n",
        "\n",
        "                probs_temp = tf.transpose(tf.expand_dims(probs, -1), [0, 2, 1])\n",
        "                print('probs_temp', probs_temp)\n",
        "                with tf.variable_scope('hop_{}'.format(hopn)):\n",
        "                    m_emb_C = tf.nn.embedding_lookup(self.C[hopn], stories)\n",
        "                    print('m_emb_C', m_emb_C)\n",
        "                m_C = tf.reduce_sum(m_emb_C * self._encoding, 2)\n",
        "                print('m_C', m_C)\n",
        "\n",
        "                c_temp = tf.transpose(m_C, [0, 2, 1])\n",
        "                print('c_temp', c_temp)\n",
        "                o_k = tf.reduce_sum(c_temp * probs_temp, 2)\n",
        "                print('o_k', o_k)\n",
        "\n",
        "                # Dont use projection layer for adj weight sharing\n",
        "                # u_k = tf.matmul(u[-1], self.H) + o_k\n",
        "\n",
        "                u_k = u[-1] + o_k\n",
        "                print('u_k', u_k)\n",
        "\n",
        "                # nonlinearity\n",
        "                if self._nonlin:\n",
        "                    u_k = nonlin(u_k)\n",
        "\n",
        "                print('u_k', u_k)\n",
        "                u.append(u_k)\n",
        "\n",
        "            # Use last C for output (transposed)\n",
        "            with tf.variable_scope('hop_{}'.format(self._hops)):\n",
        "                print('self.C', self.C)\n",
        "                print('final', tf.matmul(u_k, tf.transpose(self.C[-1], [1, 0])))\n",
        "                return tf.matmul(u_k, tf.transpose(self.C[-1], [1, 0]))\n",
        "\n",
        "    def _inference_out(self, stories, queries):\n",
        "        with tf.variable_scope(self._name):\n",
        "            # Use A_1 for thee question embedding as per Adjacent Weight Sharing\n",
        "            q_emb = tf.nn.embedding_lookup(self.A_1, queries)\n",
        "            u_0 = tf.reduce_sum(q_emb * self._encoding, 1)\n",
        "            u = [u_0]\n",
        "\n",
        "            for hopn in range(self._hops):\n",
        "                if hopn == 0:\n",
        "                    m_emb_A = tf.nn.embedding_lookup(self.A_1, stories)\n",
        "                    m_A = tf.reduce_sum(m_emb_A * self._encoding, 2)\n",
        "\n",
        "                else:\n",
        "                    with tf.variable_scope('hop_{}'.format(hopn - 1)):\n",
        "                        m_emb_A = tf.nn.embedding_lookup(self.C[hopn - 1], stories)\n",
        "                        m_A = tf.reduce_sum(m_emb_A * self._encoding, 2)\n",
        "\n",
        "                # hack to get around no reduce_dot\n",
        "                u_temp = tf.transpose(tf.expand_dims(u[-1], -1), [0, 2, 1])\n",
        "                dotted = tf.reduce_sum(m_A * u_temp, 2)\n",
        "\n",
        "                # Calculate probabilities\n",
        "                probs = tf.nn.softmax(dotted)\n",
        "\n",
        "                probs_temp = tf.transpose(tf.expand_dims(probs, -1), [0, 2, 1])\n",
        "                with tf.variable_scope('hop_{}'.format(hopn)):\n",
        "                    m_emb_C = tf.nn.embedding_lookup(self.C[hopn], stories)\n",
        "                m_C = tf.reduce_sum(m_emb_C * self._encoding, 2)\n",
        "\n",
        "                c_temp = tf.transpose(m_C, [0, 2, 1])\n",
        "                o_k = tf.reduce_sum(c_temp * probs_temp, 2)\n",
        "\n",
        "                # Dont use projection layer for adj weight sharing\n",
        "                # u_k = tf.matmul(u[-1], self.H) + o_k\n",
        "\n",
        "                u_k = u[-1] + o_k\n",
        "\n",
        "                # nonlinearity\n",
        "                if self._nonlin:\n",
        "                    u_k = nonlin(u_k)\n",
        "\n",
        "                u.append(u_k)\n",
        "\n",
        "            # Use last C for output (transposed)\n",
        "            with tf.variable_scope('hop_{}'.format(self._hops)):\n",
        "                memNNOut = tf.matmul(u_k, tf.transpose(self.C[-1], [1, 0]))\n",
        "\n",
        "    def batch_fit(self, stories, queries, answers, learning_rate):\n",
        "        \"\"\"Runs the training algorithm over the passed batch\n",
        "\n",
        "        Args:\n",
        "            stories: Tensor (None, memory_size, sentence_size)\n",
        "            queries: Tensor (None, sentence_size)\n",
        "            answers: Tensor (None, vocab_size)\n",
        "\n",
        "        Returns:\n",
        "            loss: floating-point number, the loss computed for the batch\n",
        "        \"\"\"\n",
        "        feed_dict = {self._stories: stories, self._queries: queries, self._answers: answers, self._lr: learning_rate}\n",
        "        loss, _ = self._sess.run([self.loss_op, self.train_op], feed_dict=feed_dict)\n",
        "        return loss\n",
        "\n",
        "    def predict(self, stories, queries):\n",
        "        \"\"\"Predicts answers as one-hot encoding.\n",
        "\n",
        "        Args:\n",
        "            stories: Tensor (None, memory_size, sentence_size)\n",
        "            queries: Tensor (None, sentence_size)\n",
        "\n",
        "        Returns:\n",
        "            answers: Tensor (None, vocab_size)\n",
        "        \"\"\"\n",
        "\n",
        "        feed_dict = {self._stories: stories, self._queries: queries}\n",
        "        # print('op',self._sess.run(self.predict_op, feed_dict=feed_dict))\n",
        "        # print('att',self._sess.run(self.predict_att, feed_dict=feed_dict))\n",
        "        aaaa = self._sess.run(self.predict_att, feed_dict=feed_dict)\n",
        "\n",
        "        return self._sess.run(self.predict_op, feed_dict=feed_dict), aaaa\n",
        "\n",
        "    # edit\n",
        "    def predict_out(self, stories, queries):\n",
        "        \"\"\"Predicts answers as one-hot encoding.\n",
        "\n",
        "        Args:\n",
        "            stories: Tensor (None, memory_size, sentence_size)\n",
        "            queries: Tensor (None, sentence_size)\n",
        "\n",
        "        Returns:\n",
        "            answers: Tensor (None, vocab_size)\n",
        "        \"\"\"\n",
        "        feed_dict = {self._stories: stories, self._queries: queries}\n",
        "        return self._sess.run(self.predict_out, feed_dict=feed_dict)\n",
        "\n",
        "    def predict_proba(self, stories, queries):\n",
        "        \"\"\"Predicts probabilities of answers.\n",
        "\n",
        "        Args:\n",
        "            stories: Tensor (None, memory_size, sentence_size)\n",
        "            queries: Tensor (None, sentence_size)\n",
        "\n",
        "        Returns:\n",
        "            answers: Tensor (None, vocab_size)\n",
        "        \"\"\"\n",
        "        feed_dict = {self._stories: stories, self._queries: queries}\n",
        "        return self._sess.run(self.predict_proba_op, feed_dict=feed_dict)\n",
        "\n",
        "    def predict_log_proba(self, stories, queries):\n",
        "        \"\"\"Predicts log probabilities of answers.\n",
        "\n",
        "        Args:\n",
        "            stories: Tensor (None, memory_size, sentence_size)\n",
        "            queries: Tensor (None, sentence_size)\n",
        "        Returns:\n",
        "            answers: Tensor (None, vocab_size)\n",
        "        \"\"\"\n",
        "        feed_dict = {self._stories: stories, self._queries: queries}\n",
        "        return self._sess.run(self.predict_log_proba_op, feed_dict=feed_dict)\n",
        "\n",
        "    def predict_att(self, stories, queries):\n",
        "        \"\"\"Predicts log probabilities of answers.\n",
        "\n",
        "        Args:\n",
        "            stories: Tensor (None, memory_size, sentence_size)\n",
        "            queries: Tensor (None, sentence_size)\n",
        "        Returns:\n",
        "            answers: Tensor (None, vocab_size)\n",
        "        \"\"\"\n",
        "        feed_dict = {self._stories: stories, self._queries: queries}\n",
        "        return self._sess.run(self.predict_att, feed_dict=feed_dict)\n"
      ],
      "execution_count": 0,
      "outputs": []
    },
    {
      "cell_type": "code",
      "metadata": {
        "id": "6HCnU_FCj4Eb",
        "colab_type": "code",
        "outputId": "7b86946c-802c-442f-d794-b062d986b4d2",
        "colab": {
          "base_uri": "https://localhost:8080/",
          "height": 1000
        }
      },
      "source": [
        "print(\"Started Task:\", 1)\n",
        "\n",
        "# uploaded = files.upload()\n",
        "# for name, data in uploaded.items():\n",
        "#   print (name)\n",
        "\n",
        "# a = b\n",
        "learning_rate = 0.001#0.1\n",
        "anneal_rate = 10\n",
        "anneal_stop_epoch = 100 #100\n",
        "max_grad_norm=40.0\n",
        "evaluation_interval=10\n",
        "batch_size=32\n",
        "hops=3\n",
        "epochs=100\n",
        "embedding_size=200\n",
        "memory_size=40\n",
        "task_id=1\n",
        "random_state=10\n",
        "\n",
        "\n",
        "# train_data = open('true_data_list.txt','r').readlines()\n",
        "train_data2 = open('unary_fact_ext','r').readlines()\n",
        "\n",
        "\n",
        "# train_data = train_data[:10000]\n",
        "# train_data  = train_data.split('\\n')\n",
        "\n",
        "# task data\n",
        "train2, test2 = load_task3(train_data2)\n",
        "\n",
        "train_data = None\n",
        "# data = train + test\n",
        "data2 = train2 + test2\n",
        "\n",
        "\n",
        "# all should be individual 1d lists, not [[]] type\n",
        "vocab = sorted(reduce(lambda x, y: x | y, (set(list(s) + q + a) for s, q, a, _ in data2)))\n",
        "vocab.extend(keyword_dict.keys())\n",
        "\n",
        "edata = [tokenize(p.replace('\\n','')) for p in evaluate_data]\n",
        "edata = [item for sublist in edata for item in sublist]\n",
        "vocab.extend(edata)\n",
        "\n",
        "edata = [tokenize(p.replace('\\n','')) for p in evaluate_rules]\n",
        "edata = [item for sublist in edata for item in sublist]\n",
        "vocab.extend(edata)\n",
        "\n",
        "vocab = list(set(vocab))\n",
        "edata= None\n",
        "word_idx = dict((c, i + 1) for i, c in enumerate(vocab))\n",
        "\n",
        "max_story_size = max(map(len, (s for s, _, _, _ in data2)))\n",
        "mean_story_size = int(np.mean([ len(s) for s, _, _, _ in data2 ]))\n",
        "sentence_size = 1\n",
        "query_size = max(map(len, (q for _, q, _, _ in data2)))\n",
        "memory_size = min(memory_size, max_story_size)\n",
        "\n",
        "print('word_ids', len(word_idx))\n",
        "# Add time words/indexes\n",
        "for i in range(memory_size*2):\n",
        "    word_idx['time{}'.format(i+1)] = 'time{}'.format(i+1)\n",
        "print('word_ids2', len(word_idx))\n",
        "    \n",
        "\n",
        "vocab_size = len(word_idx) + 1 # +1 for nil word\n",
        "sentence_size = max(query_size, sentence_size) # for the position\n",
        "sentence_size += 1  # +1 for time words\n",
        "\n",
        "print(\"Longest sentence length\", sentence_size)\n",
        "print(\"Longest story length\", max_story_size)\n",
        "print(\"Average story length\", mean_story_size)\n",
        "\n",
        "!free -g\n",
        "\n",
        "# train/validation/test sets\n",
        "# S, Q, A = vectorize_datas(train, word_idx, sentence_size, memory_size)\n",
        "S2, Q2, A2 = vectorize_datas(train2, word_idx, sentence_size, memory_size)\n",
        "\n",
        "\n",
        "!free -g\n",
        "# trainS, valS, trainQ, valQ, trainA, valA = cross_validation.train_test_split(S, Q, A, test_size=.1, random_state=random_state)\n",
        "# trainS = S\n",
        "# trainQ = Q\n",
        "# trainA = A\n",
        "# S = Q = A = None\n",
        "# testS, testQ, testA = vectorize_datas(test, word_idx, sentence_size, memory_size)\n",
        "\n",
        "# trainS2, valS2, trainQ2, valQ2, trainA2, valA2 = cross_validation.train_test_split(S2, Q2, A2, test_size=.1, random_state=random_state)\n",
        "trainS2 = S2\n",
        "trainQ2 = Q2\n",
        "trainA2 = A2\n",
        "S2 = Q2 = A2 = None\n",
        "testS2, testQ2, testA2 = vectorize_datas(test2, word_idx, sentence_size, memory_size)\n",
        "\n",
        "trainS2shape = np.array(trainS2).shape\n",
        "testS2shape = np.array(testS2).shape\n",
        "\n",
        "# print(testS2[0])\n",
        "\n",
        "print(\"Training set shape\", trainS2shape)\n",
        "\n",
        "# params\n",
        "n_train = trainS2shape[0]\n",
        "n_test = testS2shape[0]\n",
        "# n_val = valS2.shape[0]\n",
        "\n",
        "print(\"Training Size\", n_train)\n",
        "# print(\"Validation Size\", n_val)\n",
        "print(\"Testing Size\", n_test)\n",
        "\n",
        "print(\"Training labels shape\", trainA2.shape)\n",
        "\n",
        "train_labels2 = np.argmax(trainA2.reshape(-1,memory_size),axis=1)\n",
        "# np.argmax(trainA, axis=1)\n",
        "# np.array(np.argmax(trainA.reshape(2,-1,vocab_size),axis=2)).reshape(-1,2)\n",
        "print('train_labels',train_labels2.shape,'\\n',train_labels2[0])\n",
        "\n",
        "# trainA = trainA.reshape(-1,vocab_size)\n",
        "# test_labels = np.array(np.argmax(testA.reshape(-1,vocab_size),axis=1))\n",
        "# val_labels = np.array(np.argmax(valA.reshape(-1,vocab_size),axis=1))\n",
        "\n",
        "trainA2 = trainA2.reshape(-1,memory_size)\n",
        "test_labels2 = np.array(np.argmax(testA2.reshape(-1,memory_size),axis=1))\n",
        "# val_labels2 = np.array(np.argmax(valA2.reshape(-1,vocab_size),axis=1))\n",
        "\n",
        "\n",
        "tf.set_random_seed(random_state)\n",
        "\n",
        "batches = zip(range(0, n_train-batch_size, batch_size), range(batch_size, n_train, batch_size))\n",
        "batches = [(start, end) for start, end in batches]\n",
        "\n",
        "batches2 = zip(range(0, n_train-batch_size, batch_size), range(batch_size, n_train, batch_size))\n",
        "batches2 = [(start, end) for start, end in batches]\n",
        "\n",
        "\n",
        "model = None\n",
        "val_acc_list = list()\n",
        "train_acc_list = list()\n",
        "ep_list= list()\n",
        "\n",
        "val_acc_list2 = list()\n",
        "train_acc_list2 = list()\n",
        "ep_list2 = list()\n",
        "lr_list = list()\n",
        "\n",
        "tf.reset_default_graph()\n",
        "sess2 = tf.Session()\n",
        "\n",
        "# with tf.Session() as sess:\n",
        "print ('batch_size, vocab_size, sentence_size, memory_size, embedding_size, hops, max_grad_norm\\n',batch_size, vocab_size, sentence_size, memory_size, embedding_size, hops, max_grad_norm)\n",
        "model2 = MemN2N(batch_size, vocab_size, sentence_size, memory_size, embedding_size, session=sess2,\n",
        "               hops=hops, max_grad_norm=max_grad_norm)\n",
        "     \n",
        "\n",
        "train_acc2 = 0.0    \n",
        "# multiple word\n",
        "for t in range(1, epochs+1):\n",
        "    # Stepped learning rate\n",
        "#     if t - 1 <= anneal_stop_epoch:\n",
        "#         anneal = 2.0 ** ((t - 1) // anneal_rate)\n",
        "#     else:\n",
        "#         anneal = 2.0 ** (anneal_stop_epoch // anneal_rate)\n",
        "    anneal = 1.0    \n",
        "    lr = learning_rate / anneal\n",
        "    \n",
        "    np.random.shuffle(batches)\n",
        "    total_cost2 = 0.0\n",
        "    \n",
        "    for start, end in batches:\n",
        "        s2 = trainS2[start:end]\n",
        "        q2 = trainQ2[start:end]\n",
        "        a2 = trainA2[start:end]\n",
        "\n",
        "#         print('s2', s2)\n",
        "        cost_t2 = model2.batch_fit(s2, q2, a2, lr)\n",
        "        total_cost2 += cost_t2\n",
        "        \n",
        "\n",
        "    if t % evaluation_interval == 0:\n",
        "        train_preds2 = []\n",
        "        for start in range(0, n_train, batch_size):\n",
        "            end = start + batch_size\n",
        "            s2 = trainS2[start:end]\n",
        "            q2 = trainQ2[start:end]\n",
        "#             pred2 = model2.predict(s, q)\n",
        "\n",
        "            if(len(s2)!=batch_size):\n",
        "              continue\n",
        "\n",
        "            pred2, att = model2.predict(s2, q2)\n",
        "            train_preds2 += list(pred2)\n",
        "#             print('train_preds\\n',train_preds[:5] )\n",
        "#             print('train_labels\\n',train_labels[:5])\n",
        "\n",
        "        train_acc2 = metrics.accuracy_score(np.array(train_preds2), train_labels2[:len(train_preds2)])\n",
        "        train_acc_list2.append(train_acc2)  \n",
        "        test_preds2, att =  model2.predict(testS2, testQ2)       \n",
        "        val_acc2 = metrics.accuracy_score(test_preds2, test_labels2)\n",
        "        val_acc_list2.append(val_acc2)  \n",
        "        ep_list2.append(t)\n",
        "\n",
        "\n",
        "\n",
        "test_preds2, att = model2.predict(testS2, testQ2)\n",
        "test_acc2 = metrics.accuracy_score(test_preds2, test_labels2)\n",
        "print(\"Testing Accuracy:\", train_acc2, test_acc2)\n",
        "\n",
        "# tp,fp, tn, fn = evaluate(evaluate_data, keyword_dict)\n",
        "# precison = 1.0*tp/(tp+fp)\n",
        "# print(tp,fp, tn, fn,precison)  \n",
        "\n",
        "mpl.pyplot.scatter(ep_list2,train_acc_list2)\n",
        "mpl.pyplot.show()\n",
        "\n",
        "mpl.pyplot.scatter(ep_list2,val_acc_list2)\n",
        "mpl.pyplot.show()\n",
        "\n",
        "  \n"
      ],
      "execution_count": 0,
      "outputs": [
        {
          "output_type": "stream",
          "text": [
            "Started Task: 1\n",
            "In circle O , diameter AB is perpendicular to chord CD at E .##circle O\n",
            "In circle O , diameter AB is perpendicular to chord CD at E .##diameter AB\n",
            "In circle O , diameter AB is perpendicular to chord CD at E .##chord CD\n",
            "If @s_0 holds and @s_1 holds , find AE .##find AE\n",
            "The diagram below illustrates the construction of line PS parallel to line RQ through point P .##line PS\n",
            "The diagram below illustrates the construction of line PS parallel to line RQ through point P .##line RQ\n",
            "The diagram below illustrates the construction of line PS parallel to line RQ through point P .##point P\n",
            "In the diagram below of triangle ABC , D is a point on line AB , @s_0 holds , @s_1 holds , and @s_2 holds .##line AB\n",
            "In the diagram below of triangle ABC , D is a point on line AB , @s_0 holds , @s_1 holds , and @s_2 holds .##triangle ABC\n",
            "In the diagram below of triangle ABC , D is a point on line AB , @s_0 holds , @s_1 holds , and @s_2 holds .##point D\n",
            "Which of the following could be the length of line DB ?##line DB\n",
            "In triangle ABC , line DE is parallel with line AC , @s_0 holds , @s_1 holds , and @s_2 holds .##line AC\n",
            "In triangle ABC , line DE is parallel with line AC , @s_0 holds , @s_1 holds , and @s_2 holds .##line DE\n",
            "In triangle ABC , line DE is parallel with line AC , @s_0 holds , @s_1 holds , and @s_2 holds .##triangle ABC\n",
            "Find AC .##Find AC\n",
            "The diagram at the right is a construction involving angle ABC .##angle ABC\n",
            "The area of rectangle ABCD above is 168 .##rectangle ABCD\n",
            "What is the length of segment AC ?##segment AC\n",
            "In the rhombus PQRS , @s_0 holds and @s_1 holds .##rhombus PQRS\n",
            "If @s_0 holds , @s_1 holds , and @s_2 holds , find AB .##find AB\n",
            "In triangle ABC , line BC is extended to E , and D is a point on line BC .##line BC\n",
            "In triangle ABC , line BC is extended to E , and D is a point on line BC .##triangle ABC\n",
            "In triangle ABC , line BC is extended to E , and D is a point on line BC .##point D\n",
            "In triangle ABC , line BC is extended to E , and D is a point on line BC .##line BC\n",
            "In the accompanying diagram of right triangle ABC , altitude AD divides hypotenuse BC into segments with lenghts of 4 and 5 .##triangle ABC\n",
            "In the accompanying diagram of right triangle ABC , altitude AD divides hypotenuse BC into segments with lenghts of 4 and 5 .##hypotenuse BC\n",
            "In the accompanying diagram of right triangle ABC , altitude AD divides hypotenuse BC into segments with lenghts of 4 and 5 .##altitude AD\n",
            "Find the length of leg AB .##leg AB\n",
            "In the accompanying diagram , line AB is parallel with line CD and line FHE , @s_0 holds , and @s_1 holds .##line CD\n",
            "In the accompanying diagram , line AB is parallel with line CD and line FHE , @s_0 holds , and @s_1 holds .##line FHE\n",
            "In the accompanying diagram , line AB is parallel with line CD and line FHE , @s_0 holds , and @s_1 holds .##line AB\n",
            "Find the measure of angle HGD .##angle HGD\n",
            "In the accompanying diagram , line PQ and line PS are tangents drawn to circle O , and chord QS is drawn .##chord QS\n",
            "In the accompanying diagram , line PQ and line PS are tangents drawn to circle O , and chord QS is drawn .##line PS\n",
            "In the accompanying diagram , line PQ and line PS are tangents drawn to circle O , and chord QS is drawn .##line PQ\n",
            "In the accompanying diagram , line PQ and line PS are tangents drawn to circle O , and chord QS is drawn .##circle O\n",
            "If the measure of angle P is equal to 40 , what is the measure of angle PQS ?##angle PQS\n",
            "If the measure of angle P is equal to 40 , what is the measure of angle PQS ?##angle P\n",
            "Rectangle ABCD is subdivided into two identical square regions , as in the figure above .##Rectangle ABCD\n",
            "If the area of each square is 9 , what is the perimeter of ABCD ?##perimeter ABCD\n",
            "In the triangle above , what is the average of x , y , and z ?##average x\n",
            "In the triangle above , what is the average of x , y , and z ?##average y\n",
            "In the triangle above , what is the average of x , y , and z ?##average z\n",
            "In the accompanying diagram of circle O , chords AB and CD intersect at E and @s_0 holds .##circle O\n",
            "In the accompanying diagram of circle O , chords AB and CD intersect at E and @s_0 holds .##chords AB\n",
            "In the accompanying diagram of circle O , chords AB and CD intersect at E and @s_0 holds .##chords CD\n",
            "What is measure of the angle DEB ?##angle DEB\n",
            "The diagram at the right shows the construction of a perpendicular , line PX , to a line l from point P .##line l\n",
            "The diagram at the right shows the construction of a perpendicular , line PX , to a line l from point P .##point P\n",
            "The diagram at the right shows the construction of a perpendicular , line PX , to a line l from point P .##line PX\n",
            "The arc drawn from point P intersects line l at A and B , and the arcs drawn from points A and B intersect line PX at C .##line l\n",
            "The arc drawn from point P intersects line l at A and B , and the arcs drawn from points A and B intersect line PX at C .##points A\n",
            "The arc drawn from point P intersects line l at A and B , and the arcs drawn from points A and B intersect line PX at C .##points B\n",
            "The arc drawn from point P intersects line l at A and B , and the arcs drawn from points A and B intersect line PX at C .##points C\n",
            "The arc drawn from point P intersects line l at A and B , and the arcs drawn from points A and B intersect line PX at C .##point P\n",
            "The arc drawn from point P intersects line l at A and B , and the arcs drawn from points A and B intersect line PX at C .##line PX\n",
            "Find the value of x .##value x\n",
            "Given Circle O with diameter CD .##Circle O\n",
            "Given Circle O with diameter CD .##diameter CD\n",
            "Find x .##Find x\n",
            "In the accompanying diagram , tangent AB and secant AD are drawn to circle O from point A , @s_0 holds and @s_1 holds .##circle O\n",
            "In the accompanying diagram , tangent AB and secant AD are drawn to circle O from point A , @s_0 holds and @s_1 holds .##point A\n",
            "In the accompanying diagram , tangent AB and secant AD are drawn to circle O from point A , @s_0 holds and @s_1 holds .##tangent AB\n",
            "In the accompanying diagram , tangent AB and secant AD are drawn to circle O from point A , @s_0 holds and @s_1 holds .##secant AD\n",
            "Find AD .##Find AD\n",
            "In the accompanying diagram of circle O , the measure of angle ABC is @v_0 and the measure of arc AC is @v_1 .##angle ABC\n",
            "In the accompanying diagram of circle O , the measure of angle ABC is @v_0 and the measure of arc AC is @v_1 .##circle O\n",
            "In the accompanying diagram of circle O , the measure of angle ABC is @v_0 and the measure of arc AC is @v_1 .##arc AC\n",
            "Find the value of x .##value x\n",
            "In the diagram at the right , secant AB intersects circle O at D , secant AC intersects circle O at E , @s_0 holds , @s_1 holds , and @s_2 holds .##circle O\n",
            "In the diagram at the right , secant AB intersects circle O at D , secant AC intersects circle O at E , @s_0 holds , @s_1 holds , and @s_2 holds .##secant AC\n",
            "In the diagram at the right , secant AB intersects circle O at D , secant AC intersects circle O at E , @s_0 holds , @s_1 holds , and @s_2 holds .##secant AB\n",
            "Find AD .##Find AD\n",
            "Semicircular arcs AO and OB divide the circle above with center O into two regions .##arcs AO\n",
            "Semicircular arcs AO and OB divide the circle above with center O into two regions .##arcs OB\n",
            "Semicircular arcs AO and OB divide the circle above with center O into two regions .##center O\n",
            "If the length of diameter AB is 12 , what is the area of the shaded region ?##diameter AB\n",
            "Find x .##Find x\n",
            "In the figure above , line AC is a diameter of the large circle and B lies on line AC so that line AB is a diameter of the small circle .##line AC\n",
            "In the figure above , line AC is a diameter of the large circle and B lies on line AC so that line AB is a diameter of the small circle .##line AB\n",
            "If the measure of angle ACD is 48 , find the measure of angle B .##angle B\n",
            "If the measure of angle ACD is 48 , find the measure of angle B .##angle ACD\n",
            "What is the value of x ?##value x\n",
            "Find the measure of angle DBC .##angle DBC\n",
            "In the accompanying diagram , line FG is parallel with line HI and line BC and line AD intersects at E , @s_0 holds , and @s_1 holds .##line HI\n",
            "In the accompanying diagram , line FG is parallel with line HI and line BC and line AD intersects at E , @s_0 holds , and @s_1 holds .##line BC\n",
            "In the accompanying diagram , line FG is parallel with line HI and line BC and line AD intersects at E , @s_0 holds , and @s_1 holds .##line FG\n",
            "In the accompanying diagram , line FG is parallel with line HI and line BC and line AD intersects at E , @s_0 holds , and @s_1 holds .##line AD\n",
            "What is the value of x ?##value x\n",
            "Points A , B , C , and D are midpoints of the sides of square JETS .##square JETS\n",
            "Points A , B , C , and D are midpoints of the sides of square JETS .##Points A\n",
            "Points A , B , C , and D are midpoints of the sides of square JETS .##Points B\n",
            "Points A , B , C , and D are midpoints of the sides of square JETS .##Points C\n",
            "Points A , B , C , and D are midpoints of the sides of square JETS .##Points D\n",
            "If the area of JETS is 36 , what is the area of ABCD ?##area JETS\n",
            "If the area of JETS is 36 , what is the area of ABCD ?##area ABCD\n",
            "What is the degree measure of x ?##measure x\n",
            "In the accompanying diagram of rectangle ABCD , the measure of angle ABE is 30 and the measure of angle CFE is 144 .##rectangle ABCD\n",
            "n the accompanying diagram of rectangle ABCD , the measure of angle ABE is 30 and the measure of angle CFE is 144 .##angle CFE\n",
            "In the accompanying diagram of rectangle ABCD , the measure of angle ABE is 30 and the measure of angle CFE is 144 .##angle ABE\n",
            "Find the measure of angle BEF .##angle BEF\n",
            "In the diagram at the right , lines x and y are parallel and are cut by transversal t .##lines x\n",
            "In the diagram at the right , lines x and y are parallel and are cut by transversal t .##lines y\n",
            "In the diagram at the right , lines x and y are parallel and are cut by transversal t .##transversal t\n",
            "In the diagram at the right , line x is parallel to line z , and line t is a transversal .##line z\n",
            "In the diagram at the right , line x is parallel to line z , and line t is a transversal .##line t\n",
            "In the diagram at the right , line x is parallel to line z , and line t is a transversal .##lines x\n",
            "In the diagram at the right , lines f and g are parallel , and lines x and y are parallel .##lines x\n",
            "In the diagram at the right , lines f and g are parallel , and lines x and y are parallel .##lines y\n",
            "In the diagram at the right , lines f and g are parallel , and lines x and y are parallel .##lines f\n",
            "In the diagram at the right , lines f and g are parallel , and lines x and y are parallel .##lines a\n",
            "What is the measure of angle DAE ?##angle DAE\n",
            "In the accompanying diagram of rhombus ABCD , the measure of angle CAB is 35 .##angle CAB\n",
            "In the accompanying diagram of rhombus ABCD , the measure of angle CAB is 35 .##rhombus ABCD\n",
            "Find the measure of angle CDA .##angle CDA\n",
            "What is the area of triangle AEC ?##triangle AEC\n",
            "Which of the following could be a value of x , in the diagram above ?##value x\n",
            "ABCD is a square with side 3 , and E and F are the midpoints of sides AB and BC respectively .##sides AB\n",
            "ABCD is a square with side 3 , and E and F are the midpoints of sides AB and BC respectively .##sides BC\n",
            "ABCD is a square with side 3 , and E and F are the midpoints of sides AB and BC respectively .##square ABCD\n",
            "ABCD is a square with side 3 , and E and F are the midpoints of sides AB and BC respectively .##midpoints E\n",
            "ABCD is a square with side 3 , and E and F are the midpoints of sides AB and BC respectively .##midpoints F\n",
            "What is the area of the quadrilateral EBFD ?##quadrilateral EBFD\n",
            "If the radius of the circle with centre O is 7 and the measure of angle AOB is 100 , what is the the length of arc AB ?##angle AOB\n",
            "If the radius of the circle with centre O is 7 and the measure of angle AOB is 100 , what is the the length of arc AB ?##arc AB\n",
            "The angles of triangle BCD are all equal .##triangle BCD\n",
            "What is the ratio of the area of triangle QST to the area of the parallelogram ?##triangle QST\n",
            "How many circles can be drawn with their centers on line l and that pass through both A and B ?##line l\n",
            "If triangle ABC in the figure above is an equilateral triangle and D is a right angle , find the value of x .##value x\n",
            "If triangle ABC in the figure above is an equilateral triangle and D is a right angle , find the value of x .##angle D\n",
            "If triangle ABC in the figure above is an equilateral triangle and D is a right angle , find the value of x .##triangle ABC\n",
            "In triangle ABC , @s_0 holds , DE is parallel to BC , and the area of triangle ABC is 40 .##triangle ABC\n",
            "What is the area of triangle ADE ?##triangle ADE\n",
            "Rectangle ABCD has a perimeter of 26 .##Rectangle ABCD\n",
            "The measure of angle BAC is 30 , and the measure of angle CDE is 50 .##angle BAC\n",
            "The measure of angle BAC is 30 , and the measure of angle CDE is 50 .##angle CDE\n",
            "What is the measure of angle ACD ?##angle ACD\n",
            "What is the length of the arc AB ?##arc AB\n",
            "What is the value of b in the figure above ?##value b\n",
            "What is the area of the following square , if the length of BD is @v_0 ?##length BD\n",
            "In the figure below , what is the value of y ?##value y\n",
            "The square ABCD touches the circle at 4 points .##square ABCD\n",
            "TIn the figure above , line BE is perpendicular to line AD and line CF is perpendicular to line AD and @s_0 holds .##line AD\n",
            "In the figure above , line BE is perpendicular to line AD and line CF is perpendicular to line AD and @s_0 holds .##line CF\n",
            "In the figure above , line BE is perpendicular to line AD and line CF is perpendicular to line AD and @s_0 holds .##line BE\n",
            "What is the value of x ?##value x\n",
            "In the figure above , if the measure of angle AOB is @v_0 and the length of arc AB is @v_1 , what is the area of the sector AOB ?##sector AOB\n",
            "In the figure above , if the measure of angle AOB is @v_0 and the length of arc AB is @v_1 , what is the area of the sector AOB ?##arc AB\n",
            "In the figure above , if the measure of angle AOB is @v_0 and the length of arc AB is @v_1 , what is the area of the sector AOB ?##angle AOB\n",
            "If the measure of @s_0 holds , @s_1 holds , @s_2 holds , and @s_3 holds , then what is the value of x ?##value x\n",
            "What is the length of line AB in the figure above if line BC is the radius of the circle and line AB is tangent to the circle ?##line BC\n",
            "What is the length of line AB in the figure above if line BC is the radius of the circle and line AB is tangent to the circle ?##line AB\n",
            "In the diagram above , lines EF and GH are parallel , and line AB is perpendicular to lines EF and GH .##lines EF\n",
            "In the diagram above , lines EF and GH are parallel , and line AB is perpendicular to lines EF and GH .##line AB\n",
            "In the diagram above , lines EF and GH are parallel , and line AB is perpendicular to lines EF and GH .##lines GH\n",
            "What is the length of line AB ?##line AB\n",
            "What is the area of triangle AFB ?##triangle AFB\n",
            "In the diagram above , line OA is congruent to line OB .##line OB\n",
            "In the diagram above , line OA is congruent to line OB .##line OA\n",
            "What is the measure of arc CD ?##arc CD\n",
            "In the diagram above , angle A is congruent to angle BED , and angle C is congruent to angle D .##angle BED\n",
            "In the diagram above , angle A is congruent to angle BED , and angle C is congruent to angle D .##angle C\n",
            "In the diagram above , angle A is congruent to angle BED , and angle C is congruent to angle D .##angle A\n",
            "In the diagram above , angle A is congruent to angle BED , and angle C is congruent to angle D .##angle D\n",
            "If the ratio of the length of AB to the length of EB is @v_0 , and the area of the triangle BED is @v_1 , what is the area of triangle ABC ?##triangle ABC\n",
            "If the ratio of the length of AB to the length of EB is @v_0 , and the area of the triangle BED is @v_1 , what is the area of triangle ABC ?##area BED\n",
            "If the ratio of the length of AB to the length of EB is @v_0 , and the area of the triangle BED is @v_1 , what is the area of triangle ABC ?##length AB\n",
            "If the ratio of the length of AB to the length of EB is @v_0 , and the area of the triangle BED is @v_1 , what is the area of triangle ABC ?##area ABC\n",
            "If the ratio of the length of AB to the length of EB is @v_0 , and the area of the triangle BED is @v_1 , what is the area of triangle ABC ?##triangle BED\n",
            "If the ratio of the length of AB to the length of EB is @v_0 , and the area of the triangle BED is @v_1 , what is the area of triangle ABC ?##length EB\n",
            "In the diagram above , lines K and L are parallel , and lines M and N are parallel .##lines M\n",
            "In the diagram above , lines K and L are parallel , and lines M and N are parallel .##lines N\n",
            "In the diagram above , lines K and L are parallel , and lines M and N are parallel .##lines L\n",
            "In the diagram above , lines K and L are parallel , and lines M and N are parallel .##lines K\n",
            "In the diagram above , lines M and N are parallel .##lines M\n",
            "In the diagram above , lines M and N are parallel .##lines N\n",
            "In the figure above , two line segments meet at a point on line l .##line l\n",
            "What is the value of x ?##value x\n",
            "If @s_0 holds , which of the following could be the length of line AC ?##line AC\n",
            "What is the value of x ?##value x\n",
            "What is the measure of angle ABC ?##angle ABC\n",
            "The measure of angle BAC equals @v_0 .##angle BAC\n",
            "What is the value of x ?##value x\n",
            "A square is tangent to a line at point P in the figure above .##point P\n",
            "What is the value of x ?##value x\n",
            "Rectangle ABCD shown in the figure above has width w and length l that is twice the width .##Rectangle ABCD\n",
            "Rectangle ABCD shown in the figure above has width w and length l that is twice the width .##width w\n",
            "Rectangle ABCD shown in the figure above has width w and length l that is twice the width .##length l\n",
            "What is the length of segment AB ?##segment AB\n",
            "In the figure above , the ratio of the length of line AB to the length of line AC is @v_0 .##line AB\n",
            "In the figure above , the ratio of the length of line AB to the length of line AC is @v_0 .##line AC\n",
            "If @s_0 is true , what is the length of line AB ?##line AB\n",
            "Triangle ABC and line l are shown in the figure above .##line l\n",
            "Triangle ABC and line l are shown in the figure above .##Triangle ABC\n",
            "What is the sum of y and z ?##sum y\n",
            "For trapezoid ABCD shown above , @s_0 is true , @s_1 is true , and @s_2 is true .##trapezoid ABCD\n",
            "What is the length of segment CD ?##segment CD\n",
            "What is the area of ABCD ?##area ABCD\n",
            "Given the circle at the right with diameter AB , find x .##find x\n",
            "Given the circle at the right with diameter AB , find x .##diameter AB\n",
            "In the figure above , two line segments meet at a point on line l .##line l\n",
            "If the value of y is equal to the square of the value of x , what is the value of y ?##value x\n",
            "What is the area of triangle ABC ?##triangle ABC\n",
            "What is the length of segment BD ?##segment BD\n",
            "What is the measure of angle CBA ?##angle CBA\n",
            "What is the smallest possible integer value of AB ?##value AB\n",
            "What is the value of x ?##value x\n",
            "Line AB is tangent to circle O .##circle O\n",
            "Line AB is tangent to circle O .##Line AB\n",
            "What is the length of side AC to the nearest hundredth ?##side AC\n",
            "The measure of angle ABC is @v_0 .##angle ABC\n",
            "Segment BD is an altitude .##Segment BD\n",
            "If triangle ABC is isosceles , find the length of segment AC .##segment AC\n",
            "If triangle ABC is isosceles , find the length of segment AC .##triangle ABC\n",
            "Line AB is tangent to circle O .##Line AB\n",
            "If @s_0 holds and @s_1 holds , find DB .##find DB\n",
            "Given the following figure with one tangent and one secant drawn to the circle , what is the measure of angle ABD ?##angle ABD\n",
            "In the diagram above , line AB is parallel to line CD , and line EF is perpendicular to line CD .##line CD\n",
            "In the diagram above , line AB is parallel to line CD , and line EF is perpendicular to line CD .##line EF\n",
            "In the diagram above , line AB is parallel to line CD , and line EF is perpendicular to line CD .##line CD\n",
            "In the diagram above , line AB is parallel to line CD , and line EF is perpendicular to line CD .##line AB\n",
            "What is the measure of angle x ?##angle x\n",
            "Triangle BDC , shown above , has an area of 48 .##area BDC\n",
            "Triangle BDC , shown above , has an area of 48 .##Triangle BDC\n",
            "In the diagram above , angle OBC is congruent to angle OCB .##angle OCB\n",
            "In the diagram above , angle OBC is congruent to angle OCB .##angle OBC\n",
            "How many degrees does angle A measure ?##angle A\n",
            "In the triangle in the figure above , what is the value of x ?##value x\n",
            "In the diagram at the right , circle O has a radius of 5 , and @s_0 holds .##circle O\n",
            "Diameter AC is perpendicular to chord BD at E .##Diameter AC\n",
            "Diameter AC is perpendicular to chord BD at E .##chord BD\n",
            "What is the length of BD ?##length BD\n",
            "What is the length of c in the triangle above ?##length c\n",
            "What is the length of a in the triangle above ?##length a\n",
            "What is the length of y in the triangle above ?##length y\n",
            "In the figure above, line L  is perpendicular to line M ##line L\n",
            "In the figure above, line L  is perpendicular to line M ##line M\n",
            "If line m is perpendicular with line L, what is a possible equation of line ML##line ML\n",
            "If line m is perpendicular with line L, what is a possible equation of line ML##line L\n",
            "In the figure above, the circle with center A  and  the circle with center B are tangent at point C.##point C\n",
            "In the figure above, the circle with center A  and  the circle with center B are tangent at point C.##center A\n",
            "In the figure above, the circle with center A  and  the circle with center B are tangent at point C.##center B\n",
            "If the circles each have radius 10,  and  if line l is tangent to the circle with center A at point P, what are the coordinates of point P##circle A\n",
            "If the circles each have radius 10,  and  if line l is tangent to the circle with center A at point P, what are the coordinates of point P##line l\n",
            "If the circles each have radius 10,  and  if line l is tangent to the circle with center A at point P, what are the coordinates of point P##point P\n",
            "In triangle  ABC  above, D  and  E are the midpoints of  lines AB   and   BC  respectively##triangle  ABC\n",
            "In triangle  ABC  above, D  and  E are the midpoints of  AB   and   BC  respectively##midpoints E\n",
            "In triangle  ABC  above, D  and  E are the midpoints of  AB   and   BC  respectively##midpoints D\n",
            "In triangle  ABC  above, D  and  E are the midpoints of  AB   and   BC  respectively##lines AB\n",
            "In triangle  ABC  above, D  and  E are the midpoints of  AB   and   BC  respectively##lines BC\n",
            "If A, B,  and  C are on the line l , what is the value of k?##line ell\n",
            "If A, B,  and  C are on the line ell , what is the value of k?##value k\n",
            "The figure above shows a part of a circle with a center at R##center R\n",
            "If the length of the  PQ  is k, what is the perimeter of the figure?##length PQ\n",
            "In the figure above, angle  BAC  = 30, angle  BCD  = 60  and  the length of  AC  is 4?##angle BCD\n",
            "In the figure above, angle  BAC  = 30, angle  BCD  = 60  and  the length of  AC  is 4?##angle BAC\n",
            "In the figure above, angle  BAC  = 30, angle  BCD  = 60  and  the length of  AC  is 4?##length AC\n",
            "If the perimeter of triangle  ABC  is 7, what is the perimeter of triangle  CDE  ?##triangle ABC\n",
            "If the perimeter of triangle  ABC  is 7, what is the perimeter of triangle  CDE  ?##triangle CDE\n",
            "What is the length of  PQ  ?##length PQ\n",
            "In the figure above, line l  passes through point P  and  Q?##line l\n",
            "In the figure above, line ell  passes through point P  and  Q?##point P\n",
            "What is the area of triangle  OPQ  ?##triangle  OPQ\n",
            "In the figure above, P  and  Q are the midpoints of  lines AB   and   BC  respectively##lines AB\n",
            "In the figure above, P  and  Q are the midpoints of  lines AB   and   BC  respectively##lines BC\n",
            "In the figure above, P  and  Q are the midpoints of  lines AB   and   BC  respectively##midpoints P\n",
            "In the figure above, P  and  Q are the midpoints of  lines AB   and   BC  respectively##midpoints Q\n",
            "If the length of  AB  is equal to 13  of the length of  BC   and  the length of  PQ  is 12, what is the length of BC?##length AB\n",
            "If the length of  AB  is equal to 13  of the length of  BC   and  the length of  PQ  is 12, what is the length of BC?##length PQ\n",
            "If the length of  AB  is equal to 13  of the length of  BC   and  the length of  PQ  is 12, what is the length of BC?##length BC\n",
            "If the length of  AB  is equal to frac  13  of the length of  BC   and  the length of  PQ  is 12, what is the length of BC?##length AB\n",
            "If the length of  AB  is equal to frac  13  of the length of  BC   and  the length of  PQ  is 12, what is the length of BC?##length BC\n",
            "If the length of  AB  is equal to frac  13  of the length of  BC   and  the length of  PQ  is 12, what is the length of BC?##length PQ\n",
            "If the figure above shows a regular pentagon  and  a regular hexagon with a common side  QW  , what is the value of angle  PQR  ?##angle  PQR\n",
            "If the figure above shows a regular pentagon  and  a regular hexagon with a common side  QW  , what is the value of angle  PQR  ?##side  QW\n",
            "In the figure above, line AB  = 4,  AC  = 3,  and   DE  = 12. What is the length of  BE  ?##length BE\n",
            "In the figure above, line AB  = 4,  AC  = 3,  and   DE  = 12. What is the length of  BE  ?##length AC\n",
            "In the figure above, line AB  = 4,  AC  = 3,  and   DE  = 12. What is the length of  BE  ?##length DE\n",
            "In the figure above, the length of  XY  is equal to 10.##length XY\n",
            "In the figure above, ABCD is a square  and  triangle  PBC  is an isosceles triangle.##square ABCD\n",
            "In the figure above, ABCD is a square  and  triangle  PBC  is an isosceles triangle.##triangle  PBC\n",
            "If AB = 4, what is the length of  PD?##length PD\n",
            "If the radius of circle B is 2, what is the length of  AC  ?##circle B\n",
            "If the radius of circle B is 2, what is the length of  AC  ?##length AC\n",
            "In the figure above, line l is parallel to line m??##line l\n",
            "In the figure above, line l is parallel to line m??##line m\n",
            "Which of the following could not be the length of AP?##length AP\n",
            "In the figure above, ABCD is a rectangle where side AD = 8,  and  CD = 4.##rectangle ABCD\n",
            "In the figure above, ABCD is a rectangle where side AD = 8,  and  CD = 4.##side AD\n",
            "In the figure above, ABCD is a rectangle where side AD = 8,  and  CD = 4.##side CD\n",
            "If points F  and  G are on line  BC  so that line BF = 1 and  GC = 3,  and  line AF and  DG intersect at point E, what is the area of triangle  AED  ?##line AF\n",
            "If points F  and  G are on line  BC  so that line BF = 1 and  GC = 3,  and  line AF and  DG intersect at point E, what is the area of triangle  AED  ?##line BF\n",
            "If points F  and  G are on line  BC  so that line BF = 1 and  GC = 3,  and  line AF and  DG intersect at point E, what is the area of triangle  AED  ?##line BC\n",
            "If points F  and  G are on line  BC  so that line BF = 1 and  GC = 3,  and  line AF and  DG intersect at point E, what is the area of triangle  AED  ?##line DG\n",
            "If points F  and  G are on line  BC  so that line BF = 1 and  GC = 3,  and  line AF and  DG intersect at point E, what is the area of triangle  AED  ?##line AF\n",
            "If points F  and  G are on line  BC  so that line BF = 1 and  GC = 3,  and  line AF and  DG intersect at point E, what is the area of triangle  AED  ?##on G BC\n",
            "If points F  and  G are on line  BC  so that line BF = 1 and  GC = 3,  and  line AF and  DG intersect at point E, what is the area of triangle  AED  ?##intersect DG E\n",
            "If points F  and  G are on line  BC  so that line BF = 1 and  GC = 3,  and  line AF and  DG intersect at point E, what is the area of triangle  AED  ?##points F F\n",
            "If points F  and  G are on line  BC  so that line BF = 1 and  GC = 3,  and  line AF and  DG intersect at point E, what is the area of triangle  AED  ?##points G\n",
            "If points F  and  G are on line  BC  so that line BF = 1 and  GC = 3,  and  line AF and  DG intersect at point E, what is the area of triangle  AED  ?##point E\n",
            "If points F  and  G are on line  BC  so that line BF = 1 and  GC = 3,  and  line AF and  DG intersect at point E, what is the area of triangle  AED  ?##triangle AED\n",
            "In the figure above, O is the center of the circle  and   AD  is tangent to the circle at point C.##center O\n",
            "In the figure above, O is the center of the circle  and   AD  is tangent to the circle at point C.##tangent AD\n",
            "In the figure above, O is the center of the circle  and   AD  is tangent to the circle at point C.##point C\n",
            "If the measure of angle  BAD  is 40, what is the measure of angle  ACB  ?##angle  ACB\n",
            "If the measure of angle  BAD  is 40, what is the measure of angle  ACB  ?##angle  BAD\n",
            "In the figure above, line l is perpendicular to line m,  and  angle w = 30.##angle w\n",
            "In the figure above, line l is perpendicular to line m,  and  w = 30.##line m\n",
            "In the figure above, line l is perpendicular to line m,  and  w = 30.##line l\n",
            "What is the length of  AB ?##length AB\n",
            "In the figure above,  line AB  parallel  CD  .##line AB\n",
            "In the figure above,  line AB  parallel  CD  .##line CD\n",
            "In the figure of a square above, the length of  AD  is 2x, the length of  AM  is x  and line AB is parallel to  MN  .##length AD\n",
            "In the figure of a square above, the length of  AD  is 2x, the length of  AM  is x  and line AB is parallel to  MN  .##length AM\n",
            "In the figure of a square above, the length of  AD  is 2x, the length of  AM  is x  and line AB is parallel to  MN  .##length x\n",
            "In the figure of a square above, the length of  AD  is 2x, the length of  AM  is x  and line AB  is parallel to  MN  .##line AB\n",
            "In the figure of a square above, the length of  AD  is 2x, the length of  AM  is x  and line AB  is parallel to  MN  .##line MN\n",
            "In the figure above, the circle has its center at P  and line AB  is perpendicular to the x-axis.##center P\n",
            "In the figure above, the circle has its center at P  and line AB  is perpendicular to the x-axis.##line AB\n",
            "In the rectangle above, the length of  AE  is equal to 25  of the length of  AC  .##length AE\n",
            "In the rectangle above, the length of  AE  is equal to 25  of the length of  AC  .##length AC\n",
            "If the area of triangle  AED  is 18, what is the area of triangle  CED  ?##triangle  AED\n",
            "If the area of triangle  AED  is 18, what is the area of triangle  CED  ?##triangle  CED\n",
            "In the figure above,  lines FE  parallel  AD  ,  AF  parallel  DE  ,  and  length BE is  2  .##lines FE\n",
            "In the figure above,  lines FE  parallel  AD  ,  AF  parallel  DE  ,  and  length BE is  2  .##lines AD\n",
            "In the figure above,  lines FE  parallel  AD  ,  AF  parallel  DE  ,  and  length BE is  2  .##lines AF\n",
            "In the figure above,  lines FE  parallel  AD  ,  AF  parallel  DE  ,  and  length BE is  2  .##lines DE\n",
            "In the figure above,  lines FE  parallel  AD  ,  AF  parallel  DE  ,  and  length BE is  2  .##length BE\n",
            "The area of parallelogram AFED is what fraction of the area of triangle  ABC  ?##triangle ABC\n",
            "The area of parallelogram AFED is what fraction of the area of triangle  ABC  ?##parallelogram AFED\n",
            "If M is the midpoint of  AC  , line PQ  is parallel to  AC  , what fraction of the area of triangle  ABC  is shaded?##midpoint M\n",
            "If M is the midpoint of  AC  , line PQ  is parallel to  AC  , what fraction of the area of triangle  ABC  is shaded?##line PQ\n",
            "If M is the midpoint of  AC  , line PQ  is parallel to  AC  , what fraction of the area of triangle  ABC  is shaded?##line AC\n",
            "If M is the midpoint of  AC  , line PQ  is parallel to  AC  , what fraction of the area of triangle  ABC  is shaded?##triangle  ABC\n",
            "In the equilateral triangle ABC shown above, side AB = 4, C is the midpoint of  side AD   and  E is the midpoint of  side BC  .##triangle ABC\n",
            "In the equilateral triangle ABC shown above, side AB = 4, C is the midpoint of  side AD   and  E is the midpoint of  side BC  .##midpoint C\n",
            "In the equilateral triangle ABC shown above, side AB = 4, C is the midpoint of  side AD   and  E is the midpoint of  side BC  .##midpoint E\n",
            "In the equilateral triangle ABC shown above, side AB = 4, C is the midpoint of  side AD   and  E is the midpoint of  side BC  .##side AB\n",
            "In the equilateral triangle ABC shown above, side AB = 4, C is the midpoint of  side AD   and  E is the midpoint of  side BC  .##side AD\n",
            "In the equilateral triangle ABC shown above, side AB = 4, C is the midpoint of  side AD   and  E is the midpoint of  side BC  .##side BC\n",
            "What is the area of triangle  CDE  ?##triangle  CDE\n",
            "In the figure above,  line DE  parallel  FG  parallel  AC   and line AF = FD = DB.##line DE\n",
            "In the figure above,  line DE  parallel  FG  parallel  AC   and line AF = FD = DB.##line FG\n",
            "In the figure above,  line DE  parallel  FG  parallel  AC   and line AF = FD = DB.##line AC\n",
            "In the figure above,  line DE  parallel  FG  parallel  AC   and line AF = FD = DB.##line AF\n",
            "In the figure above,  line DE  parallel  FG  parallel  AC   and line AF = FD = DB.##line FD\n",
            "In the figure above,  line DE  parallel  FG  parallel  AC   and line AF = FD = DB.##line DB\n",
            "If the area of square  AFGC  is 20 what is the area of the shaded region?##square  AFGC\n",
            "In triangle  ABC  , side AD = 3 and  DC = 12.##triangle  ABC\n",
            "In triangle  ABC  , side AD = 3 and  DC = 12.##side AD\n",
            "In triangle  ABC  , side AD = 3 and  DC = 12.##side DC\n",
            "What is the length of  AB  ?##length AB\n",
            "In the figure above, ABCD is an isosceles trapezoid.##trapezoid ABCD\n",
            "If the length of  AD  is 24  and  the length of  BC  is 16, what is the perimeter of the trapezoid?##length AD\n",
            "If the length of  AD  is 24  and  the length of  BC  is 16, what is the perimeter of the trapezoid?##length BC\n",
            "If the length of  AD  is 4  and  the length of  DC  is 3, what is the area of the shaded region?##length AD\n",
            "If the length of  AD  is 4  and  the length of  DC  is 3, what is the area of the shaded region?##length DC\n",
            "In the figure above, P is the midpoint of side  AB   and  Qis the midpoint of side  BC  .##midpoint P\n",
            "In the figure above, P is the midpoint of side  AB   and  Qis the midpoint of side  BC  .##midpoint Q\n",
            "In the figure above, P is the midpoint of side  AB   and  Qis the midpoint of side  BC  .##side  AB\n",
            "In the figure above, P is the midpoint of side  AB   and  Qis the midpoint of side  BC  .##side  BC\n",
            "If the area of trapezoid APQC is 20, what is the area of triangle  ABC  ?##area APQC 20\n",
            "If the area of trapezoid APQC is 20, what is the area of triangle  ABC  ?##area triangle\n",
            "If the area of trapezoid APQC is 20, what is the area of triangle  ABC  ?##trapezoid APQC\n",
            "If the area of trapezoid APQC is 20, what is the area of triangle  ABC  ?##is area what\n",
            "If the area of trapezoid APQC is 20, what is the area of triangle  ABC  ?##triangle  ABC\n",
            "If the area of trapezoid APQC is 20, what is the area of triangle  ABC  ?##area trapezoid 20\n",
            "In the figure above, AB  and  BC are the diameters of the two semicircles##diameter BC\n",
            "In the figure above, AB  and  BC are the diameters of the two semicircles##diameter AB\n",
            "If the length of  BC  is k, what is the sum of the areas of the semicircles in terms of k?##length BC\n",
            "If the length of  BC  is k, what is the sum of the areas of the semicircles in terms of k?##length k\n",
            "In the figure above, line l  and  m are parallel.##line l\n",
            "In the figure above, line l  and  m are parallel.##line m\n",
            "What is the value of x?##value x\n",
            "If line BD = 15, what is the length of  DE  ?##length DE\n",
            "If line BD = 15, what is the length of  DE  ?##line BD\n",
            "In the figure above, a circle is tangent to the line l at point P.##line l\n",
            "In the figure above, a circle is tangent to the line l at point P.##point P\n",
            "If the radius of the circle is 5, what is the value of t, the y-intercept of the line?##value t\n",
            "In the figure above, two circles are tangent to each other,  and  line l is tangent to the circles  and  line m passes through the center of the two circles.##line l\n",
            "In the figure above, two circles are tangent to each other,  and  line ell is tangent to the circles  and  line m passes through the center of the two circles.##line m\n",
            "If the radius of circle O is R, what is the length of  AB  ?##radius R\n",
            "If the radius of circle O is R, what is the length of  AB  ?##circle O\n",
            "If the radius of circle O is R, what is the length of  AB  ?##length AB\n",
            "If the area of the shaded region is 1, what is the area of triangle  ABC  ?##triangle  ABC\n",
            "If line AB = 8, AD = 12,  and  angle  ADC  = 150^o, what is the area of the shaded region?##angle  ADC\n",
            "If line AB = 8, AD = 12,  and  angle  ADC  = 150^o, what is the area of the shaded region?##line AB\n",
            "If line AB = 8, AD = 12,  and  angle  ADC  = 150^o, what is the area of the shaded region?##line AD\n",
            "In the figure above, the length of  AB  , a side of the square, is 2x and  the length of  FG  is 2y.##length AB\n",
            "In the figure above, the length of  AB  , a side of the square, is 2x and  the length of  FG  is 2y.##length FG\n",
            "lens 366 # 319 # 7\n",
            "word_ids 383\n",
            "word_ids2 457\n",
            "Longest sentence length 2\n",
            "Longest story length 37\n",
            "Average story length 17\n",
            "              total        used        free      shared  buff/cache   available\n",
            "Mem:             12           0          10           0           1          11\n",
            "Swap:             0           0           0\n",
            "data [(['In', 'circle', 'O', ',', 'diameter', 'AB', 'is', 'perpendicular', 'to', 'chord', 'CD', 'at', 'E'], ['O'], ['circle'], 2), (['In', 'circle', 'O', ',', 'diameter', 'AB', 'is', 'perpendicular', 'to', 'chord', 'CD', 'at', 'E'], ['AB'], ['diameter'], 5), (['In', 'circle', 'O', ',', 'diameter', 'AB', 'is', 'perpendicular', 'to', 'chord', 'CD', 'at', 'E'], ['CD'], ['chord'], 10), (['If', '@', 's_0', 'holds', 'and', '@', 's_1', 'holds', ',', 'find', 'AE'], ['AE'], ['find'], 10), (['The', 'diagram', 'below', 'illustrates', 'the', 'construction', 'of', 'line', 'PS', 'parallel', 'to', 'line', 'RQ', 'through', 'point', 'P'], ['PS'], ['line'], 8), (['The', 'diagram', 'below', 'illustrates', 'the', 'construction', 'of', 'line', 'PS', 'parallel', 'to', 'line', 'RQ', 'through', 'point', 'P'], ['RQ'], ['line'], 12), (['The', 'diagram', 'below', 'illustrates', 'the', 'construction', 'of', 'line', 'PS', 'parallel', 'to', 'line', 'RQ', 'through', 'point', 'P'], ['P'], ['point'], 15), (['In', 'the', 'diagram', 'below', 'of', 'triangle', 'ABC', ',', 'D', 'is', 'a', 'point', 'on', 'line', 'AB', ', @', 's_0', 'holds', ', @', 's_1', 'holds', ',', 'and', '@', 's_2', 'holds'], ['AB'], ['line'], 14), (['In', 'the', 'diagram', 'below', 'of', 'triangle', 'ABC', ',', 'D', 'is', 'a', 'point', 'on', 'line', 'AB', ', @', 's_0', 'holds', ', @', 's_1', 'holds', ',', 'and', '@', 's_2', 'holds'], ['ABC'], ['triangle'], 6), (['In', 'the', 'diagram', 'below', 'of', 'triangle', 'ABC', ',', 'D', 'is', 'a', 'point', 'on', 'line', 'AB', ', @', 's_0', 'holds', ', @', 's_1', 'holds', ',', 'and', '@', 's_2', 'holds'], ['D'], ['point'], 8), (['Which', 'of', 'the', 'following', 'could', 'be', 'the', 'length', 'of', 'line', 'DB'], ['DB'], ['line'], 10), (['In', 'triangle', 'ABC', ',', 'line', 'DE', 'is', 'parallel', 'with', 'line', 'AC', ', @', 's_0', 'holds', ', @', 's_1', 'holds', ',', 'and', '@', 's_2', 'holds'], ['DE'], ['line'], 5), (['In', 'triangle', 'ABC', ',', 'line', 'DE', 'is', 'parallel', 'with', 'line', 'AC', ', @', 's_0', 'holds', ', @', 's_1', 'holds', ',', 'and', '@', 's_2', 'holds'], ['ABC'], ['triangle'], 2), (['Find', 'AC'], ['AC'], ['Find'], 1), (['The', 'diagram', 'at', 'the', 'right', 'is', 'a', 'construction', 'involving', 'angle', 'ABC'], ['ABC'], ['angle'], 10), (['The', 'area', 'of', 'rectangle', 'ABCD', 'above', 'is', '168'], ['ABCD'], ['rectangle'], 4), (['What', 'is', 'the', 'length', 'of', 'segment', 'AC'], ['AC'], ['segment'], 6), (['In', 'the', 'rhombus', 'PQRS', ', @', 's_0', 'holds', 'and', '@', 's_1', 'holds'], ['PQRS'], ['rhombus'], 3), (['If', '@', 's_0', 'holds', ', @', 's_1', 'holds', ',', 'and', '@', 's_2', 'holds', ',', 'find', 'AB'], ['AB'], ['find'], 14), (['In', 'triangle', 'ABC', ',', 'line', 'BC', 'is', 'extended', 'to', 'E', ',', 'and', 'D', 'is', 'a', 'point', 'on', 'line', 'BC'], ['BC'], ['line'], 5), (['In', 'triangle', 'ABC', ',', 'line', 'BC', 'is', 'extended', 'to', 'E', ',', 'and', 'D', 'is', 'a', 'point', 'on', 'line', 'BC'], ['ABC'], ['triangle'], 2), (['In', 'triangle', 'ABC', ',', 'line', 'BC', 'is', 'extended', 'to', 'E', ',', 'and', 'D', 'is', 'a', 'point', 'on', 'line', 'BC'], ['D'], ['point'], 12), (['In', 'triangle', 'ABC', ',', 'line', 'BC', 'is', 'extended', 'to', 'E', ',', 'and', 'D', 'is', 'a', 'point', 'on', 'line', 'BC'], ['BC'], ['line'], 5), (['In', 'the', 'accompanying', 'diagram', 'of', 'right', 'triangle', 'ABC', ',', 'altitude', 'AD', 'divides', 'hypotenuse', 'BC', 'into', 'segments', 'with', 'lenghts', 'of', '4', 'and', '5'], ['ABC'], ['triangle'], 7), (['In', 'the', 'accompanying', 'diagram', 'of', 'right', 'triangle', 'ABC', ',', 'altitude', 'AD', 'divides', 'hypotenuse', 'BC', 'into', 'segments', 'with', 'lenghts', 'of', '4', 'and', '5'], ['BC'], ['hypotenuse'], 13), (['In', 'the', 'accompanying', 'diagram', 'of', 'right', 'triangle', 'ABC', ',', 'altitude', 'AD', 'divides', 'hypotenuse', 'BC', 'into', 'segments', 'with', 'lenghts', 'of', '4', 'and', '5'], ['AD'], ['altitude'], 10), (['Find', 'the', 'length', 'of', 'leg', 'AB'], ['AB'], ['leg'], 5), (['In', 'the', 'accompanying', 'diagram', ',', 'line', 'AB', 'is', 'parallel', 'with', 'line', 'CD', 'and', 'line', 'FHE', ', @', 's_0', 'holds', ',', 'and', '@', 's_1', 'holds'], ['CD'], ['line'], 11), (['In', 'the', 'accompanying', 'diagram', ',', 'line', 'AB', 'is', 'parallel', 'with', 'line', 'CD', 'and', 'line', 'FHE', ', @', 's_0', 'holds', ',', 'and', '@', 's_1', 'holds'], ['AB'], ['line'], 6), (['Find', 'the', 'measure', 'of', 'angle', 'HGD'], ['HGD'], ['angle'], 5), (['In', 'the', 'accompanying', 'diagram', ',', 'line', 'PQ', 'and', 'line', 'PS', 'are', 'tangents', 'drawn', 'to', 'circle', 'O', ',', 'and', 'chord', 'QS', 'is', 'drawn'], ['QS'], ['chord'], 19), (['In', 'the', 'accompanying', 'diagram', ',', 'line', 'PQ', 'and', 'line', 'PS', 'are', 'tangents', 'drawn', 'to', 'circle', 'O', ',', 'and', 'chord', 'QS', 'is', 'drawn'], ['PS'], ['line'], 9), (['In', 'the', 'accompanying', 'diagram', ',', 'line', 'PQ', 'and', 'line', 'PS', 'are', 'tangents', 'drawn', 'to', 'circle', 'O', ',', 'and', 'chord', 'QS', 'is', 'drawn'], ['PQ'], ['line'], 6), (['In', 'the', 'accompanying', 'diagram', ',', 'line', 'PQ', 'and', 'line', 'PS', 'are', 'tangents', 'drawn', 'to', 'circle', 'O', ',', 'and', 'chord', 'QS', 'is', 'drawn'], ['O'], ['circle'], 15), (['If', 'the', 'measure', 'of', 'angle', 'P', 'is', 'equal', 'to', '40', ',', 'what', 'is', 'the', 'measure', 'of', 'angle', 'PQS'], ['P'], ['angle'], 5), (['Rectangle', 'ABCD', 'is', 'subdivided', 'into', 'two', 'identical', 'square', 'regions', ',', 'as', 'in', 'the', 'figure', 'above'], ['ABCD'], ['Rectangle'], 1), (['If', 'the', 'area', 'of', 'each', 'square', 'is', '9', ',', 'what', 'is', 'the', 'perimeter', 'of', 'ABCD'], ['ABCD'], ['perimeter'], 14), (['In', 'the', 'triangle', 'above', ',', 'what', 'is', 'the', 'average', 'of', 'x', ',', 'y', ',', 'and', 'z'], ['x'], ['average'], 10), (['In', 'the', 'triangle', 'above', ',', 'what', 'is', 'the', 'average', 'of', 'x', ',', 'y', ',', 'and', 'z'], ['y'], ['average'], 12), (['In', 'the', 'triangle', 'above', ',', 'what', 'is', 'the', 'average', 'of', 'x', ',', 'y', ',', 'and', 'z'], ['z'], ['average'], 15), (['In', 'the', 'accompanying', 'diagram', 'of', 'circle', 'O', ',', 'chords', 'AB', 'and', 'CD', 'intersect', 'at', 'E', 'and', '@', 's_0', 'holds'], ['O'], ['circle'], 6), (['In', 'the', 'accompanying', 'diagram', 'of', 'circle', 'O', ',', 'chords', 'AB', 'and', 'CD', 'intersect', 'at', 'E', 'and', '@', 's_0', 'holds'], ['AB'], ['chords'], 9), (['In', 'the', 'accompanying', 'diagram', 'of', 'circle', 'O', ',', 'chords', 'AB', 'and', 'CD', 'intersect', 'at', 'E', 'and', '@', 's_0', 'holds'], ['CD'], ['chords'], 11), (['What', 'is', 'measure', 'of', 'the', 'angle', 'DEB'], ['DEB'], ['angle'], 6), (['The', 'diagram', 'at', 'the', 'right', 'shows', 'the', 'construction', 'of', 'a', 'perpendicular', ',', 'line', 'PX', ',', 'to', 'a', 'line', 'l', 'from', 'point', 'P'], ['l'], ['line'], 18), (['The', 'diagram', 'at', 'the', 'right', 'shows', 'the', 'construction', 'of', 'a', 'perpendicular', ',', 'line', 'PX', ',', 'to', 'a', 'line', 'l', 'from', 'point', 'P'], ['P'], ['point'], 21), (['The', 'diagram', 'at', 'the', 'right', 'shows', 'the', 'construction', 'of', 'a', 'perpendicular', ',', 'line', 'PX', ',', 'to', 'a', 'line', 'l', 'from', 'point', 'P'], ['PX'], ['line'], 13), (['The', 'arc', 'drawn', 'from', 'point', 'P', 'intersects', 'line', 'l', 'at', 'A', 'and', 'B', ',', 'and', 'the', 'arcs', 'drawn', 'from', 'points', 'A', 'and', 'B', 'intersect', 'line', 'PX', 'at', 'C'], ['l'], ['line'], 8), (['The', 'arc', 'drawn', 'from', 'point', 'P', 'intersects', 'line', 'l', 'at', 'A', 'and', 'B', ',', 'and', 'the', 'arcs', 'drawn', 'from', 'points', 'A', 'and', 'B', 'intersect', 'line', 'PX', 'at', 'C'], ['A'], ['points'], 10), (['The', 'arc', 'drawn', 'from', 'point', 'P', 'intersects', 'line', 'l', 'at', 'A', 'and', 'B', ',', 'and', 'the', 'arcs', 'drawn', 'from', 'points', 'A', 'and', 'B', 'intersect', 'line', 'PX', 'at', 'C'], ['B'], ['points'], 12), (['The', 'arc', 'drawn', 'from', 'point', 'P', 'intersects', 'line', 'l', 'at', 'A', 'and', 'B', ',', 'and', 'the', 'arcs', 'drawn', 'from', 'points', 'A', 'and', 'B', 'intersect', 'line', 'PX', 'at', 'C'], ['C'], ['points'], 27), (['The', 'arc', 'drawn', 'from', 'point', 'P', 'intersects', 'line', 'l', 'at', 'A', 'and', 'B', ',', 'and', 'the', 'arcs', 'drawn', 'from', 'points', 'A', 'and', 'B', 'intersect', 'line', 'PX', 'at', 'C'], ['P'], ['point'], 5), (['The', 'arc', 'drawn', 'from', 'point', 'P', 'intersects', 'line', 'l', 'at', 'A', 'and', 'B', ',', 'and', 'the', 'arcs', 'drawn', 'from', 'points', 'A', 'and', 'B', 'intersect', 'line', 'PX', 'at', 'C'], ['PX'], ['line'], 25), (['Find', 'the', 'value', 'of', 'x'], ['x'], ['value'], 4), (['Given', 'Circle', 'O', 'with', 'diameter', 'CD'], ['O'], ['Circle'], 2), (['Given', 'Circle', 'O', 'with', 'diameter', 'CD'], ['CD'], ['diameter'], 5), (['Find', 'x'], ['x'], ['Find'], 1), (['In', 'the', 'accompanying', 'diagram', ',', 'tangent', 'AB', 'and', 'secant', 'AD', 'are', 'drawn', 'to', 'circle', 'O', 'from', 'point', 'A', ', @', 's_0', 'holds', 'and', '@', 's_1', 'holds'], ['O'], ['circle'], 14), (['In', 'the', 'accompanying', 'diagram', ',', 'tangent', 'AB', 'and', 'secant', 'AD', 'are', 'drawn', 'to', 'circle', 'O', 'from', 'point', 'A', ', @', 's_0', 'holds', 'and', '@', 's_1', 'holds'], ['A'], ['point'], 17), (['In', 'the', 'accompanying', 'diagram', ',', 'tangent', 'AB', 'and', 'secant', 'AD', 'are', 'drawn', 'to', 'circle', 'O', 'from', 'point', 'A', ', @', 's_0', 'holds', 'and', '@', 's_1', 'holds'], ['AB'], ['tangent'], 6), (['In', 'the', 'accompanying', 'diagram', ',', 'tangent', 'AB', 'and', 'secant', 'AD', 'are', 'drawn', 'to', 'circle', 'O', 'from', 'point', 'A', ', @', 's_0', 'holds', 'and', '@', 's_1', 'holds'], ['AD'], ['secant'], 9), (['Find', 'AD'], ['AD'], ['Find'], 1), (['In', 'the', 'accompanying', 'diagram', 'of', 'circle', 'O', ',', 'the', 'measure', 'of', 'angle', 'ABC', 'is', '@', 'v_0', 'and', 'the', 'measure', 'of', 'arc', 'AC', 'is', '@', 'v_1'], ['ABC'], ['angle'], 12), (['In', 'the', 'accompanying', 'diagram', 'of', 'circle', 'O', ',', 'the', 'measure', 'of', 'angle', 'ABC', 'is', '@', 'v_0', 'and', 'the', 'measure', 'of', 'arc', 'AC', 'is', '@', 'v_1'], ['O'], ['circle'], 6), (['In', 'the', 'accompanying', 'diagram', 'of', 'circle', 'O', ',', 'the', 'measure', 'of', 'angle', 'ABC', 'is', '@', 'v_0', 'and', 'the', 'measure', 'of', 'arc', 'AC', 'is', '@', 'v_1'], ['AC'], ['arc'], 21), (['Find', 'the', 'value', 'of', 'x'], ['x'], ['value'], 4), (['In', 'the', 'diagram', 'at', 'the', 'right', ',', 'secant', 'AB', 'intersects', 'circle', 'O', 'at', 'D', ',', 'secant', 'AC', 'intersects', 'circle', 'O', 'at', 'E', ', @', 's_0', 'holds', ', @', 's_1', 'holds', ',', 'and', '@', 's_2', 'holds'], ['O'], ['circle'], 11), (['In', 'the', 'diagram', 'at', 'the', 'right', ',', 'secant', 'AB', 'intersects', 'circle', 'O', 'at', 'D', ',', 'secant', 'AC', 'intersects', 'circle', 'O', 'at', 'E', ', @', 's_0', 'holds', ', @', 's_1', 'holds', ',', 'and', '@', 's_2', 'holds'], ['AC'], ['secant'], 16), (['In', 'the', 'diagram', 'at', 'the', 'right', ',', 'secant', 'AB', 'intersects', 'circle', 'O', 'at', 'D', ',', 'secant', 'AC', 'intersects', 'circle', 'O', 'at', 'E', ', @', 's_0', 'holds', ', @', 's_1', 'holds', ',', 'and', '@', 's_2', 'holds'], ['AB'], ['secant'], 8), (['Find', 'AD'], ['AD'], ['Find'], 1), (['Semicircular', 'arcs', 'AO', 'and', 'OB', 'divide', 'the', 'circle', 'above', 'with', 'center', 'O', 'into', 'two', 'regions'], ['AO'], ['arcs'], 2), (['Semicircular', 'arcs', 'AO', 'and', 'OB', 'divide', 'the', 'circle', 'above', 'with', 'center', 'O', 'into', 'two', 'regions'], ['OB'], ['arcs'], 4), (['Semicircular', 'arcs', 'AO', 'and', 'OB', 'divide', 'the', 'circle', 'above', 'with', 'center', 'O', 'into', 'two', 'regions'], ['O'], ['center'], 11), (['If', 'the', 'length', 'of', 'diameter', 'AB', 'is', '12', ',', 'what', 'is', 'the', 'area', 'of', 'the', 'shaded', 'region'], ['AB'], ['diameter'], 5), (['Find', 'x'], ['x'], ['Find'], 1), (['In', 'the', 'figure', 'above', ',', 'line', 'AC', 'is', 'a', 'diameter', 'of', 'the', 'large', 'circle', 'and', 'B', 'lies', 'on', 'line', 'AC', 'so', 'that', 'line', 'AB', 'is', 'a', 'diameter', 'of', 'the', 'small', 'circle'], ['AC'], ['line'], 19), (['If', 'the', 'measure', 'of', 'angle', 'ACD', 'is', '48', ',', 'find', 'the', 'measure', 'of', 'angle', 'B'], ['ACD'], ['angle'], 5), (['What', 'is', 'the', 'value', 'of', 'x'], ['x'], ['value'], 5), (['Find', 'the', 'measure', 'of', 'angle', 'DBC'], ['DBC'], ['angle'], 5), (['In', 'the', 'accompanying', 'diagram', ',', 'line', 'FG', 'is', 'parallel', 'with', 'line', 'HI', 'and', 'line', 'BC', 'and', 'line', 'AD', 'intersects', 'at', 'E', ', @', 's_0', 'holds', ',', 'and', '@', 's_1', 'holds'], ['HI'], ['line'], 11), (['In', 'the', 'accompanying', 'diagram', ',', 'line', 'FG', 'is', 'parallel', 'with', 'line', 'HI', 'and', 'line', 'BC', 'and', 'line', 'AD', 'intersects', 'at', 'E', ', @', 's_0', 'holds', ',', 'and', '@', 's_1', 'holds'], ['BC'], ['line'], 14), (['In', 'the', 'accompanying', 'diagram', ',', 'line', 'FG', 'is', 'parallel', 'with', 'line', 'HI', 'and', 'line', 'BC', 'and', 'line', 'AD', 'intersects', 'at', 'E', ', @', 's_0', 'holds', ',', 'and', '@', 's_1', 'holds'], ['FG'], ['line'], 6), (['What', 'is', 'the', 'value', 'of', 'x'], ['x'], ['value'], 5), (['Points', 'A', ',', 'B', ',', 'C', ',', 'and', 'D', 'are', 'midpoints', 'of', 'the', 'sides', 'of', 'square', 'JETS'], ['JETS'], ['square'], 16), (['Points', 'A', ',', 'B', ',', 'C', ',', 'and', 'D', 'are', 'midpoints', 'of', 'the', 'sides', 'of', 'square', 'JETS'], ['A'], ['Points'], 1), (['Points', 'A', ',', 'B', ',', 'C', ',', 'and', 'D', 'are', 'midpoints', 'of', 'the', 'sides', 'of', 'square', 'JETS'], ['B'], ['Points'], 3), (['Points', 'A', ',', 'B', ',', 'C', ',', 'and', 'D', 'are', 'midpoints', 'of', 'the', 'sides', 'of', 'square', 'JETS'], ['C'], ['Points'], 5), (['Points', 'A', ',', 'B', ',', 'C', ',', 'and', 'D', 'are', 'midpoints', 'of', 'the', 'sides', 'of', 'square', 'JETS'], ['D'], ['Points'], 8), (['If', 'the', 'area', 'of', 'JETS', 'is', '36', ',', 'what', 'is', 'the', 'area', 'of', 'ABCD'], ['JETS'], ['area'], 4), (['What', 'is', 'the', 'degree', 'measure', 'of', 'x'], ['x'], ['measure'], 6), (['In', 'the', 'accompanying', 'diagram', 'of', 'rectangle', 'ABCD', ',', 'the', 'measure', 'of', 'angle', 'ABE', 'is', '30', 'and', 'the', 'measure', 'of', 'angle', 'CFE', 'is', '144'], ['ABCD'], ['rectangle'], 6), (['In', 'the', 'accompanying', 'diagram', 'of', 'rectangle', 'ABCD', ',', 'the', 'measure', 'of', 'angle', 'ABE', 'is', '30', 'and', 'the', 'measure', 'of', 'angle', 'CFE', 'is', '144'], ['ABE'], ['angle'], 12), (['Find', 'the', 'measure', 'of', 'angle', 'BEF'], ['BEF'], ['angle'], 5), (['In', 'the', 'diagram', 'at', 'the', 'right', ',', 'lines', 'x', 'and', 'y', 'are', 'parallel', 'and', 'are', 'cut', 'by', 'transversal', 't'], ['x'], ['lines'], 8), (['In', 'the', 'diagram', 'at', 'the', 'right', ',', 'lines', 'x', 'and', 'y', 'are', 'parallel', 'and', 'are', 'cut', 'by', 'transversal', 't'], ['y'], ['lines'], 10), (['In', 'the', 'diagram', 'at', 'the', 'right', ',', 'lines', 'x', 'and', 'y', 'are', 'parallel', 'and', 'are', 'cut', 'by', 'transversal', 't'], ['t'], ['transversal'], 18), (['In', 'the', 'diagram', 'at', 'the', 'right', ',', 'line', 'x', 'is', 'parallel', 'to', 'line', 'z', ',', 'and', 'line', 't', 'is', 'a', 'transversal'], ['z'], ['line'], 13), (['In', 'the', 'diagram', 'at', 'the', 'right', ',', 'lines', 'f', 'and', 'g', 'are', 'parallel', ',', 'and', 'lines', 'x', 'and', 'y', 'are', 'parallel'], ['x'], ['lines'], 16), (['In', 'the', 'diagram', 'at', 'the', 'right', ',', 'lines', 'f', 'and', 'g', 'are', 'parallel', ',', 'and', 'lines', 'x', 'and', 'y', 'are', 'parallel'], ['y'], ['lines'], 18), (['In', 'the', 'diagram', 'at', 'the', 'right', ',', 'lines', 'f', 'and', 'g', 'are', 'parallel', ',', 'and', 'lines', 'x', 'and', 'y', 'are', 'parallel'], ['f'], ['lines'], 8), (['What', 'is', 'the', 'measure', 'of', 'angle', 'DAE'], ['DAE'], ['angle'], 6), (['In', 'the', 'accompanying', 'diagram', 'of', 'rhombus', 'ABCD', ',', 'the', 'measure', 'of', 'angle', 'CAB', 'is', '35'], ['CAB'], ['angle'], 12), (['In', 'the', 'accompanying', 'diagram', 'of', 'rhombus', 'ABCD', ',', 'the', 'measure', 'of', 'angle', 'CAB', 'is', '35'], ['ABCD'], ['rhombus'], 6), (['Find', 'the', 'measure', 'of', 'angle', 'CDA'], ['CDA'], ['angle'], 5), (['What', 'is', 'the', 'area', 'of', 'triangle', 'AEC'], ['AEC'], ['triangle'], 6), (['Which', 'of', 'the', 'following', 'could', 'be', 'a', 'value', 'of', 'x', ',', 'in', 'the', 'diagram', 'above'], ['x'], ['value'], 9), (['ABCD', 'is', 'a', 'square', 'with', 'side', '3', ',', 'and', 'E', 'and', 'F', 'are', 'the', 'midpoints', 'of', 'sides', 'AB', 'and', 'BC', 'respectively'], ['AB'], ['sides'], 17), (['ABCD', 'is', 'a', 'square', 'with', 'side', '3', ',', 'and', 'E', 'and', 'F', 'are', 'the', 'midpoints', 'of', 'sides', 'AB', 'and', 'BC', 'respectively'], ['BC'], ['sides'], 19), (['ABCD', 'is', 'a', 'square', 'with', 'side', '3', ',', 'and', 'E', 'and', 'F', 'are', 'the', 'midpoints', 'of', 'sides', 'AB', 'and', 'BC', 'respectively'], ['ABCD'], ['square'], 0), (['ABCD', 'is', 'a', 'square', 'with', 'side', '3', ',', 'and', 'E', 'and', 'F', 'are', 'the', 'midpoints', 'of', 'sides', 'AB', 'and', 'BC', 'respectively'], ['E'], ['midpoints'], 9), (['ABCD', 'is', 'a', 'square', 'with', 'side', '3', ',', 'and', 'E', 'and', 'F', 'are', 'the', 'midpoints', 'of', 'sides', 'AB', 'and', 'BC', 'respectively'], ['F'], ['midpoints'], 11), (['What', 'is', 'the', 'area', 'of', 'the', 'quadrilateral', 'EBFD'], ['EBFD'], ['quadrilateral'], 7), (['If', 'the', 'radius', 'of', 'the', 'circle', 'with', 'centre', 'O', 'is', '7', 'and', 'the', 'measure', 'of', 'angle', 'AOB', 'is', '100', ',', 'what', 'is', 'the', 'the', 'length', 'of', 'arc', 'AB'], ['AOB'], ['angle'], 16), (['If', 'the', 'radius', 'of', 'the', 'circle', 'with', 'centre', 'O', 'is', '7', 'and', 'the', 'measure', 'of', 'angle', 'AOB', 'is', '100', ',', 'what', 'is', 'the', 'the', 'length', 'of', 'arc', 'AB'], ['AB'], ['arc'], 27), (['The', 'angles', 'of', 'triangle', 'BCD', 'are', 'all', 'equal'], ['BCD'], ['triangle'], 4), (['What', 'is', 'the', 'ratio', 'of', 'the', 'area', 'of', 'triangle', 'QST', 'to', 'the', 'area', 'of', 'the', 'parallelogram'], ['QST'], ['triangle'], 9), (['How', 'many', 'circles', 'can', 'be', 'drawn', 'with', 'their', 'centers', 'on', 'line', 'l', 'and', 'that', 'pass', 'through', 'both', 'A', 'and', 'B'], ['l'], ['line'], 11), (['If', 'triangle', 'ABC', 'in', 'the', 'figure', 'above', 'is', 'an', 'equilateral', 'triangle', 'and', 'D', 'is', 'a', 'right', 'angle', ',', 'find', 'the', 'value', 'of', 'x'], ['x'], ['value'], 22), (['If', 'triangle', 'ABC', 'in', 'the', 'figure', 'above', 'is', 'an', 'equilateral', 'triangle', 'and', 'D', 'is', 'a', 'right', 'angle', ',', 'find', 'the', 'value', 'of', 'x'], ['D'], ['angle'], 12), (['If', 'triangle', 'ABC', 'in', 'the', 'figure', 'above', 'is', 'an', 'equilateral', 'triangle', 'and', 'D', 'is', 'a', 'right', 'angle', ',', 'find', 'the', 'value', 'of', 'x'], ['ABC'], ['triangle'], 2), (['In', 'triangle', 'ABC', ', @', 's_0', 'holds', ',', 'DE', 'is', 'parallel', 'to', 'BC', ',', 'and', 'the', 'area', 'of', 'triangle', 'ABC', 'is', '40'], ['ABC'], ['triangle'], 2), (['What', 'is', 'the', 'area', 'of', 'triangle', 'ADE'], ['ADE'], ['triangle'], 6), (['Rectangle', 'ABCD', 'has', 'a', 'perimeter', 'of', '26'], ['ABCD'], ['Rectangle'], 1), (['The', 'measure', 'of', 'angle', 'BAC', 'is', '30', ',', 'and', 'the', 'measure', 'of', 'angle', 'CDE', 'is', '50'], ['BAC'], ['angle'], 4), (['What', 'is', 'the', 'measure', 'of', 'angle', 'ACD'], ['ACD'], ['angle'], 6), (['What', 'is', 'the', 'length', 'of', 'the', 'arc', 'AB'], ['AB'], ['arc'], 7), (['What', 'is', 'the', 'value', 'of', 'b', 'in', 'the', 'figure', 'above'], ['b'], ['value'], 5), (['What', 'is', 'the', 'area', 'of', 'the', 'following', 'square', ',', 'if', 'the', 'length', 'of', 'BD', 'is', '@', 'v_0'], ['BD'], ['length'], 13), (['In', 'the', 'figure', 'below', ',', 'what', 'is', 'the', 'value', 'of', 'y'], ['y'], ['value'], 10), (['The', 'square', 'ABCD', 'touches', 'the', 'circle', 'at', '4', 'points'], ['ABCD'], ['square'], 2), (['TIn', 'the', 'figure', 'above', ',', 'line', 'BE', 'is', 'perpendicular', 'to', 'line', 'AD', 'and', 'line', 'CF', 'is', 'perpendicular', 'to', 'line', 'AD', 'and', '@', 's_0', 'holds'], ['AD'], ['line'], 11), (['In', 'the', 'figure', 'above', ',', 'line', 'BE', 'is', 'perpendicular', 'to', 'line', 'AD', 'and', 'line', 'CF', 'is', 'perpendicular', 'to', 'line', 'AD', 'and', '@', 's_0', 'holds'], ['CF'], ['line'], 14), (['In', 'the', 'figure', 'above', ',', 'line', 'BE', 'is', 'perpendicular', 'to', 'line', 'AD', 'and', 'line', 'CF', 'is', 'perpendicular', 'to', 'line', 'AD', 'and', '@', 's_0', 'holds'], ['BE'], ['line'], 6), (['What', 'is', 'the', 'value', 'of', 'x'], ['x'], ['value'], 5), (['In', 'the', 'figure', 'above', ',', 'if', 'the', 'measure', 'of', 'angle', 'AOB', 'is', '@', 'v_0', 'and', 'the', 'length', 'of', 'arc', 'AB', 'is', '@', 'v_1', ',', 'what', 'is', 'the', 'area', 'of', 'the', 'sector', 'AOB'], ['AOB'], ['sector'], 10), (['In', 'the', 'figure', 'above', ',', 'if', 'the', 'measure', 'of', 'angle', 'AOB', 'is', '@', 'v_0', 'and', 'the', 'length', 'of', 'arc', 'AB', 'is', '@', 'v_1', ',', 'what', 'is', 'the', 'area', 'of', 'the', 'sector', 'AOB'], ['AB'], ['arc'], 19), (['In', 'the', 'figure', 'above', ',', 'if', 'the', 'measure', 'of', 'angle', 'AOB', 'is', '@', 'v_0', 'and', 'the', 'length', 'of', 'arc', 'AB', 'is', '@', 'v_1', ',', 'what', 'is', 'the', 'area', 'of', 'the', 'sector', 'AOB'], ['AOB'], ['angle'], 10), (['If', 'the', 'measure', 'of', '@', 's_0', 'holds', ', @', 's_1', 'holds', ', @', 's_2', 'holds', ',', 'and', '@', 's_3', 'holds', ',', 'then', 'what', 'is', 'the', 'value', 'of', 'x'], ['x'], ['value'], 25), (['What', 'is', 'the', 'length', 'of', 'line', 'AB', 'in', 'the', 'figure', 'above', 'if', 'line', 'BC', 'is', 'the', 'radius', 'of', 'the', 'circle', 'and', 'line', 'AB', 'is', 'tangent', 'to', 'the', 'circle'], ['BC'], ['line'], 13), (['What', 'is', 'the', 'length', 'of', 'line', 'AB', 'in', 'the', 'figure', 'above', 'if', 'line', 'BC', 'is', 'the', 'radius', 'of', 'the', 'circle', 'and', 'line', 'AB', 'is', 'tangent', 'to', 'the', 'circle'], ['AB'], ['line'], 6), (['In', 'the', 'diagram', 'above', ',', 'lines', 'EF', 'and', 'GH', 'are', 'parallel', ',', 'and', 'line', 'AB', 'is', 'perpendicular', 'to', 'lines', 'EF', 'and', 'GH'], ['EF'], ['lines'], 6), (['In', 'the', 'diagram', 'above', ',', 'lines', 'EF', 'and', 'GH', 'are', 'parallel', ',', 'and', 'line', 'AB', 'is', 'perpendicular', 'to', 'lines', 'EF', 'and', 'GH'], ['AB'], ['line'], 14), (['In', 'the', 'diagram', 'above', ',', 'lines', 'EF', 'and', 'GH', 'are', 'parallel', ',', 'and', 'line', 'AB', 'is', 'perpendicular', 'to', 'lines', 'EF', 'and', 'GH'], ['GH'], ['lines'], 8), (['What', 'is', 'the', 'length', 'of', 'line', 'AB'], ['AB'], ['line'], 6), (['What', 'is', 'the', 'area', 'of', 'triangle', 'AFB'], ['AFB'], ['triangle'], 6), (['In', 'the', 'diagram', 'above', ',', 'line', 'OA', 'is', 'congruent', 'to', 'line', 'OB'], ['OA'], ['line'], 6), (['What', 'is', 'the', 'measure', 'of', 'arc', 'CD'], ['CD'], ['arc'], 6), (['In', 'the', 'diagram', 'above', ',', 'angle', 'A', 'is', 'congruent', 'to', 'angle', 'BED', ',', 'and', 'angle', 'C', 'is', 'congruent', 'to', 'angle', 'D'], ['BED'], ['angle'], 11), (['In', 'the', 'diagram', 'above', ',', 'angle', 'A', 'is', 'congruent', 'to', 'angle', 'BED', ',', 'and', 'angle', 'C', 'is', 'congruent', 'to', 'angle', 'D'], ['C'], ['angle'], 15), (['In', 'the', 'diagram', 'above', ',', 'angle', 'A', 'is', 'congruent', 'to', 'angle', 'BED', ',', 'and', 'angle', 'C', 'is', 'congruent', 'to', 'angle', 'D'], ['A'], ['angle'], 6), (['If', 'the', 'ratio', 'of', 'the', 'length', 'of', 'AB', 'to', 'the', 'length', 'of', 'EB', 'is', '@', 'v_0', ',', 'and', 'the', 'area', 'of', 'the', 'triangle', 'BED', 'is', '@', 'v_1', ',', 'what', 'is', 'the', 'area', 'of', 'triangle', 'ABC'], ['BED'], ['area'], 23), (['If', 'the', 'ratio', 'of', 'the', 'length', 'of', 'AB', 'to', 'the', 'length', 'of', 'EB', 'is', '@', 'v_0', ',', 'and', 'the', 'area', 'of', 'the', 'triangle', 'BED', 'is', '@', 'v_1', ',', 'what', 'is', 'the', 'area', 'of', 'triangle', 'ABC'], ['AB'], ['length'], 7), (['If', 'the', 'ratio', 'of', 'the', 'length', 'of', 'AB', 'to', 'the', 'length', 'of', 'EB', 'is', '@', 'v_0', ',', 'and', 'the', 'area', 'of', 'the', 'triangle', 'BED', 'is', '@', 'v_1', ',', 'what', 'is', 'the', 'area', 'of', 'triangle', 'ABC'], ['BED'], ['triangle'], 23), (['If', 'the', 'ratio', 'of', 'the', 'length', 'of', 'AB', 'to', 'the', 'length', 'of', 'EB', 'is', '@', 'v_0', ',', 'and', 'the', 'area', 'of', 'the', 'triangle', 'BED', 'is', '@', 'v_1', ',', 'what', 'is', 'the', 'area', 'of', 'triangle', 'ABC'], ['EB'], ['length'], 12), (['In', 'the', 'diagram', 'above', ',', 'lines', 'K', 'and', 'L', 'are', 'parallel', ',', 'and', 'lines', 'M', 'and', 'N', 'are', 'parallel'], ['M'], ['lines'], 14), (['In', 'the', 'diagram', 'above', ',', 'lines', 'K', 'and', 'L', 'are', 'parallel', ',', 'and', 'lines', 'M', 'and', 'N', 'are', 'parallel'], ['N'], ['lines'], 16), (['In', 'the', 'diagram', 'above', ',', 'lines', 'K', 'and', 'L', 'are', 'parallel', ',', 'and', 'lines', 'M', 'and', 'N', 'are', 'parallel'], ['L'], ['lines'], 8), (['In', 'the', 'diagram', 'above', ',', 'lines', 'K', 'and', 'L', 'are', 'parallel', ',', 'and', 'lines', 'M', 'and', 'N', 'are', 'parallel'], ['K'], ['lines'], 6), (['In', 'the', 'diagram', 'above', ',', 'lines', 'M', 'and', 'N', 'are', 'parallel'], ['M'], ['lines'], 6), (['In', 'the', 'diagram', 'above', ',', 'lines', 'M', 'and', 'N', 'are', 'parallel'], ['N'], ['lines'], 8), (['In', 'the', 'figure', 'above', ',', 'two', 'line', 'segments', 'meet', 'at', 'a', 'point', 'on', 'line', 'l'], ['l'], ['line'], 14), (['What', 'is', 'the', 'value', 'of', 'x'], ['x'], ['value'], 5), (['If', '@', 's_0', 'holds', ',', 'which', 'of', 'the', 'following', 'could', 'be', 'the', 'length', 'of', 'line', 'AC'], ['AC'], ['line'], 15), (['What', 'is', 'the', 'value', 'of', 'x'], ['x'], ['value'], 5), (['What', 'is', 'the', 'measure', 'of', 'angle', 'ABC'], ['ABC'], ['angle'], 6), (['The', 'measure', 'of', 'angle', 'BAC', 'equals', '@', 'v_0'], ['BAC'], ['angle'], 4), (['What', 'is', 'the', 'value', 'of', 'x'], ['x'], ['value'], 5), (['A', 'square', 'is', 'tangent', 'to', 'a', 'line', 'at', 'point', 'P', 'in', 'the', 'figure', 'above'], ['P'], ['point'], 9), (['What', 'is', 'the', 'value', 'of', 'x'], ['x'], ['value'], 5), (['Rectangle', 'ABCD', 'shown', 'in', 'the', 'figure', 'above', 'has', 'width', 'w', 'and', 'length', 'l', 'that', 'is', 'twice', 'the', 'width'], ['ABCD'], ['Rectangle'], 1), (['Rectangle', 'ABCD', 'shown', 'in', 'the', 'figure', 'above', 'has', 'width', 'w', 'and', 'length', 'l', 'that', 'is', 'twice', 'the', 'width'], ['w'], ['width'], 9), (['Rectangle', 'ABCD', 'shown', 'in', 'the', 'figure', 'above', 'has', 'width', 'w', 'and', 'length', 'l', 'that', 'is', 'twice', 'the', 'width'], ['l'], ['length'], 12), (['What', 'is', 'the', 'length', 'of', 'segment', 'AB'], ['AB'], ['segment'], 6), (['In', 'the', 'figure', 'above', ',', 'the', 'ratio', 'of', 'the', 'length', 'of', 'line', 'AB', 'to', 'the', 'length', 'of', 'line', 'AC', 'is', '@', 'v_0'], ['AB'], ['line'], 12), (['In', 'the', 'figure', 'above', ',', 'the', 'ratio', 'of', 'the', 'length', 'of', 'line', 'AB', 'to', 'the', 'length', 'of', 'line', 'AC', 'is', '@', 'v_0'], ['AC'], ['line'], 18), (['If', '@', 's_0', 'is', 'true', ',', 'what', 'is', 'the', 'length', 'of', 'line', 'AB'], ['AB'], ['line'], 12), (['Triangle', 'ABC', 'and', 'line', 'l', 'are', 'shown', 'in', 'the', 'figure', 'above'], ['l'], ['line'], 4), (['Triangle', 'ABC', 'and', 'line', 'l', 'are', 'shown', 'in', 'the', 'figure', 'above'], ['ABC'], ['Triangle'], 1), (['What', 'is', 'the', 'sum', 'of', 'y', 'and', 'z'], ['y'], ['sum'], 5), (['For', 'trapezoid', 'ABCD', 'shown', 'above', ', @', 's_0', 'is', 'true', ', @', 's_1', 'is', 'true', ',', 'and', '@', 's_2', 'is', 'true'], ['ABCD'], ['trapezoid'], 2), (['What', 'is', 'the', 'length', 'of', 'segment', 'CD'], ['CD'], ['segment'], 6), (['What', 'is', 'the', 'area', 'of', 'ABCD'], ['ABCD'], ['area'], 5), (['Given', 'the', 'circle', 'at', 'the', 'right', 'with', 'diameter', 'AB', ',', 'find', 'x'], ['x'], ['find'], 11), (['Given', 'the', 'circle', 'at', 'the', 'right', 'with', 'diameter', 'AB', ',', 'find', 'x'], ['AB'], ['diameter'], 8), (['In', 'the', 'figure', 'above', ',', 'two', 'line', 'segments', 'meet', 'at', 'a', 'point', 'on', 'line', 'l'], ['l'], ['line'], 14), (['If', 'the', 'value', 'of', 'y', 'is', 'equal', 'to', 'the', 'square', 'of', 'the', 'value', 'of', 'x', ',', 'what', 'is', 'the', 'value', 'of', 'y'], ['x'], ['value'], 14), (['What', 'is', 'the', 'area', 'of', 'triangle', 'ABC'], ['ABC'], ['triangle'], 6), (['What', 'is', 'the', 'length', 'of', 'segment', 'BD'], ['BD'], ['segment'], 6), (['What', 'is', 'the', 'measure', 'of', 'angle', 'CBA'], ['CBA'], ['angle'], 6), (['What', 'is', 'the', 'smallest', 'possible', 'integer', 'value', 'of', 'AB'], ['AB'], ['value'], 8), (['What', 'is', 'the', 'value', 'of', 'x'], ['x'], ['value'], 5), (['Line', 'AB', 'is', 'tangent', 'to', 'circle', 'O'], ['O'], ['circle'], 6), (['Line', 'AB', 'is', 'tangent', 'to', 'circle', 'O'], ['AB'], ['Line'], 1), (['What', 'is', 'the', 'length', 'of', 'side', 'AC', 'to', 'the', 'nearest', 'hundredth'], ['AC'], ['side'], 6), (['The', 'measure', 'of', 'angle', 'ABC', 'is', '@', 'v_0'], ['ABC'], ['angle'], 4), (['Segment', 'BD', 'is', 'an', 'altitude'], ['BD'], ['Segment'], 1), (['If', 'triangle', 'ABC', 'is', 'isosceles', ',', 'find', 'the', 'length', 'of', 'segment', 'AC'], ['AC'], ['segment'], 11), (['If', 'triangle', 'ABC', 'is', 'isosceles', ',', 'find', 'the', 'length', 'of', 'segment', 'AC'], ['ABC'], ['triangle'], 2), (['Line', 'AB', 'is', 'tangent', 'to', 'circle', 'O'], ['AB'], ['Line'], 1), (['If', '@', 's_0', 'holds', 'and', '@', 's_1', 'holds', ',', 'find', 'DB'], ['DB'], ['find'], 10), (['Given', 'the', 'following', 'figure', 'with', 'one', 'tangent', 'and', 'one', 'secant', 'drawn', 'to', 'the', 'circle', ',', 'what', 'is', 'the', 'measure', 'of', 'angle', 'ABD'], ['ABD'], ['angle'], 21), (['In', 'the', 'diagram', 'above', ',', 'line', 'AB', 'is', 'parallel', 'to', 'line', 'CD', ',', 'and', 'line', 'EF', 'is', 'perpendicular', 'to', 'line', 'CD'], ['CD'], ['line'], 11), (['In', 'the', 'diagram', 'above', ',', 'line', 'AB', 'is', 'parallel', 'to', 'line', 'CD', ',', 'and', 'line', 'EF', 'is', 'perpendicular', 'to', 'line', 'CD'], ['EF'], ['line'], 15), (['In', 'the', 'diagram', 'above', ',', 'line', 'AB', 'is', 'parallel', 'to', 'line', 'CD', ',', 'and', 'line', 'EF', 'is', 'perpendicular', 'to', 'line', 'CD'], ['CD'], ['line'], 11), (['In', 'the', 'diagram', 'above', ',', 'line', 'AB', 'is', 'parallel', 'to', 'line', 'CD', ',', 'and', 'line', 'EF', 'is', 'perpendicular', 'to', 'line', 'CD'], ['AB'], ['line'], 6), (['What', 'is', 'the', 'measure', 'of', 'angle', 'x'], ['x'], ['angle'], 6), (['Triangle', 'BDC', ',', 'shown', 'above', ',', 'has', 'an', 'area', 'of', '48'], ['BDC'], ['area'], 1), (['Triangle', 'BDC', ',', 'shown', 'above', ',', 'has', 'an', 'area', 'of', '48'], ['BDC'], ['Triangle'], 1), (['In', 'the', 'diagram', 'above', ',', 'angle', 'OBC', 'is', 'congruent', 'to', 'angle', 'OCB'], ['OBC'], ['angle'], 6), (['How', 'many', 'degrees', 'does', 'angle', 'A', 'measure'], ['A'], ['angle'], 5), (['In', 'the', 'triangle', 'in', 'the', 'figure', 'above', ',', 'what', 'is', 'the', 'value', 'of', 'x'], ['x'], ['value'], 13), (['In', 'the', 'diagram', 'at', 'the', 'right', ',', 'circle', 'O', 'has', 'a', 'radius', 'of', '5', ',', 'and', '@', 's_0', 'holds'], ['O'], ['circle'], 8), (['Diameter', 'AC', 'is', 'perpendicular', 'to', 'chord', 'BD', 'at', 'E'], ['AC'], ['Diameter'], 1), (['Diameter', 'AC', 'is', 'perpendicular', 'to', 'chord', 'BD', 'at', 'E'], ['BD'], ['chord'], 6), (['What', 'is', 'the', 'length', 'of', 'BD'], ['BD'], ['length'], 5), (['What', 'is', 'the', 'length', 'of', 'c', 'in', 'the', 'triangle', 'above'], ['c'], ['length'], 5), (['What', 'is', 'the', 'length', 'of', 'a', 'in', 'the', 'triangle', 'above'], ['a'], ['length'], 5), (['What', 'is', 'the', 'length', 'of', 'y', 'in', 'the', 'triangle', 'above'], ['y'], ['length'], 5), (['In', 'the', 'figure', 'above', ',', 'line', 'L', 'is', 'perpendicular', 'to', 'line', 'M'], ['L'], ['line'], 6), (['If', 'line', 'm', 'is', 'perpendicular', 'with', 'line', 'L', ',', 'what', 'is', 'a', 'possible', 'equation', 'of', 'line', 'ML'], ['L'], ['line'], 7), (['In', 'the', 'figure', 'above', ',', 'the', 'circle', 'with', 'center', 'A', 'and', 'the', 'circle', 'with', 'center', 'B', 'are', 'tangent', 'at', 'point', 'C'], ['C'], ['point'], 20), (['In', 'the', 'figure', 'above', ',', 'the', 'circle', 'with', 'center', 'A', 'and', 'the', 'circle', 'with', 'center', 'B', 'are', 'tangent', 'at', 'point', 'C'], ['A'], ['center'], 9), (['In', 'the', 'figure', 'above', ',', 'the', 'circle', 'with', 'center', 'A', 'and', 'the', 'circle', 'with', 'center', 'B', 'are', 'tangent', 'at', 'point', 'C'], ['B'], ['center'], 15), (['If', 'the', 'circles', 'each', 'have', 'radius', '10', ',', 'and', 'if', 'line', 'l', 'is', 'tangent', 'to', 'the', 'circle', 'with', 'center', 'A', 'at', 'point', 'P', ',', 'what', 'are', 'the', 'coordinates', 'of', 'point', 'P'], ['A'], ['circle'], 19), (['If', 'the', 'circles', 'each', 'have', 'radius', '10', ',', 'and', 'if', 'line', 'l', 'is', 'tangent', 'to', 'the', 'circle', 'with', 'center', 'A', 'at', 'point', 'P', ',', 'what', 'are', 'the', 'coordinates', 'of', 'point', 'P'], ['l'], ['line'], 11), (['If', 'the', 'circles', 'each', 'have', 'radius', '10', ',', 'and', 'if', 'line', 'l', 'is', 'tangent', 'to', 'the', 'circle', 'with', 'center', 'A', 'at', 'point', 'P', ',', 'what', 'are', 'the', 'coordinates', 'of', 'point', 'P'], ['P'], ['point'], 22), (['In', 'triangle', 'ABC', 'above', ',', 'D', 'and', 'E', 'are', 'the', 'midpoints', 'of', 'AB', 'and', 'BC', 'respectively'], ['E'], ['midpoints'], 7), (['In', 'triangle', 'ABC', 'above', ',', 'D', 'and', 'E', 'are', 'the', 'midpoints', 'of', 'AB', 'and', 'BC', 'respectively'], ['D'], ['midpoints'], 5), (['If', 'A', ',', 'B', ',', 'and', 'C', 'are', 'on', 'the', 'line', 'ell', ',', 'what', 'is', 'the', 'value', 'of', 'k'], ['k'], ['value'], 18), (['The', 'figure', 'above', 'shows', 'a', 'part', 'of', 'a', 'circle', 'with', 'a', 'center', 'at', 'R'], ['R'], ['center'], 13), (['If', 'the', 'length', 'of', 'the', 'PQ', 'is', 'k', ',', 'what', 'is', 'the', 'perimeter', 'of', 'the', 'figure'], ['PQ'], ['length'], 5), (['In', 'the', 'figure', 'above', ',', 'angle', 'BAC', '=', '30', ',', 'angle', 'BCD', '=', '60', 'and', 'the', 'length', 'of', 'AC', 'is', '4'], ['BCD'], ['angle'], 11), (['In', 'the', 'figure', 'above', ',', 'angle', 'BAC', '=', '30', ',', 'angle', 'BCD', '=', '60', 'and', 'the', 'length', 'of', 'AC', 'is', '4'], ['BAC'], ['angle'], 6), (['In', 'the', 'figure', 'above', ',', 'angle', 'BAC', '=', '30', ',', 'angle', 'BCD', '=', '60', 'and', 'the', 'length', 'of', 'AC', 'is', '4'], ['AC'], ['length'], 18), (['If', 'the', 'perimeter', 'of', 'triangle', 'ABC', 'is', '7', ',', 'what', 'is', 'the', 'perimeter', 'of', 'triangle', 'CDE'], ['ABC'], ['triangle'], 5), (['What', 'is', 'the', 'length', 'of', 'PQ'], ['PQ'], ['length'], 5), (['In', 'the', 'figure', 'above', ',', 'line', 'l', 'passes', 'through', 'point', 'P', 'and', 'Q'], ['l'], ['line'], 6), (['In', 'the', 'figure', 'above', ',', 'line', 'ell', 'passes', 'through', 'point', 'P', 'and', 'Q'], ['P'], ['point'], 10), (['In', 'the', 'figure', 'above', ',', 'P', 'and', 'Q', 'are', 'the', 'midpoints', 'of', 'lines', 'AB', 'and', 'BC', 'respectively'], ['AB'], ['lines'], 13), (['In', 'the', 'figure', 'above', ',', 'P', 'and', 'Q', 'are', 'the', 'midpoints', 'of', 'lines', 'AB', 'and', 'BC', 'respectively'], ['BC'], ['lines'], 15), (['In', 'the', 'figure', 'above', ',', 'P', 'and', 'Q', 'are', 'the', 'midpoints', 'of', 'lines', 'AB', 'and', 'BC', 'respectively'], ['P'], ['midpoints'], 5), (['In', 'the', 'figure', 'above', ',', 'P', 'and', 'Q', 'are', 'the', 'midpoints', 'of', 'lines', 'AB', 'and', 'BC', 'respectively'], ['Q'], ['midpoints'], 7), (['If', 'the', 'length', 'of', 'AB', 'is', 'equal', 'to', '13', 'of', 'the', 'length', 'of', 'BC', 'and', 'the', 'length', 'of', 'PQ', 'is', '12', ',', 'what', 'is', 'the', 'length', 'of', 'BC'], ['AB'], ['length'], 4), (['If', 'the', 'length', 'of', 'AB', 'is', 'equal', 'to', '13', 'of', 'the', 'length', 'of', 'BC', 'and', 'the', 'length', 'of', 'PQ', 'is', '12', ',', 'what', 'is', 'the', 'length', 'of', 'BC'], ['PQ'], ['length'], 18), (['If', 'the', 'length', 'of', 'AB', 'is', 'equal', 'to', '13', 'of', 'the', 'length', 'of', 'BC', 'and', 'the', 'length', 'of', 'PQ', 'is', '12', ',', 'what', 'is', 'the', 'length', 'of', 'BC'], ['BC'], ['length'], 13), (['If', 'the', 'length', 'of', 'AB', 'is', 'equal', 'to', 'frac', '13', 'of', 'the', 'length', 'of', 'BC', 'and', 'the', 'length', 'of', 'PQ', 'is', '12', ',', 'what', 'is', 'the', 'length', 'of', 'BC'], ['AB'], ['length'], 4), (['If', 'the', 'length', 'of', 'AB', 'is', 'equal', 'to', 'frac', '13', 'of', 'the', 'length', 'of', 'BC', 'and', 'the', 'length', 'of', 'PQ', 'is', '12', ',', 'what', 'is', 'the', 'length', 'of', 'BC'], ['BC'], ['length'], 14), (['If', 'the', 'length', 'of', 'AB', 'is', 'equal', 'to', 'frac', '13', 'of', 'the', 'length', 'of', 'BC', 'and', 'the', 'length', 'of', 'PQ', 'is', '12', ',', 'what', 'is', 'the', 'length', 'of', 'BC'], ['PQ'], ['length'], 19), (['In', 'the', 'figure', 'above', ',', 'line', 'AB', '=', '4', ',', 'AC', '=', '3', ',', 'and', 'DE', '=', '12', '.', 'What', 'is', 'the', 'length', 'of', 'BE'], ['BE'], ['length'], 24), (['In', 'the', 'figure', 'above', ',', 'line', 'AB', '=', '4', ',', 'AC', '=', '3', ',', 'and', 'DE', '=', '12', '.', 'What', 'is', 'the', 'length', 'of', 'BE'], ['AC'], ['length'], 10), (['In', 'the', 'figure', 'above', ',', 'line', 'AB', '=', '4', ',', 'AC', '=', '3', ',', 'and', 'DE', '=', '12', '.', 'What', 'is', 'the', 'length', 'of', 'BE'], ['DE'], ['length'], 15), (['In', 'the', 'figure', 'above', ',', 'the', 'length', 'of', 'XY', 'is', 'equal', 'to', '10'], ['XY'], ['length'], 8), (['In', 'the', 'figure', 'above', ',', 'ABCD', 'is', 'a', 'square', 'and', 'triangle', 'PBC', 'is', 'an', 'isosceles', 'triangle'], ['ABCD'], ['square'], 5), (['If', 'AB', '=', '4', ',', 'what', 'is', 'the', 'length', 'of', 'PD'], ['PD'], ['length'], 10), (['If', 'the', 'radius', 'of', 'circle', 'B', 'is', '2', ',', 'what', 'is', 'the', 'length', 'of', 'AC'], ['B'], ['circle'], 5), (['If', 'the', 'radius', 'of', 'circle', 'B', 'is', '2', ',', 'what', 'is', 'the', 'length', 'of', 'AC'], ['AC'], ['length'], 14), (['In', 'the', 'figure', 'above', ',', 'line', 'l', 'is', 'parallel', 'to', 'line', 'm', '??'], ['l'], ['line'], 6), (['Which', 'of', 'the', 'following', 'could', 'not', 'be', 'the', 'length', 'of', 'AP'], ['AP'], ['length'], 10), (['In', 'the', 'figure', 'above', ',', 'ABCD', 'is', 'a', 'rectangle', 'where', 'side', 'AD', '=', '8', ',', 'and', 'CD', '=', '4'], ['ABCD'], ['rectangle'], 5), (['In', 'the', 'figure', 'above', ',', 'ABCD', 'is', 'a', 'rectangle', 'where', 'side', 'AD', '=', '8', ',', 'and', 'CD', '=', '4'], ['AD'], ['side'], 11), (['In', 'the', 'figure', 'above', ',', 'ABCD', 'is', 'a', 'rectangle', 'where', 'side', 'AD', '=', '8', ',', 'and', 'CD', '=', '4'], ['CD'], ['side'], 16), (['If', 'points', 'F', 'and', 'G', 'are', 'on', 'line', 'BC', 'so', 'that', 'line', 'BF', '=', '1', 'and', 'GC', '=', '3', ',', 'and', 'line', 'AF', 'and', 'DG', 'intersect', 'at', 'point', 'E', ',', 'what', 'is', 'the', 'area', 'of', 'triangle', 'AED'], ['AF'], ['line'], 22), (['If', 'points', 'F', 'and', 'G', 'are', 'on', 'line', 'BC', 'so', 'that', 'line', 'BF', '=', '1', 'and', 'GC', '=', '3', ',', 'and', 'line', 'AF', 'and', 'DG', 'intersect', 'at', 'point', 'E', ',', 'what', 'is', 'the', 'area', 'of', 'triangle', 'AED'], ['BF'], ['line'], 12), (['If', 'points', 'F', 'and', 'G', 'are', 'on', 'line', 'BC', 'so', 'that', 'line', 'BF', '=', '1', 'and', 'GC', '=', '3', ',', 'and', 'line', 'AF', 'and', 'DG', 'intersect', 'at', 'point', 'E', ',', 'what', 'is', 'the', 'area', 'of', 'triangle', 'AED'], ['BC'], ['line'], 8), (['If', 'points', 'F', 'and', 'G', 'are', 'on', 'line', 'BC', 'so', 'that', 'line', 'BF', '=', '1', 'and', 'GC', '=', '3', ',', 'and', 'line', 'AF', 'and', 'DG', 'intersect', 'at', 'point', 'E', ',', 'what', 'is', 'the', 'area', 'of', 'triangle', 'AED'], ['DG'], ['line'], 24), (['If', 'points', 'F', 'and', 'G', 'are', 'on', 'line', 'BC', 'so', 'that', 'line', 'BF', '=', '1', 'and', 'GC', '=', '3', ',', 'and', 'line', 'AF', 'and', 'DG', 'intersect', 'at', 'point', 'E', ',', 'what', 'is', 'the', 'area', 'of', 'triangle', 'AED'], ['AF'], ['line'], 22), (['If', 'points', 'F', 'and', 'G', 'are', 'on', 'line', 'BC', 'so', 'that', 'line', 'BF', '=', '1', 'and', 'GC', '=', '3', ',', 'and', 'line', 'AF', 'and', 'DG', 'intersect', 'at', 'point', 'E', ',', 'what', 'is', 'the', 'area', 'of', 'triangle', 'AED'], ['G'], ['points'], 4), (['If', 'points', 'F', 'and', 'G', 'are', 'on', 'line', 'BC', 'so', 'that', 'line', 'BF', '=', '1', 'and', 'GC', '=', '3', ',', 'and', 'line', 'AF', 'and', 'DG', 'intersect', 'at', 'point', 'E', ',', 'what', 'is', 'the', 'area', 'of', 'triangle', 'AED'], ['E'], ['point'], 28), (['If', 'points', 'F', 'and', 'G', 'are', 'on', 'line', 'BC', 'so', 'that', 'line', 'BF', '=', '1', 'and', 'GC', '=', '3', ',', 'and', 'line', 'AF', 'and', 'DG', 'intersect', 'at', 'point', 'E', ',', 'what', 'is', 'the', 'area', 'of', 'triangle', 'AED'], ['AED'], ['triangle'], 36), (['In', 'the', 'figure', 'above', ',', 'O', 'is', 'the', 'center', 'of', 'the', 'circle', 'and', 'AD', 'is', 'tangent', 'to', 'the', 'circle', 'at', 'point', 'C'], ['O'], ['center'], 5), (['In', 'the', 'figure', 'above', ',', 'O', 'is', 'the', 'center', 'of', 'the', 'circle', 'and', 'AD', 'is', 'tangent', 'to', 'the', 'circle', 'at', 'point', 'C'], ['AD'], ['tangent'], 13), (['In', 'the', 'figure', 'above', ',', 'O', 'is', 'the', 'center', 'of', 'the', 'circle', 'and', 'AD', 'is', 'tangent', 'to', 'the', 'circle', 'at', 'point', 'C'], ['C'], ['point'], 21), (['In', 'the', 'figure', 'above', ',', 'line', 'l', 'is', 'perpendicular', 'to', 'line', 'm', ',', 'and', 'angle', 'w', '=', '30'], ['w'], ['angle'], 15), (['In', 'the', 'figure', 'above', ',', 'line', 'l', 'is', 'perpendicular', 'to', 'line', 'm', ',', 'and', 'w', '=', '30'], ['l'], ['line'], 6), (['What', 'is', 'the', 'length', 'of', 'AB'], ['AB'], ['length'], 5), (['In', 'the', 'figure', 'above', ',', 'line', 'AB', 'parallel', 'CD'], ['AB'], ['line'], 6), (['In', 'the', 'figure', 'above', ',', 'line', 'AB', 'parallel', 'CD'], ['CD'], ['line'], 8), (['In', 'the', 'figure', 'of', 'a', 'square', 'above', ',', 'the', 'length', 'of', 'AD', 'is', '2x', ',', 'the', 'length', 'of', 'AM', 'is', 'x', 'and', 'line', 'AB', 'is', 'parallel', 'to', 'MN'], ['AD'], ['length'], 11), (['In', 'the', 'figure', 'of', 'a', 'square', 'above', ',', 'the', 'length', 'of', 'AD', 'is', '2x', ',', 'the', 'length', 'of', 'AM', 'is', 'x', 'and', 'line', 'AB', 'is', 'parallel', 'to', 'MN'], ['AB'], ['line'], 23), (['In', 'the', 'figure', 'above', ',', 'the', 'circle', 'has', 'its', 'center', 'at', 'P', 'and', 'line', 'AB', 'is', 'perpendicular', 'to', 'the', 'x', '-', 'axis'], ['P'], ['center'], 11), (['In', 'the', 'figure', 'above', ',', 'the', 'circle', 'has', 'its', 'center', 'at', 'P', 'and', 'line', 'AB', 'is', 'perpendicular', 'to', 'the', 'x', '-', 'axis'], ['AB'], ['line'], 14), (['In', 'the', 'rectangle', 'above', ',', 'the', 'length', 'of', 'AE', 'is', 'equal', 'to', '25', 'of', 'the', 'length', 'of', 'AC'], ['AE'], ['length'], 8), (['In', 'the', 'figure', 'above', ',', 'lines', 'FE', 'parallel', 'AD', ',', 'AF', 'parallel', 'DE', ',', 'and', 'length', 'BE', 'is', '2'], ['FE'], ['lines'], 6), (['In', 'the', 'figure', 'above', ',', 'lines', 'FE', 'parallel', 'AD', ',', 'AF', 'parallel', 'DE', ',', 'and', 'length', 'BE', 'is', '2'], ['AD'], ['lines'], 8), (['In', 'the', 'figure', 'above', ',', 'lines', 'FE', 'parallel', 'AD', ',', 'AF', 'parallel', 'DE', ',', 'and', 'length', 'BE', 'is', '2'], ['AF'], ['lines'], 10), (['In', 'the', 'figure', 'above', ',', 'lines', 'FE', 'parallel', 'AD', ',', 'AF', 'parallel', 'DE', ',', 'and', 'length', 'BE', 'is', '2'], ['DE'], ['lines'], 12), (['In', 'the', 'figure', 'above', ',', 'lines', 'FE', 'parallel', 'AD', ',', 'AF', 'parallel', 'DE', ',', 'and', 'length', 'BE', 'is', '2'], ['BE'], ['length'], 16), (['The', 'area', 'of', 'parallelogram', 'AFED', 'is', 'what', 'fraction', 'of', 'the', 'area', 'of', 'triangle', 'ABC'], ['ABC'], ['triangle'], 13), (['The', 'area', 'of', 'parallelogram', 'AFED', 'is', 'what', 'fraction', 'of', 'the', 'area', 'of', 'triangle', 'ABC'], ['AFED'], ['parallelogram'], 4), (['If', 'M', 'is', 'the', 'midpoint', 'of', 'AC', ',', 'line', 'PQ', 'is', 'parallel', 'to', 'AC', ',', 'what', 'fraction', 'of', 'the', 'area', 'of', 'triangle', 'ABC', 'is', 'shaded'], ['M'], ['midpoint'], 1), (['If', 'M', 'is', 'the', 'midpoint', 'of', 'AC', ',', 'line', 'PQ', 'is', 'parallel', 'to', 'AC', ',', 'what', 'fraction', 'of', 'the', 'area', 'of', 'triangle', 'ABC', 'is', 'shaded'], ['PQ'], ['line'], 9), (['If', 'M', 'is', 'the', 'midpoint', 'of', 'AC', ',', 'line', 'PQ', 'is', 'parallel', 'to', 'AC', ',', 'what', 'fraction', 'of', 'the', 'area', 'of', 'triangle', 'ABC', 'is', 'shaded'], ['AC'], ['line'], 6), (['In', 'the', 'equilateral', 'triangle', 'ABC', 'shown', 'above', ',', 'side', 'AB', '=', '4', ',', 'C', 'is', 'the', 'midpoint', 'of', 'side', 'AD', 'and', 'E', 'is', 'the', 'midpoint', 'of', 'side', 'BC'], ['ABC'], ['triangle'], 4), (['In', 'the', 'equilateral', 'triangle', 'ABC', 'shown', 'above', ',', 'side', 'AB', '=', '4', ',', 'C', 'is', 'the', 'midpoint', 'of', 'side', 'AD', 'and', 'E', 'is', 'the', 'midpoint', 'of', 'side', 'BC'], ['C'], ['midpoint'], 13), (['In', 'the', 'equilateral', 'triangle', 'ABC', 'shown', 'above', ',', 'side', 'AB', '=', '4', ',', 'C', 'is', 'the', 'midpoint', 'of', 'side', 'AD', 'and', 'E', 'is', 'the', 'midpoint', 'of', 'side', 'BC'], ['E'], ['midpoint'], 21), (['In', 'the', 'equilateral', 'triangle', 'ABC', 'shown', 'above', ',', 'side', 'AB', '=', '4', ',', 'C', 'is', 'the', 'midpoint', 'of', 'side', 'AD', 'and', 'E', 'is', 'the', 'midpoint', 'of', 'side', 'BC'], ['AB'], ['side'], 9), (['In', 'the', 'equilateral', 'triangle', 'ABC', 'shown', 'above', ',', 'side', 'AB', '=', '4', ',', 'C', 'is', 'the', 'midpoint', 'of', 'side', 'AD', 'and', 'E', 'is', 'the', 'midpoint', 'of', 'side', 'BC'], ['AD'], ['side'], 19), (['In', 'the', 'figure', 'above', ',', 'line', 'DE', 'parallel', 'FG', 'parallel', 'AC', 'and', 'line', 'AF', '=', 'FD', '=', 'DB'], ['DE'], ['line'], 6), (['In', 'the', 'figure', 'above', ',', 'line', 'DE', 'parallel', 'FG', 'parallel', 'AC', 'and', 'line', 'AF', '=', 'FD', '=', 'DB'], ['FG'], ['line'], 8), (['In', 'the', 'figure', 'above', ',', 'line', 'DE', 'parallel', 'FG', 'parallel', 'AC', 'and', 'line', 'AF', '=', 'FD', '=', 'DB'], ['AC'], ['line'], 10), (['In', 'the', 'figure', 'above', ',', 'line', 'DE', 'parallel', 'FG', 'parallel', 'AC', 'and', 'line', 'AF', '=', 'FD', '=', 'DB'], ['AF'], ['line'], 13), (['In', 'the', 'figure', 'above', ',', 'line', 'DE', 'parallel', 'FG', 'parallel', 'AC', 'and', 'line', 'AF', '=', 'FD', '=', 'DB'], ['FD'], ['line'], 15), (['In', 'the', 'figure', 'above', ',', 'line', 'DE', 'parallel', 'FG', 'parallel', 'AC', 'and', 'line', 'AF', '=', 'FD', '=', 'DB'], ['DB'], ['line'], 17), (['In', 'triangle', 'ABC', ',', 'side', 'AD', '=', '3', 'and', 'DC', '=', '12'], ['AD'], ['side'], 5), (['In', 'triangle', 'ABC', ',', 'side', 'AD', '=', '3', 'and', 'DC', '=', '12'], ['DC'], ['side'], 9), (['What', 'is', 'the', 'length', 'of', 'AB'], ['AB'], ['length'], 5), (['In', 'the', 'figure', 'above', ',', 'ABCD', 'is', 'an', 'isosceles', 'trapezoid'], ['ABCD'], ['trapezoid'], 5), (['If', 'the', 'length', 'of', 'AD', 'is', '24', 'and', 'the', 'length', 'of', 'BC', 'is', '16', ',', 'what', 'is', 'the', 'perimeter', 'of', 'the', 'trapezoid'], ['AD'], ['length'], 4), (['If', 'the', 'length', 'of', 'AD', 'is', '4', 'and', 'the', 'length', 'of', 'DC', 'is', '3', ',', 'what', 'is', 'the', 'area', 'of', 'the', 'shaded', 'region'], ['AD'], ['length'], 4), (['In', 'the', 'figure', 'above', ',', 'P', 'is', 'the', 'midpoint', 'of', 'side', 'AB', 'and', 'Qis', 'the', 'midpoint', 'of', 'side', 'BC'], ['P'], ['midpoint'], 5), (['If', 'the', 'area', 'of', 'trapezoid', 'APQC', 'is', '20', ',', 'what', 'is', 'the', 'area', 'of', 'triangle', 'ABC'], ['APQC'], ['trapezoid'], 5), (['If', 'the', 'length', 'of', 'BC', 'is', 'k', ',', 'what', 'is', 'the', 'sum', 'of', 'the', 'areas', 'of', 'the', 'semicircles', 'in', 'terms', 'of', 'k'], ['BC'], ['length'], 4), (['In', 'the', 'figure', 'above', ',', 'line', 'l', 'and', 'm', 'are', 'parallel'], ['l'], ['line'], 6), (['In', 'the', 'figure', 'above', ',', 'line', 'l', 'and', 'm', 'are', 'parallel'], ['m'], ['line'], 8), (['What', 'is', 'the', 'value', 'of', 'x'], ['x'], ['value'], 5), (['If', 'line', 'BD', '=', '15', ',', 'what', 'is', 'the', 'length', 'of', 'DE'], ['DE'], ['length'], 11), (['If', 'line', 'BD', '=', '15', ',', 'what', 'is', 'the', 'length', 'of', 'DE'], ['BD'], ['line'], 2), (['In', 'the', 'figure', 'above', ',', 'a', 'circle', 'is', 'tangent', 'to', 'the', 'line', 'l', 'at', 'point', 'P'], ['l'], ['line'], 12), (['In', 'the', 'figure', 'above', ',', 'a', 'circle', 'is', 'tangent', 'to', 'the', 'line', 'l', 'at', 'point', 'P'], ['P'], ['point'], 15)]\n",
            "q_position_1 2\n",
            "q_position_1 5\n",
            "q_position_1 10\n",
            "q_position_1 10\n",
            "q_position_1 8\n",
            "q_position_1 12\n",
            "q_position_1 15\n",
            "q_position_1 14\n",
            "q_position_1 6\n",
            "q_position_1 8\n",
            "q_position_1 10\n",
            "q_position_1 5\n",
            "q_position_1 2\n",
            "q_position_1 1\n",
            "q_position_1 10\n",
            "q_position_1 4\n",
            "q_position_1 6\n",
            "q_position_1 3\n",
            "q_position_1 14\n",
            "q_position_1 5\n",
            "q_position_1 2\n",
            "q_position_1 12\n",
            "q_position_1 5\n",
            "q_position_1 7\n",
            "q_position_1 13\n",
            "q_position_1 10\n",
            "q_position_1 5\n",
            "q_position_1 11\n",
            "q_position_1 6\n",
            "q_position_1 5\n",
            "q_position_1 19\n",
            "q_position_1 9\n",
            "q_position_1 6\n",
            "q_position_1 15\n",
            "q_position_1 5\n",
            "q_position_1 1\n",
            "q_position_1 14\n",
            "q_position_1 10\n",
            "q_position_1 12\n",
            "q_position_1 15\n",
            "q_position_1 6\n",
            "q_position_1 9\n",
            "q_position_1 11\n",
            "q_position_1 6\n",
            "q_position_1 18\n",
            "q_position_1 21\n",
            "q_position_1 13\n",
            "q_position_1 8\n",
            "q_position_1 10\n",
            "q_position_1 12\n",
            "q_position_1 27\n",
            "q_position_1 5\n",
            "q_position_1 25\n",
            "q_position_1 4\n",
            "q_position_1 2\n",
            "q_position_1 5\n",
            "q_position_1 1\n",
            "q_position_1 14\n",
            "q_position_1 17\n",
            "q_position_1 6\n",
            "q_position_1 9\n",
            "q_position_1 1\n",
            "q_position_1 12\n",
            "q_position_1 6\n",
            "q_position_1 21\n",
            "q_position_1 4\n",
            "q_position_1 11\n",
            "q_position_1 16\n",
            "q_position_1 8\n",
            "q_position_1 1\n",
            "q_position_1 2\n",
            "q_position_1 4\n",
            "q_position_1 11\n",
            "q_position_1 5\n",
            "q_position_1 1\n",
            "q_position_1 19\n",
            "q_position_1 5\n",
            "q_position_1 5\n",
            "q_position_1 5\n",
            "q_position_1 11\n",
            "q_position_1 14\n",
            "q_position_1 6\n",
            "q_position_1 5\n",
            "q_position_1 16\n",
            "q_position_1 1\n",
            "q_position_1 3\n",
            "q_position_1 5\n",
            "q_position_1 8\n",
            "q_position_1 4\n",
            "q_position_1 6\n",
            "q_position_1 6\n",
            "q_position_1 12\n",
            "q_position_1 5\n",
            "q_position_1 8\n",
            "q_position_1 10\n",
            "q_position_1 18\n",
            "q_position_1 13\n",
            "q_position_1 16\n",
            "q_position_1 18\n",
            "q_position_1 8\n",
            "q_position_1 6\n",
            "q_position_1 12\n",
            "q_position_1 6\n",
            "q_position_1 5\n",
            "q_position_1 6\n",
            "q_position_1 9\n",
            "q_position_1 17\n",
            "q_position_1 19\n",
            "q_position_1 0\n",
            "q_position_1 9\n",
            "q_position_1 11\n",
            "q_position_1 7\n",
            "q_position_1 16\n",
            "q_position_1 27\n",
            "q_position_1 4\n",
            "q_position_1 9\n",
            "q_position_1 11\n",
            "q_position_1 22\n",
            "q_position_1 12\n",
            "q_position_1 2\n",
            "q_position_1 2\n",
            "q_position_1 6\n",
            "q_position_1 1\n",
            "q_position_1 4\n",
            "q_position_1 6\n",
            "q_position_1 7\n",
            "q_position_1 5\n",
            "q_position_1 13\n",
            "q_position_1 10\n",
            "q_position_1 2\n",
            "q_position_1 11\n",
            "q_position_1 14\n",
            "q_position_1 6\n",
            "q_position_1 5\n",
            "q_position_1 10\n",
            "q_position_1 19\n",
            "q_position_1 10\n",
            "q_position_1 25\n",
            "q_position_1 13\n",
            "q_position_1 6\n",
            "q_position_1 6\n",
            "q_position_1 14\n",
            "q_position_1 8\n",
            "q_position_1 6\n",
            "q_position_1 6\n",
            "q_position_1 6\n",
            "q_position_1 6\n",
            "q_position_1 11\n",
            "q_position_1 15\n",
            "q_position_1 6\n",
            "q_position_1 23\n",
            "q_position_1 7\n",
            "q_position_1 23\n",
            "q_position_1 12\n",
            "q_position_1 14\n",
            "q_position_1 16\n",
            "q_position_1 8\n",
            "q_position_1 6\n",
            "q_position_1 6\n",
            "q_position_1 8\n",
            "q_position_1 14\n",
            "q_position_1 5\n",
            "q_position_1 15\n",
            "q_position_1 5\n",
            "q_position_1 6\n",
            "q_position_1 4\n",
            "q_position_1 5\n",
            "q_position_1 9\n",
            "q_position_1 5\n",
            "q_position_1 1\n",
            "q_position_1 9\n",
            "q_position_1 12\n",
            "q_position_1 6\n",
            "q_position_1 12\n",
            "q_position_1 18\n",
            "q_position_1 12\n",
            "q_position_1 4\n",
            "q_position_1 1\n",
            "q_position_1 5\n",
            "q_position_1 2\n",
            "q_position_1 6\n",
            "q_position_1 5\n",
            "q_position_1 11\n",
            "q_position_1 8\n",
            "q_position_1 14\n",
            "q_position_1 14\n",
            "q_position_1 6\n",
            "q_position_1 6\n",
            "q_position_1 6\n",
            "q_position_1 8\n",
            "q_position_1 5\n",
            "q_position_1 6\n",
            "q_position_1 1\n",
            "q_position_1 6\n",
            "q_position_1 4\n",
            "q_position_1 1\n",
            "q_position_1 11\n",
            "q_position_1 2\n",
            "q_position_1 1\n",
            "q_position_1 10\n",
            "q_position_1 21\n",
            "q_position_1 11\n",
            "q_position_1 15\n",
            "q_position_1 11\n",
            "q_position_1 6\n",
            "q_position_1 6\n",
            "q_position_1 1\n",
            "q_position_1 1\n",
            "q_position_1 6\n",
            "q_position_1 5\n",
            "q_position_1 13\n",
            "q_position_1 8\n",
            "q_position_1 1\n",
            "q_position_1 6\n",
            "q_position_1 5\n",
            "q_position_1 5\n",
            "q_position_1 5\n",
            "q_position_1 5\n",
            "q_position_1 6\n",
            "q_position_1 7\n",
            "q_position_1 20\n",
            "q_position_1 9\n",
            "q_position_1 15\n",
            "q_position_1 19\n",
            "q_position_1 11\n",
            "q_position_1 22\n",
            "q_position_1 7\n",
            "q_position_1 5\n",
            "q_position_1 18\n",
            "q_position_1 13\n",
            "q_position_1 5\n",
            "q_position_1 11\n",
            "q_position_1 6\n",
            "q_position_1 18\n",
            "q_position_1 5\n",
            "q_position_1 5\n",
            "q_position_1 6\n",
            "q_position_1 10\n",
            "q_position_1 13\n",
            "q_position_1 15\n",
            "q_position_1 5\n",
            "q_position_1 7\n",
            "q_position_1 4\n",
            "q_position_1 18\n",
            "q_position_1 13\n",
            "q_position_1 4\n",
            "q_position_1 14\n",
            "q_position_1 19\n",
            "q_position_1 24\n",
            "q_position_1 10\n",
            "q_position_1 15\n",
            "q_position_1 8\n",
            "q_position_1 5\n",
            "q_position_1 10\n",
            "q_position_1 5\n",
            "q_position_1 14\n",
            "q_position_1 6\n",
            "q_position_1 10\n",
            "q_position_1 5\n",
            "q_position_1 11\n",
            "q_position_1 16\n",
            "q_position_1 22\n",
            "q_position_1 12\n",
            "q_position_1 8\n",
            "q_position_1 24\n",
            "q_position_1 22\n",
            "q_position_1 4\n",
            "q_position_1 28\n",
            "q_position_1 36\n",
            "q_position_1 5\n",
            "q_position_1 13\n",
            "q_position_1 21\n",
            "q_position_1 15\n",
            "q_position_1 6\n",
            "q_position_1 5\n",
            "q_position_1 6\n",
            "q_position_1 8\n",
            "q_position_1 11\n",
            "q_position_1 23\n",
            "q_position_1 11\n",
            "q_position_1 14\n",
            "q_position_1 8\n",
            "q_position_1 6\n",
            "q_position_1 8\n",
            "q_position_1 10\n",
            "q_position_1 12\n",
            "q_position_1 16\n",
            "q_position_1 13\n",
            "q_position_1 4\n",
            "q_position_1 1\n",
            "q_position_1 9\n",
            "q_position_1 6\n",
            "q_position_1 4\n",
            "q_position_1 13\n",
            "q_position_1 21\n",
            "q_position_1 9\n",
            "q_position_1 19\n",
            "q_position_1 6\n",
            "q_position_1 8\n",
            "q_position_1 10\n",
            "q_position_1 13\n",
            "q_position_1 15\n",
            "q_position_1 17\n",
            "q_position_1 5\n",
            "q_position_1 9\n",
            "q_position_1 5\n",
            "q_position_1 5\n",
            "q_position_1 4\n",
            "q_position_1 4\n",
            "q_position_1 5\n",
            "q_position_1 5\n",
            "q_position_1 4\n",
            "q_position_1 6\n",
            "q_position_1 8\n",
            "q_position_1 5\n",
            "q_position_1 11\n",
            "q_position_1 2\n",
            "q_position_1 12\n",
            "q_position_1 15\n",
            "              total        used        free      shared  buff/cache   available\n",
            "Mem:             12           0          10           0           1          11\n",
            "Swap:             0           0           0\n",
            "data [(['If', 'the', 'radius', 'of', 'the', 'circle', 'is', '5', ',', 'what', 'is', 'the', 'value', 'of', 't', ',', 'the', 'y', '-', 'intercept', 'of', 'the', 'line'], ['t'], ['value'], 14), (['In', 'the', 'figure', 'above', ',', 'two', 'circles', 'are', 'tangent', 'to', 'each', 'other', ',', 'and', 'line', 'l', 'is', 'tangent', 'to', 'the', 'circles', 'and', 'line', 'm', 'passes', 'through', 'the', 'center', 'of', 'the', 'two', 'circles'], ['l'], ['line'], 15), (['If', 'the', 'radius', 'of', 'circle', 'O', 'is', 'R', ',', 'what', 'is', 'the', 'length', 'of', 'AB'], ['O'], ['circle'], 5), (['If', 'the', 'radius', 'of', 'circle', 'O', 'is', 'R', ',', 'what', 'is', 'the', 'length', 'of', 'AB'], ['AB'], ['length'], 14), (['If', 'line', 'AB', '=', '8', ',', 'AD', '=', '12', ',', 'and', 'angle', 'ADC', '=', '150', '^', 'o', ',', 'what', 'is', 'the', 'area', 'of', 'the', 'shaded', 'region'], ['AB'], ['line'], 2), (['If', 'line', 'AB', '=', '8', ',', 'AD', '=', '12', ',', 'and', 'angle', 'ADC', '=', '150', '^', 'o', ',', 'what', 'is', 'the', 'area', 'of', 'the', 'shaded', 'region'], ['AD'], ['line'], 6), (['In', 'the', 'figure', 'above', ',', 'the', 'length', 'of', 'AB', ',', 'a', 'side', 'of', 'the', 'square', ',', 'is', '2x', 'and', 'the', 'length', 'of', 'FG', 'is', '2y'], ['AB'], ['length'], 8)]\n",
            "q_position_1 14\n",
            "q_position_1 15\n",
            "q_position_1 5\n",
            "q_position_1 14\n",
            "q_position_1 2\n",
            "q_position_1 6\n",
            "q_position_1 8\n",
            "Training set shape (319, 37, 2)\n",
            "Training Size 319\n",
            "Testing Size 7\n",
            "Training labels shape (319, 37)\n",
            "train_labels (319,) \n",
            " 1\n",
            "batch_size, vocab_size, sentence_size, memory_size, embedding_size, hops, max_grad_norm\n",
            " 32 458 2 37 200 3 40.0\n",
            "q_emb: Tensor(\"MemN2N_1/embedding_lookup/Identity:0\", shape=(?, 2, 200), dtype=float32)\n",
            "self._encoding Tensor(\"encoding:0\", shape=(2, 200), dtype=float32)\n",
            "u_0: Tensor(\"MemN2N_1/Sum:0\", shape=(?, 200), dtype=float32)\n",
            "m_emb_A Tensor(\"MemN2N_1/embedding_lookup_1/Identity:0\", shape=(?, 37, 2, 200), dtype=float32)\n",
            "m_A Tensor(\"MemN2N_1/Sum_1:0\", shape=(?, 37, 200), dtype=float32)\n",
            "u_temp Tensor(\"MemN2N_1/transpose:0\", shape=(?, 1, 200), dtype=float32)\n",
            "dotted Tensor(\"MemN2N_1/Sum_2:0\", shape=(?, 37), dtype=float32)\n",
            "probs Tensor(\"MemN2N_1/Softmax:0\", shape=(?, 37), dtype=float32)\n",
            "probs_temp Tensor(\"MemN2N_1/transpose_1:0\", shape=(?, 1, 37), dtype=float32)\n",
            "m_emb_C Tensor(\"MemN2N_1/hop_0/embedding_lookup/Identity:0\", shape=(?, 37, 2, 200), dtype=float32)\n",
            "m_C Tensor(\"MemN2N_1/Sum_3:0\", shape=(?, 37, 200), dtype=float32)\n",
            "c_temp Tensor(\"MemN2N_1/transpose_2:0\", shape=(?, 200, 37), dtype=float32)\n",
            "o_k Tensor(\"MemN2N_1/Sum_4:0\", shape=(?, 200), dtype=float32)\n",
            "u_k Tensor(\"MemN2N_1/add:0\", shape=(?, 200), dtype=float32)\n",
            "u_k Tensor(\"MemN2N_1/add:0\", shape=(?, 200), dtype=float32)\n",
            "u_temp Tensor(\"MemN2N_1/transpose_3:0\", shape=(?, 1, 200), dtype=float32)\n",
            "dotted Tensor(\"MemN2N_1/Sum_5:0\", shape=(?, 37), dtype=float32)\n",
            "probs Tensor(\"MemN2N_1/Softmax_1:0\", shape=(?, 37), dtype=float32)\n",
            "probs_temp Tensor(\"MemN2N_1/transpose_4:0\", shape=(?, 1, 37), dtype=float32)\n",
            "m_emb_C Tensor(\"MemN2N_1/hop_1/embedding_lookup/Identity:0\", shape=(?, 37, 2, 200), dtype=float32)\n",
            "m_C Tensor(\"MemN2N_1/Sum_6:0\", shape=(?, 37, 200), dtype=float32)\n",
            "c_temp Tensor(\"MemN2N_1/transpose_5:0\", shape=(?, 200, 37), dtype=float32)\n",
            "o_k Tensor(\"MemN2N_1/Sum_7:0\", shape=(?, 200), dtype=float32)\n",
            "u_k Tensor(\"MemN2N_1/add_1:0\", shape=(?, 200), dtype=float32)\n",
            "u_k Tensor(\"MemN2N_1/add_1:0\", shape=(?, 200), dtype=float32)\n",
            "u_temp Tensor(\"MemN2N_1/hop_3/transpose:0\", shape=(?, 1, 200), dtype=float32)\n",
            "dotted Tensor(\"MemN2N_1/hop_3/Sum:0\", shape=(?, 37), dtype=float32)\n",
            "probs Tensor(\"MemN2N_1/hop_3/Softmax:0\", shape=(?, 37), dtype=float32)\n"
          ],
          "name": "stdout"
        },
        {
          "output_type": "stream",
          "text": [
            "W0706 04:48:57.558429 140239782311808 ops.py:6631] tf.op_scope(values, name, default_name) is deprecated, use tf.name_scope(name, default_name, values)\n",
            "W0706 04:48:57.572285 140239782311808 ops.py:6631] tf.op_scope(values, name, default_name) is deprecated, use tf.name_scope(name, default_name, values)\n",
            "W0706 04:48:57.586590 140239782311808 ops.py:6631] tf.op_scope(values, name, default_name) is deprecated, use tf.name_scope(name, default_name, values)\n",
            "W0706 04:48:57.598742 140239782311808 ops.py:6631] tf.op_scope(values, name, default_name) is deprecated, use tf.name_scope(name, default_name, values)\n",
            "W0706 04:48:57.610137 140239782311808 ops.py:6631] tf.op_scope(values, name, default_name) is deprecated, use tf.name_scope(name, default_name, values)\n",
            "W0706 04:48:57.624876 140239782311808 ops.py:6631] tf.op_scope(values, name, default_name) is deprecated, use tf.name_scope(name, default_name, values)\n",
            "W0706 04:48:57.638026 140239782311808 ops.py:6631] tf.op_scope(values, name, default_name) is deprecated, use tf.name_scope(name, default_name, values)\n"
          ],
          "name": "stderr"
        },
        {
          "output_type": "stream",
          "text": [
            "Testing Accuracy: 0.9791666666666666 1.0\n"
          ],
          "name": "stdout"
        },
        {
          "output_type": "display_data",
          "data": {
            "image/png": "[encoded data removed]",
            "text/plain": [
              "<Figure size 432x288 with 1 Axes>"
            ]
          },
          "metadata": {
            "tags": []
          }
        },
        {
          "output_type": "display_data",
          "data": {
            "image/png": "[encoded data removed]",
            "text/plain": [
              "<Figure size 432x288 with 1 Axes>"
            ]
          },
          "metadata": {
            "tags": []
          }
        }
      ]
    },
    {
      "cell_type": "code",
      "metadata": {
        "id": "LU1v2ka-M0ml",
        "colab_type": "code",
        "outputId": "94d00bfe-ec08-4f83-9a85-307838b72a91",
        "colab": {
          "base_uri": "https://localhost:8080/",
          "height": 521
        }
      },
      "source": [
        "mpl.pyplot.scatter(ep_list2,train_acc_list2)\n",
        "mpl.pyplot.show()\n",
        "\n",
        "mpl.pyplot.scatter(ep_list2,val_acc_list2)\n",
        "mpl.pyplot.show()\n",
        "\n",
        "  \n"
      ],
      "execution_count": 0,
      "outputs": [
        {
          "output_type": "display_data",
          "data": {
            "image/png": "[encoded data removed]",
            "text/plain": [
              "<Figure size 432x288 with 1 Axes>"
            ]
          },
          "metadata": {
            "tags": []
          }
        },
        {
          "output_type": "display_data",
          "data": {
            "image/png": "[encoded data removed]",
            "text/plain": [
              "<Figure size 432x288 with 1 Axes>"
            ]
          },
          "metadata": {
            "tags": []
          }
        }
      ]
    },
    {
      "cell_type": "code",
      "metadata": {
        "id": "78G1YFymCgTU",
        "colab_type": "code",
        "colab": {}
      },
      "source": [
        "anneal_stop_epoch = 100\n",
        "anneal_rate = 10\n",
        "anneal_rates = [(i+1)*5 for i in range(200) if (i+1)*5<=200]\n",
        "unknowns = [i+1 for i in range(10)]\n",
        "anneal_stops = [(i+1)*100 for i in range(17) if (i+1)*100<=1600]\n",
        "for an in unknowns:\n",
        "#   anneal_rate = an\n",
        "  lr_list = list()\n",
        "  for t in range(1, epochs+1):\n",
        "      # Stepped learning rate\n",
        "      if t - 1 <= anneal_stop_epoch:\n",
        "          anneal = 1.2 ** ((t - 1) // anneal_rate)\n",
        "      else:\n",
        "          anneal = 1.2 ** (anneal_stop_epoch // anneal_rate)\n",
        "      lr = learning_rate / anneal\n",
        "      lr_list.append(lr)\n",
        "\n",
        "  mpl.pyplot.scatter([i for i in range(1600)],lr_list)\n",
        "  mpl.pyplot.show()    \n",
        "    "
      ],
      "execution_count": 0,
      "outputs": []
    },
    {
      "cell_type": "code",
      "metadata": {
        "id": "XEfp9TWDH5CZ",
        "colab_type": "code",
        "colab": {}
      },
      "source": [
        "log_info = 1\n",
        "import matplotlib.pyplot as plt\n",
        "import matplotlib.ticker as ticker\n",
        "import numpy as np\n",
        "\n",
        "def plot_attention(in_seq, out_seq, attentions):\n",
        "    \"\"\" From http://pytorch.org/tutorials/intermediate/seq2seq_translation_tutorial.html\"\"\"\n",
        "\n",
        "    out_seq = out_seq\n",
        "    attentions = attentions\n",
        "    # Set up figure with colorbar\n",
        "    fig = plt.figure()\n",
        "    ax = fig.add_subplot(111)\n",
        "    cax = ax.matshow(attentions, cmap='bone')\n",
        "#     fig.colorbar(cax)\n",
        "\n",
        "    # Set up axes\n",
        "    ax.set_xticklabels([' '] + [str(x) for x in in_seq], rotation=90)\n",
        "    ax.set_yticklabels([' '] + [str(x) for x in out_seq])\n",
        "\n",
        "    # Show label at every tick\n",
        "    ax.xaxis.set_major_locator(ticker.MultipleLocator(1))\n",
        "    ax.yaxis.set_major_locator(ticker.MultipleLocator(1))\n",
        "\n",
        "    plt.show()"
      ],
      "execution_count": 0,
      "outputs": []
    },
    {
      "cell_type": "code",
      "metadata": {
        "id": "4a-Ug1TkxRFX",
        "colab_type": "code",
        "outputId": "a0af5808-c4d5-4d57-adb3-e9120ac18d93",
        "colab": {
          "base_uri": "https://localhost:8080/",
          "height": 1000
        }
      },
      "source": [
        "# In circle O , diameter AB is perpendicular to chord CD at E .##perpendicular AB CD\n",
        "import re\n",
        "\n",
        "\n",
        "def predictLong(se, q_position=-1):\n",
        "    raws = se.split('##')[0].split()\n",
        "    #   print('raws', raws)\n",
        "    testS, testQ = se.split('##')\n",
        "    splitQ = testQ.split(' ')\n",
        "    tempQ = ' '.join(splitQ[:2])\n",
        "    tempS = testS + '##' + 'point '+ tempQ \n",
        "#     print('tempS', tempS)\n",
        "#     print('parse_stories3([tempS])', np.array(parse_stories3([tempS])).shape, parse_stories3([tempS]))\n",
        "\n",
        "    s, q, a, q_position = parse_stories3([tempS], q_position)[0]\n",
        "    s, q, a = vectorize_data(s, q, a, word_idx, sentence_size, memory_size, q_position)\n",
        "    print ('tempQ',tempQ)\n",
        "#     print('s1',s)\n",
        "#     print('q1',q)\n",
        "#     print('a1',a)\n",
        "#     print('q_position',q_position)\n",
        "    a1, att = model2.predict(s, q)\n",
        "    att = att.reshape(3, memory_size)\n",
        "    #   print('att', att.shape)\n",
        "\n",
        "    #   print('a12', a1)\n",
        "    if (a1[0] + 1 > len(raws)):\n",
        "        return [0]\n",
        "    if (log_info):\n",
        "        print('gen_rule', tempQ, ' ', raws[int(a1[0])])\n",
        "    plot_attention(raws, ['1', '2', '3'], att)\n",
        "    return a1\n",
        "\n",
        "\n",
        "def evaluate(lines, keyword_dict, rule_dict=rule_dict):\n",
        "    single_rule_list = list()\n",
        "    qs = list()\n",
        "    tp = 0\n",
        "    fp = 0\n",
        "    tn = 0\n",
        "    fn = 0\n",
        "    selected_rules = list()\n",
        "    for line in lines:\n",
        "        #     line.replace('\\n','')\n",
        "        #     line = line[:-1]\n",
        "\n",
        "\n",
        "        qKey = line.split('##')[0]\n",
        "        print('qKey',qKey)\n",
        "\n",
        "        pos_rules = list()\n",
        "        if qKey in rule_dict.keys():\n",
        "            pos_rules = rule_dict[qKey]\n",
        "\n",
        "        pos_rule_encs = list()\n",
        "        pos_rule_encs2 = list()\n",
        "\n",
        "        for rule in pos_rules:\n",
        "#             if(log_info):\n",
        "#                   print('rule', rule)\n",
        "            rule_words = rule.split(' ')\n",
        "#             print('rule_words', rule_words)\n",
        "            rule1 = [rule_words[0], rule_words[1]]\n",
        "\n",
        "            #       print('before',[rule_word.replace('@','') for rule_word in rule.split(' ')])\n",
        "            #       rule_words1 = ''.join([str(word_idx[rule_word.replace('@','')]) for rule_word in rule1])\n",
        "            rule_words1 = ''.join([str(word_idx[rule_word.replace('@', '')]) for rule_word in rule1])\n",
        "\n",
        "            lss1 = ''.join(str(rule_words1))\n",
        "\n",
        "            #       print('lss',lss1, lss2)\n",
        "            pos_rule_encs.append(lss1)\n",
        "        if (log_info):\n",
        "            print('pos_rules', pos_rules)\n",
        "        # print('pos_rules_encs',pos_rule_encs)\n",
        "\n",
        "        line = line.split('##')[1]\n",
        "        if (log_info):\n",
        "            print('line', line)\n",
        "        words = line.split(' ')\n",
        "\n",
        "        #   pruning\n",
        "        if (len(words) > memory_size):\n",
        "            words = words[:memory_size]\n",
        "            line = ' '.join(words)\n",
        "\n",
        "        keysIn = list(set([x for x in re.findall(r'\\b([A-Z]+)\\b', line) if x.strip()]))\n",
        "        if re.search(r'\\bx\\b', line):\n",
        "            keysIn.append('x')\n",
        "        if re.search(r'\\by\\b', line):\n",
        "            keysIn.append('y')\n",
        "        if re.search(r'\\bz\\b', line):\n",
        "            keysIn.append('z')\n",
        "        if re.search(r'\\bl\\b', line):\n",
        "            keysIn.append('l')\n",
        "        if re.search(r'\\bm\\b', line):\n",
        "            keysIn.append('m')\n",
        "        if re.search(r'\\bp\\b', line):\n",
        "            keysIn.append('p')\n",
        "        if re.search(r'\\br\\b', line):\n",
        "            keysIn.append('r')\n",
        "        if re.search(r'\\bo\\b', line):\n",
        "            keysIn.append('o')\n",
        "        if re.search(r'\\bk\\b', line):\n",
        "            keysIn.append('k')\n",
        "        if re.search(r'\\bw\\b', line):\n",
        "            keysIn.append('w')\n",
        "        if re.search(r'\\bv\\b', line):\n",
        "            keysIn.append('v')\n",
        "#         keysIn.append([x for x in re.findall(r'\\bx\\b', line) if x.strip()]) \n",
        "        print('keysIn', keysIn)\n",
        "        keyword_dict = {key: 0 for key in keysIn}\n",
        "\n",
        "        for word in words:\n",
        "            if (word in keysIn):\n",
        "                keyword_dict[word] += 1\n",
        "\n",
        "        for wordId in range(len(words)):\n",
        "\n",
        "            #       print('wordId', wordId)\n",
        "            word = words[wordId]\n",
        "            #       print(' word ', word)\n",
        "            if word in keyword_dict.keys() and keyword_dict[word] != 0:\n",
        "                a1 = predictLong(line + ' ##' + word, wordId)\n",
        "                print('wordId', wordId)\n",
        "                pred_word = str(words[a1[0]])\n",
        "                #         print('pred_word ', pred_word)\n",
        "                # print('a1', a1)\n",
        "                word_id = word_idx[word]\n",
        "                lss3 = ''.join([str(word_idx[words[a1[0]].replace('@', '')]), str(word_id) ])\n",
        "                #         single_rule_list.append(qKey+'##'+word+' ' + word_idx.keys()[word_idx.values().index(a1)])\n",
        "                single_rule_list.append(qKey + '##' + word + ' ' + pred_word)\n",
        "                selected_rules.append(lss3)\n",
        "                #         predicted_rule = word + ' ' +a1\n",
        "                if containList(lss3, pos_rule_encs, 'tp'):\n",
        "                    tp = tp + 1\n",
        "                else:\n",
        "                    fp = fp + 1\n",
        "                    qKey\n",
        "                    print('inc fp ',qKey, ' ' ,  fp)\n",
        "                    \n",
        "                if (log_info):\n",
        "                    print('inc_over', tp, fp)\n",
        "\n",
        "        for ruleId in range(len(pos_rule_encs)):\n",
        "            #       print('ruleId', ruleId)\n",
        "            #       print('pos_rule_encs', pos_rule_encs, )\n",
        "            if not containList(pos_rule_encs[ruleId], selected_rules, 'fp'):\n",
        "#                 print('pos_rule_encs[ruleId], selected_rules', pos_rule_encs[ruleId], selected_rules)\n",
        "                fn = fn + 1\n",
        "                print('inc fn', fn)\n",
        "\n",
        "    single_rule_list = list(set(single_rule_list))\n",
        "    predict_single_rule_file = open(\"predict_single_rule_ext_file_mm.txt\", \"w+\")\n",
        "    for v in single_rule_list:\n",
        "        predict_single_rule_file.write(v)\n",
        "        predict_single_rule_file.write('\\n')\n",
        "    predict_single_rule_file.close()\n",
        "\n",
        "    return tp, fp, tn, fn\n",
        "\n",
        "\n",
        "def containList(list1, lists, a):\n",
        "    if (list1 in lists):\n",
        "        return True\n",
        "    return False\n",
        "\n",
        "\n",
        "# predictLong('In triangle ABC above , the length of AB is 3 , and D is the midpoint of AC .##midpoint D AC')\n",
        "# predictLong('What is the length of segment AB ?##length AB')\n",
        "\n",
        "tp, fp, tn, fn = evaluate(evaluate_data, keyword_dict)\n",
        "precison = 1.0 * tp / (tp + fp)\n",
        "recall = 1.0 * tp / (tp + fn)\n",
        "f1Score = 2.0 * precison * recall / (precison + recall)\n",
        "\n",
        "print(tp, fp, tn, fn, precison, recall, f1Score)\n"
      ],
      "execution_count": 0,
      "outputs": [
        {
          "output_type": "stream",
          "text": [
            "qKey 1025#0\n",
            "pos_rules ['value x']\n",
            "line In the figure above , what is the value of x ?\n",
            "keysIn ['x']\n",
            "tempQ x\n",
            "gen_rule x   value\n"
          ],
          "name": "stdout"
        },
        {
          "output_type": "display_data",
          "data": {
            "image/png": "[encoded data removed]",
            "text/plain": [
              "<Figure size 432x288 with 1 Axes>"
            ]
          },
          "metadata": {
            "tags": []
          }
        },
        {
          "output_type": "stream",
          "text": [
            "wordId 10\n",
            "inc_over 1 0\n",
            "qKey 1027#1\n",
            "pos_rules ['value v']\n",
            "line What is the value of v ?\n",
            "keysIn ['v']\n",
            "tempQ v\n",
            "gen_rule v   value\n"
          ],
          "name": "stdout"
        },
        {
          "output_type": "display_data",
          "data": {
            "image/png": "[encoded data removed]",
            "text/plain": [
              "<Figure size 432x288 with 1 Axes>"
            ]
          },
          "metadata": {
            "tags": []
          }
        },
        {
          "output_type": "stream",
          "text": [
            "wordId 5\n",
            "inc_over 2 0\n",
            "qKey 1030#0\n",
            "pos_rules ['value v', 'quadrilateral PQRS']\n",
            "line In quadrilateral PQRS above , what is the value of v ?\n",
            "keysIn ['PQRS', 'v']\n",
            "tempQ PQRS\n",
            "gen_rule PQRS   quadrilateral\n"
          ],
          "name": "stdout"
        },
        {
          "output_type": "display_data",
          "data": {
            "image/png": "[encoded data removed]",
            "text/plain": [
              "<Figure size 432x288 with 1 Axes>"
            ]
          },
          "metadata": {
            "tags": []
          }
        },
        {
          "output_type": "stream",
          "text": [
            "wordId 2\n",
            "inc_over 3 0\n",
            "tempQ v\n",
            "gen_rule v   value\n"
          ],
          "name": "stdout"
        },
        {
          "output_type": "display_data",
          "data": {
            "image/png": "[encoded data removed]",
            "text/plain": [
              "<Figure size 432x288 with 1 Axes>"
            ]
          },
          "metadata": {
            "tags": []
          }
        },
        {
          "output_type": "stream",
          "text": [
            "wordId 10\n",
            "inc_over 4 0\n",
            "qKey 1031#0\n",
            "pos_rules ['point O', 'line AB']\n",
            "line In the figure above , point O lies on line AB .\n",
            "keysIn ['AB', 'O']\n",
            "tempQ O\n",
            "gen_rule O   point\n"
          ],
          "name": "stdout"
        },
        {
          "output_type": "display_data",
          "data": {
            "image/png": "[encoded data removed]",
            "text/plain": [
              "<Figure size 432x288 with 1 Axes>"
            ]
          },
          "metadata": {
            "tags": []
          }
        },
        {
          "output_type": "stream",
          "text": [
            "wordId 6\n",
            "inc_over 5 0\n",
            "tempQ AB\n",
            "gen_rule AB   line\n"
          ],
          "name": "stdout"
        },
        {
          "output_type": "display_data",
          "data": {
            "image/png": "[encoded data removed]",
            "text/plain": [
              "<Figure size 432x288 with 1 Axes>"
            ]
          },
          "metadata": {
            "tags": []
          }
        },
        {
          "output_type": "stream",
          "text": [
            "wordId 10\n",
            "inc_over 6 0\n",
            "qKey 1031#1\n",
            "pos_rules ['value x']\n",
            "line What is the value of x ?\n",
            "keysIn ['x']\n",
            "tempQ x\n",
            "gen_rule x   value\n"
          ],
          "name": "stdout"
        },
        {
          "output_type": "display_data",
          "data": {
            "image/png": "[encoded data removed]",
            "text/plain": [
              "<Figure size 432x288 with 1 Axes>"
            ]
          },
          "metadata": {
            "tags": []
          }
        },
        {
          "output_type": "stream",
          "text": [
            "wordId 5\n",
            "inc_over 7 0\n",
            "qKey 1032#0\n",
            "pos_rules ['triangle ABC', 'angle BAC', 'point D']\n",
            "line In triangle ABC above , the bisector of angle BAC is perpendicular to BC at point D .\n",
            "keysIn ['ABC', 'BAC', 'D', 'BC']\n",
            "tempQ ABC\n",
            "gen_rule ABC   triangle\n"
          ],
          "name": "stdout"
        },
        {
          "output_type": "display_data",
          "data": {
            "image/png": "[encoded data removed]",
            "text/plain": [
              "<Figure size 432x288 with 1 Axes>"
            ]
          },
          "metadata": {
            "tags": []
          }
        },
        {
          "output_type": "stream",
          "text": [
            "wordId 2\n",
            "inc_over 8 0\n",
            "tempQ BAC\n",
            "gen_rule BAC   angle\n"
          ],
          "name": "stdout"
        },
        {
          "output_type": "display_data",
          "data": {
            "image/png": "[encoded data removed]",
            "text/plain": [
              "<Figure size 432x288 with 1 Axes>"
            ]
          },
          "metadata": {
            "tags": []
          }
        },
        {
          "output_type": "stream",
          "text": [
            "wordId 9\n",
            "inc_over 9 0\n",
            "tempQ BC\n",
            "gen_rule BC   triangle\n"
          ],
          "name": "stdout"
        },
        {
          "output_type": "display_data",
          "data": {
            "image/png": "[encoded data removed]",
            "text/plain": [
              "<Figure size 432x288 with 1 Axes>"
            ]
          },
          "metadata": {
            "tags": []
          }
        },
        {
          "output_type": "stream",
          "text": [
            "wordId 13\n",
            "inc fp  1032#0   1\n",
            "inc_over 9 1\n",
            "tempQ D\n",
            "gen_rule D   point\n"
          ],
          "name": "stdout"
        },
        {
          "output_type": "display_data",
          "data": {
            "image/png": "[encoded data removed]",
            "text/plain": [
              "<Figure size 432x288 with 1 Axes>"
            ]
          },
          "metadata": {
            "tags": []
          }
        },
        {
          "output_type": "stream",
          "text": [
            "wordId 16\n",
            "inc_over 10 1\n",
            "qKey 1032#1\n",
            "pos_rules ['angle BAC']\n",
            "line If @s_0 holds and @s_1 holds , what is the measure of angle BAC ?\n",
            "keysIn ['BAC']\n",
            "tempQ BAC\n",
            "gen_rule BAC   angle\n"
          ],
          "name": "stdout"
        },
        {
          "output_type": "display_data",
          "data": {
            "image/png": "[encoded data removed]",
            "text/plain": [
              "<Figure size 432x288 with 1 Axes>"
            ]
          },
          "metadata": {
            "tags": []
          }
        },
        {
          "output_type": "stream",
          "text": [
            "wordId 13\n",
            "inc_over 11 1\n",
            "qKey 1035#1\n",
            "pos_rules ['value y']\n",
            "line What is the value of y ?\n",
            "keysIn ['y']\n",
            "tempQ y\n",
            "gen_rule y   value\n"
          ],
          "name": "stdout"
        },
        {
          "output_type": "display_data",
          "data": {
            "image/png": "[encoded data removed]",
            "text/plain": [
              "<Figure size 432x288 with 1 Axes>"
            ]
          },
          "metadata": {
            "tags": []
          }
        },
        {
          "output_type": "stream",
          "text": [
            "wordId 5\n",
            "inc_over 12 1\n",
            "qKey 1037#0\n",
            "pos_rules ['radius r', 'center P']\n",
            "line In the figure above , the circle has center P and radius r .\n",
            "keysIn ['P', 'r']\n",
            "tempQ P\n",
            "gen_rule P   center\n"
          ],
          "name": "stdout"
        },
        {
          "output_type": "display_data",
          "data": {
            "image/png": "[encoded data removed]",
            "text/plain": [
              "<Figure size 432x288 with 1 Axes>"
            ]
          },
          "metadata": {
            "tags": []
          }
        },
        {
          "output_type": "stream",
          "text": [
            "wordId 9\n",
            "inc_over 13 1\n",
            "tempQ r\n",
            "gen_rule r   circle\n"
          ],
          "name": "stdout"
        },
        {
          "output_type": "display_data",
          "data": {
            "image/png": "[encoded data removed]",
            "text/plain": [
              "<Figure size 432x288 with 1 Axes>"
            ]
          },
          "metadata": {
            "tags": []
          }
        },
        {
          "output_type": "stream",
          "text": [
            "wordId 12\n",
            "inc fp  1037#0   2\n",
            "inc_over 13 2\n",
            "inc fn 1\n",
            "qKey 1037#1\n",
            "pos_rules ['Lines AB', 'Lines AC']\n",
            "line Lines AB and AC are tangent to the circle .\n",
            "keysIn ['AC', 'AB']\n",
            "tempQ AB\n",
            "gen_rule AB   Lines\n"
          ],
          "name": "stdout"
        },
        {
          "output_type": "display_data",
          "data": {
            "image/png": "[encoded data removed]",
            "text/plain": [
              "<Figure size 432x288 with 1 Axes>"
            ]
          },
          "metadata": {
            "tags": []
          }
        },
        {
          "output_type": "stream",
          "text": [
            "wordId 1\n",
            "inc_over 14 2\n",
            "tempQ AC\n",
            "gen_rule AC   Lines\n"
          ],
          "name": "stdout"
        },
        {
          "output_type": "display_data",
          "data": {
            "image/png": "[encoded data removed]",
            "text/plain": [
              "<Figure size 432x288 with 1 Axes>"
            ]
          },
          "metadata": {
            "tags": []
          }
        },
        {
          "output_type": "stream",
          "text": [
            "wordId 3\n",
            "inc_over 15 2\n",
            "qKey 1037#2\n",
            "pos_rules ['segment AC', 'angle PMC', 'angle MPC', 'segment PA', 'Midpoint M']\n",
            "line If M is the midpoint of segment AC and the measure of angle PMC equals the measure of angle MPC , what is the length , in terms of r , of segment PA ?\n",
            "keysIn ['AC', 'PA', 'M', 'MPC', 'PMC', 'r']\n",
            "tempQ M\n",
            "gen_rule M   segment\n"
          ],
          "name": "stdout"
        },
        {
          "output_type": "display_data",
          "data": {
            "image/png": "[encoded data removed]",
            "text/plain": [
              "<Figure size 432x288 with 1 Axes>"
            ]
          },
          "metadata": {
            "tags": []
          }
        },
        {
          "output_type": "stream",
          "text": [
            "wordId 1\n",
            "inc fp  1037#2   3\n",
            "inc_over 15 3\n",
            "tempQ AC\n",
            "gen_rule AC   segment\n"
          ],
          "name": "stdout"
        },
        {
          "output_type": "display_data",
          "data": {
            "image/png": "[encoded data removed]",
            "text/plain": [
              "<Figure size 432x288 with 1 Axes>"
            ]
          },
          "metadata": {
            "tags": []
          }
        },
        {
          "output_type": "stream",
          "text": [
            "wordId 7\n",
            "inc_over 16 3\n",
            "tempQ PMC\n",
            "gen_rule PMC   angle\n"
          ],
          "name": "stdout"
        },
        {
          "output_type": "display_data",
          "data": {
            "image/png": "[encoded data removed]",
            "text/plain": [
              "<Figure size 432x288 with 1 Axes>"
            ]
          },
          "metadata": {
            "tags": []
          }
        },
        {
          "output_type": "stream",
          "text": [
            "wordId 13\n",
            "inc_over 17 3\n",
            "tempQ MPC\n",
            "gen_rule MPC   angle\n"
          ],
          "name": "stdout"
        },
        {
          "output_type": "display_data",
          "data": {
            "image/png": "[encoded data removed]",
            "text/plain": [
              "<Figure size 432x288 with 1 Axes>"
            ]
          },
          "metadata": {
            "tags": []
          }
        },
        {
          "output_type": "stream",
          "text": [
            "wordId 19\n",
            "inc_over 18 3\n",
            "tempQ r\n",
            "gen_rule r   angle\n"
          ],
          "name": "stdout"
        },
        {
          "output_type": "display_data",
          "data": {
            "image/png": "[encoded data removed]",
            "text/plain": [
              "<Figure size 432x288 with 1 Axes>"
            ]
          },
          "metadata": {
            "tags": []
          }
        },
        {
          "output_type": "stream",
          "text": [
            "wordId 29\n",
            "inc fp  1037#2   4\n",
            "inc_over 18 4\n",
            "tempQ PA\n",
            "gen_rule PA   segment\n"
          ],
          "name": "stdout"
        },
        {
          "output_type": "display_data",
          "data": {
            "image/png": "[encoded data removed]",
            "text/plain": [
              "<Figure size 432x288 with 1 Axes>"
            ]
          },
          "metadata": {
            "tags": []
          }
        },
        {
          "output_type": "stream",
          "text": [
            "wordId 33\n",
            "inc_over 19 4\n",
            "inc fn 2\n",
            "qKey 963#0\n",
            "pos_rules ['lines l', 'point Q', 'lines k']\n",
            "line In the figure above , lines l and k intersect at point Q .\n",
            "keysIn ['Q', 'l', 'k']\n",
            "tempQ l\n",
            "gen_rule l   lines\n"
          ],
          "name": "stdout"
        },
        {
          "output_type": "display_data",
          "data": {
            "image/png": "[encoded data removed]",
            "text/plain": [
              "<Figure size 432x288 with 1 Axes>"
            ]
          },
          "metadata": {
            "tags": []
          }
        },
        {
          "output_type": "stream",
          "text": [
            "wordId 6\n",
            "inc_over 20 4\n",
            "tempQ k\n",
            "gen_rule k   lines\n"
          ],
          "name": "stdout"
        },
        {
          "output_type": "display_data",
          "data": {
            "image/png": "[encoded data removed]",
            "text/plain": [
              "<Figure size 432x288 with 1 Axes>"
            ]
          },
          "metadata": {
            "tags": []
          }
        },
        {
          "output_type": "stream",
          "text": [
            "wordId 8\n",
            "inc_over 21 4\n",
            "tempQ Q\n",
            "gen_rule Q   point\n"
          ],
          "name": "stdout"
        },
        {
          "output_type": "display_data",
          "data": {
            "image/png": "[encoded data removed]",
            "text/plain": [
              "<Figure size 432x288 with 1 Axes>"
            ]
          },
          "metadata": {
            "tags": []
          }
        },
        {
          "output_type": "stream",
          "text": [
            "wordId 12\n",
            "inc_over 22 4\n",
            "qKey 963#1\n",
            "pos_rules ['value x']\n",
            "line If @s_0 holds and @s_1 holds , what is the value of x ?\n",
            "keysIn ['x']\n",
            "tempQ x\n",
            "gen_rule x   and\n"
          ],
          "name": "stdout"
        },
        {
          "output_type": "display_data",
          "data": {
            "image/png": "[encoded data removed]",
            "text/plain": [
              "<Figure size 432x288 with 1 Axes>"
            ]
          },
          "metadata": {
            "tags": []
          }
        },
        {
          "output_type": "stream",
          "text": [
            "wordId 12\n",
            "inc fp  963#1   5\n",
            "inc_over 22 5\n",
            "qKey 968#0\n",
            "pos_rules ['triangle ABC', 'center O', 'diameter AC']\n",
            "line In the figure above , triangle ABC is inscribed in the circle with center O and diameter AC .\n",
            "keysIn ['AC', 'ABC', 'O']\n",
            "tempQ ABC\n",
            "gen_rule ABC   triangle\n"
          ],
          "name": "stdout"
        },
        {
          "output_type": "display_data",
          "data": {
            "image/png": "[encoded data removed]",
            "text/plain": [
              "<Figure size 432x288 with 1 Axes>"
            ]
          },
          "metadata": {
            "tags": []
          }
        },
        {
          "output_type": "stream",
          "text": [
            "wordId 6\n",
            "inc_over 23 5\n",
            "tempQ O\n",
            "gen_rule O   center\n"
          ],
          "name": "stdout"
        },
        {
          "output_type": "display_data",
          "data": {
            "image/png": "[encoded data removed]",
            "text/plain": [
              "<Figure size 432x288 with 1 Axes>"
            ]
          },
          "metadata": {
            "tags": []
          }
        },
        {
          "output_type": "stream",
          "text": [
            "wordId 14\n",
            "inc_over 24 5\n",
            "tempQ AC\n",
            "gen_rule AC   diameter\n"
          ],
          "name": "stdout"
        },
        {
          "output_type": "display_data",
          "data": {
            "image/png": "[encoded data removed]",
            "text/plain": [
              "<Figure size 432x288 with 1 Axes>"
            ]
          },
          "metadata": {
            "tags": []
          }
        },
        {
          "output_type": "stream",
          "text": [
            "wordId 17\n",
            "inc_over 25 5\n",
            "qKey 968#1\n",
            "pos_rules ['angle ABO']\n",
            "line If @s_0 holds , what is the degree measure of angle ABO ?\n",
            "keysIn ['ABO']\n",
            "tempQ ABO\n",
            "gen_rule ABO   of\n"
          ],
          "name": "stdout"
        },
        {
          "output_type": "display_data",
          "data": {
            "image/png": "[encoded data removed]",
            "text/plain": [
              "<Figure size 432x288 with 1 Axes>"
            ]
          },
          "metadata": {
            "tags": []
          }
        },
        {
          "output_type": "stream",
          "text": [
            "wordId 11\n",
            "inc fp  968#1   6\n",
            "inc_over 25 6\n",
            "inc fn 3\n",
            "qKey 969#0\n",
            "pos_rules ['line CD', 'line AB', 'line EF']\n",
            "line In the figure above , line AB , line CD , and line EF intersect at P .\n",
            "keysIn ['P', 'AB', 'EF', 'CD']\n",
            "tempQ AB\n",
            "gen_rule AB   line\n"
          ],
          "name": "stdout"
        },
        {
          "output_type": "display_data",
          "data": {
            "image/png": "[encoded data removed]",
            "text/plain": [
              "<Figure size 432x288 with 1 Axes>"
            ]
          },
          "metadata": {
            "tags": []
          }
        },
        {
          "output_type": "stream",
          "text": [
            "wordId 6\n",
            "inc_over 26 6\n",
            "tempQ CD\n",
            "gen_rule CD   line\n"
          ],
          "name": "stdout"
        },
        {
          "output_type": "display_data",
          "data": {
            "image/png": "[encoded data removed]",
            "text/plain": [
              "<Figure size 432x288 with 1 Axes>"
            ]
          },
          "metadata": {
            "tags": []
          }
        },
        {
          "output_type": "stream",
          "text": [
            "wordId 9\n",
            "inc_over 27 6\n",
            "tempQ EF\n",
            "gen_rule EF   line\n"
          ],
          "name": "stdout"
        },
        {
          "output_type": "display_data",
          "data": {
            "image/png": "[encoded data removed]",
            "text/plain": [
              "<Figure size 432x288 with 1 Axes>"
            ]
          },
          "metadata": {
            "tags": []
          }
        },
        {
          "output_type": "stream",
          "text": [
            "wordId 13\n",
            "inc_over 28 6\n",
            "tempQ P\n",
            "gen_rule P   line\n"
          ],
          "name": "stdout"
        },
        {
          "output_type": "display_data",
          "data": {
            "image/png": "[encoded data removed]",
            "text/plain": [
              "<Figure size 432x288 with 1 Axes>"
            ]
          },
          "metadata": {
            "tags": []
          }
        },
        {
          "output_type": "stream",
          "text": [
            "wordId 16\n",
            "inc fp  969#0   7\n",
            "inc_over 28 7\n",
            "qKey 969#1\n",
            "pos_rules ['value x']\n",
            "line If @s_0 holds , @s_1 holds , @s_2 holds , @s_3 holds , and @s_4 holds , what is the value of x ?\n",
            "keysIn ['x']\n",
            "tempQ x\n",
            "gen_rule x   @s_3\n"
          ],
          "name": "stdout"
        },
        {
          "output_type": "display_data",
          "data": {
            "image/png": "[encoded data removed]",
            "text/plain": [
              "<Figure size 432x288 with 1 Axes>"
            ]
          },
          "metadata": {
            "tags": []
          }
        },
        {
          "output_type": "stream",
          "text": [
            "wordId 22\n",
            "inc fp  969#1   8\n",
            "inc_over 28 8\n",
            "qKey 1466#1\n",
            "pos_rules ['triangle RST']\n",
            "line The area of triangle RST is 7 and @s_0 holds .\n",
            "keysIn ['RST']\n",
            "tempQ RST\n",
            "gen_rule RST   triangle\n"
          ],
          "name": "stdout"
        },
        {
          "output_type": "display_data",
          "data": {
            "image/png": "[encoded data removed]",
            "text/plain": [
              "<Figure size 432x288 with 1 Axes>"
            ]
          },
          "metadata": {
            "tags": []
          }
        },
        {
          "output_type": "stream",
          "text": [
            "wordId 4\n",
            "inc_over 29 8\n",
            "qKey 1466#2\n",
            "pos_rules ['area PQRS']\n",
            "line What is the area of PQRS ?\n",
            "keysIn ['PQRS']\n",
            "tempQ PQRS\n",
            "gen_rule PQRS   area\n"
          ],
          "name": "stdout"
        },
        {
          "output_type": "display_data",
          "data": {
            "image/png": "[encoded data removed]",
            "text/plain": [
              "<Figure size 432x288 with 1 Axes>"
            ]
          },
          "metadata": {
            "tags": []
          }
        },
        {
          "output_type": "stream",
          "text": [
            "wordId 5\n",
            "inc_over 30 8\n",
            "qKey 1467#0\n",
            "pos_rules ['point B', 'side AC']\n",
            "line In the figure above , point B lies on side AC .\n",
            "keysIn ['AC', 'B']\n",
            "tempQ B\n",
            "gen_rule B   point\n"
          ],
          "name": "stdout"
        },
        {
          "output_type": "display_data",
          "data": {
            "image/png": "[encoded data removed]",
            "text/plain": [
              "<Figure size 432x288 with 1 Axes>"
            ]
          },
          "metadata": {
            "tags": []
          }
        },
        {
          "output_type": "stream",
          "text": [
            "wordId 6\n",
            "inc_over 31 8\n",
            "tempQ AC\n",
            "gen_rule AC   side\n"
          ],
          "name": "stdout"
        },
        {
          "output_type": "display_data",
          "data": {
            "image/png": "[encoded data removed]",
            "text/plain": [
              "<Figure size 432x288 with 1 Axes>"
            ]
          },
          "metadata": {
            "tags": []
          }
        },
        {
          "output_type": "stream",
          "text": [
            "wordId 10\n",
            "inc_over 32 8\n",
            "qKey 1467#1\n",
            "pos_rules ['value y']\n",
            "line If @s_0 holds , what is one possible value of y ?\n",
            "keysIn ['y']\n",
            "tempQ y\n",
            "gen_rule y   of\n"
          ],
          "name": "stdout"
        },
        {
          "output_type": "display_data",
          "data": {
            "image/png": "[encoded data removed]",
            "text/plain": [
              "<Figure size 432x288 with 1 Axes>"
            ]
          },
          "metadata": {
            "tags": []
          }
        },
        {
          "output_type": "stream",
          "text": [
            "wordId 10\n",
            "inc fp  1467#1   9\n",
            "inc_over 32 9\n",
            "qKey 1468#0\n",
            "pos_rules ['sides BD', 'rectangle ABDF', 'midpoints C', 'midpoints E', 'sides DF']\n",
            "line In rectangle ABDF above , C and E are midpoints of sides BD and DF , respectively .\n",
            "keysIn ['BD', 'DF', 'C', 'E', 'ABDF']\n",
            "tempQ ABDF\n",
            "gen_rule ABDF   rectangle\n"
          ],
          "name": "stdout"
        },
        {
          "output_type": "display_data",
          "data": {
            "image/png": "[encoded data removed]",
            "text/plain": [
              "<Figure size 432x288 with 1 Axes>"
            ]
          },
          "metadata": {
            "tags": []
          }
        },
        {
          "output_type": "stream",
          "text": [
            "wordId 2\n",
            "inc_over 33 9\n",
            "tempQ C\n",
            "gen_rule C   midpoints\n"
          ],
          "name": "stdout"
        },
        {
          "output_type": "display_data",
          "data": {
            "image/png": "[encoded data removed]",
            "text/plain": [
              "<Figure size 432x288 with 1 Axes>"
            ]
          },
          "metadata": {
            "tags": []
          }
        },
        {
          "output_type": "stream",
          "text": [
            "wordId 5\n",
            "inc_over 34 9\n",
            "tempQ E\n",
            "gen_rule E   rectangle\n"
          ],
          "name": "stdout"
        },
        {
          "output_type": "display_data",
          "data": {
            "image/png": "[encoded data removed]",
            "text/plain": [
              "<Figure size 432x288 with 1 Axes>"
            ]
          },
          "metadata": {
            "tags": []
          }
        },
        {
          "output_type": "stream",
          "text": [
            "wordId 7\n",
            "inc fp  1468#0   10\n",
            "inc_over 34 10\n",
            "tempQ BD\n",
            "gen_rule BD   sides\n"
          ],
          "name": "stdout"
        },
        {
          "output_type": "display_data",
          "data": {
            "image/png": "[encoded data removed]",
            "text/plain": [
              "<Figure size 432x288 with 1 Axes>"
            ]
          },
          "metadata": {
            "tags": []
          }
        },
        {
          "output_type": "stream",
          "text": [
            "wordId 12\n",
            "inc_over 35 10\n",
            "tempQ DF\n",
            "gen_rule DF   sides\n"
          ],
          "name": "stdout"
        },
        {
          "output_type": "display_data",
          "data": {
            "image/png": "[encoded data removed]",
            "text/plain": [
              "<Figure size 432x288 with 1 Axes>"
            ]
          },
          "metadata": {
            "tags": []
          }
        },
        {
          "output_type": "stream",
          "text": [
            "wordId 14\n",
            "inc_over 36 10\n",
            "inc fn 4\n",
            "qKey 1469#0\n",
            "pos_rules ['rectangle ABCD', 'area v']\n",
            "line In rectangle ABCD above , the area of the shaded region is given by v .\n",
            "keysIn ['ABCD', 'v']\n",
            "tempQ ABCD\n",
            "gen_rule ABCD   rectangle\n"
          ],
          "name": "stdout"
        },
        {
          "output_type": "display_data",
          "data": {
            "image/png": "[encoded data removed]",
            "text/plain": [
              "<Figure size 432x288 with 1 Axes>"
            ]
          },
          "metadata": {
            "tags": []
          }
        },
        {
          "output_type": "stream",
          "text": [
            "wordId 2\n",
            "inc_over 37 10\n",
            "tempQ v\n",
            "gen_rule v   area\n"
          ],
          "name": "stdout"
        },
        {
          "output_type": "display_data",
          "data": {
            "image/png": "[encoded data removed]",
            "text/plain": [
              "<Figure size 432x288 with 1 Axes>"
            ]
          },
          "metadata": {
            "tags": []
          }
        },
        {
          "output_type": "stream",
          "text": [
            "wordId 14\n",
            "inc_over 38 10\n",
            "qKey 1469#1\n",
            "pos_rules ['rectangle ABCD', 'area v']\n",
            "line If the area of the shaded region is v , what is the total area , to the nearest whole number , of the unshaded regions of rectangle ABCD ?\n",
            "keysIn ['ABCD', 'v']\n",
            "tempQ v\n",
            "gen_rule v   area\n"
          ],
          "name": "stdout"
        },
        {
          "output_type": "display_data",
          "data": {
            "image/png": "[encoded data removed]",
            "text/plain": [
              "<Figure size 432x288 with 1 Axes>"
            ]
          },
          "metadata": {
            "tags": []
          }
        },
        {
          "output_type": "stream",
          "text": [
            "wordId 8\n",
            "inc_over 39 10\n",
            "tempQ ABCD\n",
            "gen_rule ABCD   rectangle\n"
          ],
          "name": "stdout"
        },
        {
          "output_type": "display_data",
          "data": {
            "image/png": "[encoded data removed]",
            "text/plain": [
              "<Figure size 432x288 with 1 Axes>"
            ]
          },
          "metadata": {
            "tags": []
          }
        },
        {
          "output_type": "stream",
          "text": [
            "wordId 28\n",
            "inc_over 40 10\n",
            "qKey 1472#1\n",
            "pos_rules ['radii PA', 'Point P', 'radii PB']\n",
            "line Point P is the center of the large circle and PA and PB are radii .\n",
            "keysIn ['PB', 'P', 'PA']\n",
            "tempQ P\n",
            "gen_rule P   Point\n"
          ],
          "name": "stdout"
        },
        {
          "output_type": "display_data",
          "data": {
            "image/png": "[encoded data removed]",
            "text/plain": [
              "<Figure size 432x288 with 1 Axes>"
            ]
          },
          "metadata": {
            "tags": []
          }
        },
        {
          "output_type": "stream",
          "text": [
            "wordId 1\n",
            "inc_over 41 10\n",
            "tempQ PA\n",
            "gen_rule PA   center\n"
          ],
          "name": "stdout"
        },
        {
          "output_type": "display_data",
          "data": {
            "image/png": "[encoded data removed]",
            "text/plain": [
              "<Figure size 432x288 with 1 Axes>"
            ]
          },
          "metadata": {
            "tags": []
          }
        },
        {
          "output_type": "stream",
          "text": [
            "wordId 10\n",
            "inc fp  1472#1   11\n",
            "inc_over 41 11\n",
            "tempQ PB\n",
            "gen_rule PB   center\n"
          ],
          "name": "stdout"
        },
        {
          "output_type": "display_data",
          "data": {
            "image/png": "[encoded data removed]",
            "text/plain": [
              "<Figure size 432x288 with 1 Axes>"
            ]
          },
          "metadata": {
            "tags": []
          }
        },
        {
          "output_type": "stream",
          "text": [
            "wordId 12\n",
            "inc fp  1472#1   12\n",
            "inc_over 41 12\n",
            "inc fn 5\n",
            "inc fn 6\n",
            "qKey 1473#0\n",
            "pos_rules ['diameter AB', 'center O']\n",
            "line In the figure above , the circle with center O has radius 7 , AB is a diameter , and @s_0 holds .\n",
            "keysIn ['AB', 'O']\n",
            "tempQ O\n",
            "gen_rule O   center\n"
          ],
          "name": "stdout"
        },
        {
          "output_type": "display_data",
          "data": {
            "image/png": "[encoded data removed]",
            "text/plain": [
              "<Figure size 432x288 with 1 Axes>"
            ]
          },
          "metadata": {
            "tags": []
          }
        },
        {
          "output_type": "stream",
          "text": [
            "wordId 9\n",
            "inc_over 42 12\n",
            "tempQ AB\n",
            "gen_rule AB   center\n"
          ],
          "name": "stdout"
        },
        {
          "output_type": "display_data",
          "data": {
            "image/png": "[encoded data removed]",
            "text/plain": [
              "<Figure size 432x288 with 1 Axes>"
            ]
          },
          "metadata": {
            "tags": []
          }
        },
        {
          "output_type": "stream",
          "text": [
            "wordId 14\n",
            "inc fp  1473#0   13\n",
            "inc_over 42 13\n",
            "inc fn 7\n",
            "qKey 1473#1\n",
            "pos_rules ['triangle ABC']\n",
            "line What is the area of triangle ABC ?\n",
            "keysIn ['ABC']\n",
            "tempQ ABC\n",
            "gen_rule ABC   triangle\n"
          ],
          "name": "stdout"
        },
        {
          "output_type": "display_data",
          "data": {
            "image/png": "[encoded data removed]",
            "text/plain": [
              "<Figure size 432x288 with 1 Axes>"
            ]
          },
          "metadata": {
            "tags": []
          }
        },
        {
          "output_type": "stream",
          "text": [
            "wordId 6\n",
            "inc_over 43 13\n",
            "qKey 1474#0\n",
            "pos_rules ['lines l', 'lines m']\n",
            "line In the figure above , lines l and m are not parallel .\n",
            "keysIn ['l', 'm']\n",
            "tempQ l\n",
            "gen_rule l   lines\n"
          ],
          "name": "stdout"
        },
        {
          "output_type": "display_data",
          "data": {
            "image/png": "[encoded data removed]",
            "text/plain": [
              "<Figure size 432x288 with 1 Axes>"
            ]
          },
          "metadata": {
            "tags": []
          }
        },
        {
          "output_type": "stream",
          "text": [
            "wordId 6\n",
            "inc_over 44 13\n",
            "tempQ m\n",
            "gen_rule m   lines\n"
          ],
          "name": "stdout"
        },
        {
          "output_type": "display_data",
          "data": {
            "image/png": "[encoded data removed]",
            "text/plain": [
              "<Figure size 432x288 with 1 Axes>"
            ]
          },
          "metadata": {
            "tags": []
          }
        },
        {
          "output_type": "stream",
          "text": [
            "wordId 8\n",
            "inc_over 45 13\n",
            "qKey 1476#0\n",
            "pos_rules ['value x']\n",
            "line In the figure above , what is the value of x ?\n",
            "keysIn ['x']\n",
            "tempQ x\n",
            "gen_rule x   value\n"
          ],
          "name": "stdout"
        },
        {
          "output_type": "display_data",
          "data": {
            "image/png": "[encoded data removed]",
            "text/plain": [
              "<Figure size 432x288 with 1 Axes>"
            ]
          },
          "metadata": {
            "tags": []
          }
        },
        {
          "output_type": "stream",
          "text": [
            "wordId 10\n",
            "inc_over 46 13\n",
            "qKey 1477#0\n",
            "pos_rules ['perimeter p']\n",
            "line The perimeter of the rectangle above is p and the area of the rectangle is 36 .\n",
            "keysIn ['p']\n",
            "tempQ p\n",
            "gen_rule p   perimeter\n"
          ],
          "name": "stdout"
        },
        {
          "output_type": "display_data",
          "data": {
            "image/png": "[encoded data removed]",
            "text/plain": [
              "<Figure size 432x288 with 1 Axes>"
            ]
          },
          "metadata": {
            "tags": []
          }
        },
        {
          "output_type": "stream",
          "text": [
            "wordId 7\n",
            "inc_over 47 13\n",
            "qKey 1477#1\n",
            "pos_rules ['value p', 'integers l', 'integers w']\n",
            "line If l and w are integers , what is one possible value of p ?\n",
            "keysIn ['l', 'p', 'w']\n",
            "tempQ l\n",
            "gen_rule l   If\n"
          ],
          "name": "stdout"
        },
        {
          "output_type": "display_data",
          "data": {
            "image/png": "[encoded data removed]",
            "text/plain": [
              "<Figure size 432x288 with 1 Axes>"
            ]
          },
          "metadata": {
            "tags": []
          }
        },
        {
          "output_type": "stream",
          "text": [
            "wordId 1\n",
            "inc fp  1477#1   14\n",
            "inc_over 47 14\n",
            "tempQ w\n",
            "gen_rule w   l\n"
          ],
          "name": "stdout"
        },
        {
          "output_type": "display_data",
          "data": {
            "image/png": "[encoded data removed]",
            "text/plain": [
              "<Figure size 432x288 with 1 Axes>"
            ]
          },
          "metadata": {
            "tags": []
          }
        },
        {
          "output_type": "stream",
          "text": [
            "wordId 3\n",
            "inc fp  1477#1   15\n",
            "inc_over 47 15\n",
            "tempQ p\n",
            "gen_rule p   value\n"
          ],
          "name": "stdout"
        },
        {
          "output_type": "display_data",
          "data": {
            "image/png": "[encoded data removed]",
            "text/plain": [
              "<Figure size 432x288 with 1 Axes>"
            ]
          },
          "metadata": {
            "tags": []
          }
        },
        {
          "output_type": "stream",
          "text": [
            "wordId 13\n",
            "inc_over 48 15\n",
            "inc fn 8\n",
            "inc fn 9\n",
            "qKey 1478#0\n",
            "pos_rules ['value x', 'lines n', 'lines p', 'lines m', 'lines l']\n",
            "line In the figure above , if the angle ( not shown ) where lines n and p intersect is twice as large as the angle ( also not shown ) where lines l and m intersect , what is the value of x ?\n",
            "keysIn ['l', 'm', 'p']\n",
            "tempQ p\n",
            "gen_rule p   angle\n"
          ],
          "name": "stdout"
        },
        {
          "output_type": "display_data",
          "data": {
            "image/png": "[encoded data removed]",
            "text/plain": [
              "<Figure size 432x288 with 1 Axes>"
            ]
          },
          "metadata": {
            "tags": []
          }
        },
        {
          "output_type": "stream",
          "text": [
            "wordId 16\n",
            "inc fp  1478#0   16\n",
            "inc_over 48 16\n",
            "tempQ l\n",
            "gen_rule l   lines\n"
          ],
          "name": "stdout"
        },
        {
          "output_type": "display_data",
          "data": {
            "image/png": "[encoded data removed]",
            "text/plain": [
              "<Figure size 432x288 with 1 Axes>"
            ]
          },
          "metadata": {
            "tags": []
          }
        },
        {
          "output_type": "stream",
          "text": [
            "wordId 32\n",
            "inc_over 49 16\n",
            "tempQ m\n",
            "gen_rule m   angle\n"
          ],
          "name": "stdout"
        },
        {
          "output_type": "display_data",
          "data": {
            "image/png": "[encoded data removed]",
            "text/plain": [
              "<Figure size 432x288 with 1 Axes>"
            ]
          },
          "metadata": {
            "tags": []
          }
        },
        {
          "output_type": "stream",
          "text": [
            "wordId 34\n",
            "inc fp  1478#0   17\n",
            "inc_over 49 17\n",
            "inc fn 10\n",
            "inc fn 11\n",
            "qKey 1479#0\n",
            "pos_rules ['points A', 'points B', 'center O']\n",
            "line In the figure above , points A and B lie on the circle with center O .\n",
            "keysIn ['A', 'B', 'O']\n",
            "tempQ A\n",
            "gen_rule A   points\n"
          ],
          "name": "stdout"
        },
        {
          "output_type": "display_data",
          "data": {
            "image/png": "[encoded data removed]",
            "text/plain": [
              "<Figure size 432x288 with 1 Axes>"
            ]
          },
          "metadata": {
            "tags": []
          }
        },
        {
          "output_type": "stream",
          "text": [
            "wordId 6\n",
            "inc_over 50 17\n",
            "tempQ B\n",
            "gen_rule B   points\n"
          ],
          "name": "stdout"
        },
        {
          "output_type": "display_data",
          "data": {
            "image/png": "[encoded data removed]",
            "text/plain": [
              "<Figure size 432x288 with 1 Axes>"
            ]
          },
          "metadata": {
            "tags": []
          }
        },
        {
          "output_type": "stream",
          "text": [
            "wordId 8\n",
            "inc_over 51 17\n",
            "tempQ O\n",
            "gen_rule O   center\n"
          ],
          "name": "stdout"
        },
        {
          "output_type": "display_data",
          "data": {
            "image/png": "[encoded data removed]",
            "text/plain": [
              "<Figure size 432x288 with 1 Axes>"
            ]
          },
          "metadata": {
            "tags": []
          }
        },
        {
          "output_type": "stream",
          "text": [
            "wordId 15\n",
            "inc_over 52 17\n",
            "qKey 1479#1\n",
            "pos_rules ['value z']\n",
            "line If @s_0 holds , what is the value of z ?\n",
            "keysIn ['z']\n",
            "tempQ z\n",
            "gen_rule z   of\n"
          ],
          "name": "stdout"
        },
        {
          "output_type": "display_data",
          "data": {
            "image/png": "[encoded data removed]",
            "text/plain": [
              "<Figure size 432x288 with 1 Axes>"
            ]
          },
          "metadata": {
            "tags": []
          }
        },
        {
          "output_type": "stream",
          "text": [
            "wordId 9\n",
            "inc fp  1479#1   18\n",
            "inc_over 52 18\n",
            "inc fn 12\n",
            "qKey 1481#0\n",
            "pos_rules ['value x']\n",
            "line If the perimeter of the rectangle above is 72 , what is the value of x ?\n",
            "keysIn ['x']\n",
            "tempQ x\n",
            "gen_rule x   value\n"
          ],
          "name": "stdout"
        },
        {
          "output_type": "display_data",
          "data": {
            "image/png": "[encoded data removed]",
            "text/plain": [
              "<Figure size 432x288 with 1 Axes>"
            ]
          },
          "metadata": {
            "tags": []
          }
        },
        {
          "output_type": "stream",
          "text": [
            "wordId 15\n",
            "inc_over 53 18\n",
            "qKey 1482#0\n",
            "pos_rules ['triangle ABC', 'length AB', 'midpoint D']\n",
            "line In triangle ABC above , the length of AB is 3 , and D is the midpoint of AC .\n",
            "keysIn ['AC', 'ABC', 'D', 'AB']\n",
            "tempQ ABC\n",
            "gen_rule ABC   triangle\n"
          ],
          "name": "stdout"
        },
        {
          "output_type": "display_data",
          "data": {
            "image/png": "[encoded data removed]",
            "text/plain": [
              "<Figure size 432x288 with 1 Axes>"
            ]
          },
          "metadata": {
            "tags": []
          }
        },
        {
          "output_type": "stream",
          "text": [
            "wordId 2\n",
            "inc_over 54 18\n",
            "tempQ AB\n",
            "gen_rule AB   length\n"
          ],
          "name": "stdout"
        },
        {
          "output_type": "display_data",
          "data": {
            "image/png": "[encoded data removed]",
            "text/plain": [
              "<Figure size 432x288 with 1 Axes>"
            ]
          },
          "metadata": {
            "tags": []
          }
        },
        {
          "output_type": "stream",
          "text": [
            "wordId 8\n",
            "inc_over 55 18\n",
            "tempQ D\n",
            "gen_rule D   length\n"
          ],
          "name": "stdout"
        },
        {
          "output_type": "display_data",
          "data": {
            "image/png": "[encoded data removed]",
            "text/plain": [
              "<Figure size 432x288 with 1 Axes>"
            ]
          },
          "metadata": {
            "tags": []
          }
        },
        {
          "output_type": "stream",
          "text": [
            "wordId 13\n",
            "inc fp  1482#0   19\n",
            "inc_over 55 19\n",
            "tempQ AC\n",
            "gen_rule AC   length\n"
          ],
          "name": "stdout"
        },
        {
          "output_type": "display_data",
          "data": {
            "image/png": "[encoded data removed]",
            "text/plain": [
              "<Figure size 432x288 with 1 Axes>"
            ]
          },
          "metadata": {
            "tags": []
          }
        },
        {
          "output_type": "stream",
          "text": [
            "wordId 18\n",
            "inc fp  1482#0   20\n",
            "inc_over 55 20\n",
            "inc fn 13\n",
            "qKey 1482#1\n",
            "pos_rules ['length BC']\n",
            "line What is the length of BC ?\n",
            "keysIn ['BC']\n",
            "tempQ BC\n",
            "gen_rule BC   length\n"
          ],
          "name": "stdout"
        },
        {
          "output_type": "display_data",
          "data": {
            "image/png": "[encoded data removed]",
            "text/plain": [
              "<Figure size 432x288 with 1 Axes>"
            ]
          },
          "metadata": {
            "tags": []
          }
        },
        {
          "output_type": "stream",
          "text": [
            "wordId 5\n",
            "inc_over 56 20\n",
            "qKey 971#0\n",
            "pos_rules ['square ABCE', 'triangle CDE']\n",
            "line In the figure above , CDE is an equilateral triangle and ABCE is a square with an area of 1 .\n",
            "keysIn ['CDE', 'ABCE']\n",
            "tempQ CDE\n",
            "gen_rule CDE   area\n"
          ],
          "name": "stdout"
        },
        {
          "output_type": "display_data",
          "data": {
            "image/png": "[encoded data removed]",
            "text/plain": [
              "<Figure size 432x288 with 1 Axes>"
            ]
          },
          "metadata": {
            "tags": []
          }
        },
        {
          "output_type": "stream",
          "text": [
            "wordId 5\n",
            "inc fp  971#0   21\n",
            "inc_over 56 21\n",
            "tempQ ABCE\n",
            "gen_rule ABCE   triangle\n"
          ],
          "name": "stdout"
        },
        {
          "output_type": "display_data",
          "data": {
            "image/png": "[encoded data removed]",
            "text/plain": [
              "<Figure size 432x288 with 1 Axes>"
            ]
          },
          "metadata": {
            "tags": []
          }
        },
        {
          "output_type": "stream",
          "text": [
            "wordId 11\n",
            "inc fp  971#0   22\n",
            "inc_over 56 22\n",
            "inc fn 14\n",
            "inc fn 15\n",
            "qKey 971#1\n",
            "pos_rules ['polygon ABCDE']\n",
            "line What is the perimeter of polygon ABCDE ?\n",
            "keysIn ['ABCDE']\n",
            "tempQ ABCDE\n",
            "gen_rule ABCDE   polygon\n"
          ],
          "name": "stdout"
        },
        {
          "output_type": "display_data",
          "data": {
            "image/png": "[encoded data removed]",
            "text/plain": [
              "<Figure size 432x288 with 1 Axes>"
            ]
          },
          "metadata": {
            "tags": []
          }
        },
        {
          "output_type": "stream",
          "text": [
            "wordId 6\n",
            "inc_over 57 22\n",
            "qKey 1485#0\n",
            "pos_rules ['triangle CAF', 'rectangle CDEF', 'segment AD']\n",
            "line In the figure above , if the area of triangle CAF is equal to the area of rectangle CDEF , what is the length of segment AD ?\n",
            "keysIn ['CDEF', 'CAF', 'AD']\n",
            "tempQ CAF\n",
            "gen_rule CAF   triangle\n"
          ],
          "name": "stdout"
        },
        {
          "output_type": "display_data",
          "data": {
            "image/png": "[encoded data removed]",
            "text/plain": [
              "<Figure size 432x288 with 1 Axes>"
            ]
          },
          "metadata": {
            "tags": []
          }
        },
        {
          "output_type": "stream",
          "text": [
            "wordId 10\n",
            "inc_over 58 22\n",
            "tempQ CDEF\n",
            "gen_rule CDEF   rectangle\n"
          ],
          "name": "stdout"
        },
        {
          "output_type": "display_data",
          "data": {
            "image/png": "[encoded data removed]",
            "text/plain": [
              "<Figure size 432x288 with 1 Axes>"
            ]
          },
          "metadata": {
            "tags": []
          }
        },
        {
          "output_type": "stream",
          "text": [
            "wordId 18\n",
            "inc_over 59 22\n",
            "tempQ AD\n",
            "gen_rule AD   segment\n"
          ],
          "name": "stdout"
        },
        {
          "output_type": "display_data",
          "data": {
            "image/png": "[encoded data removed]",
            "text/plain": [
              "<Figure size 432x288 with 1 Axes>"
            ]
          },
          "metadata": {
            "tags": []
          }
        },
        {
          "output_type": "stream",
          "text": [
            "wordId 26\n",
            "inc_over 60 22\n",
            "60 22 0 15 0.731707317073 0.8 0.764331210191\n"
          ],
          "name": "stdout"
        }
      ]
    },
    {
      "cell_type": "code",
      "metadata": {
        "id": "KaKpqjLNbnQ8",
        "colab_type": "code",
        "colab": {}
      },
      "source": [
        "60 22 0 15 0.731707317073 0.8 0.764331210191\n",
        "55 25 0 20 0.6875 0.733333333333 0.709677419355\n",
        "54 25 0 37 0.683544303797 0.593406593407 0.635294117647"
      ],
      "execution_count": 0,
      "outputs": []
    },
    {
      "cell_type": "code",
      "metadata": {
        "id": "ZKaQzTADS2S8",
        "colab_type": "code",
        "outputId": "9afff62c-31f6-4043-9b34-ad41fa9ec301",
        "colab": {
          "base_uri": "https://localhost:8080/",
          "height": 34
        }
      },
      "source": [
        "re.search(r'\\bv_0\\b', ' What is the value of @v_0 ?')"
      ],
      "execution_count": 0,
      "outputs": [
        {
          "output_type": "execute_result",
          "data": {
            "text/plain": [
              "<_sre.SRE_Match at 0x7f8be2a37510>"
            ]
          },
          "metadata": {
            "tags": []
          },
          "execution_count": 23
        }
      ]
    },
    {
      "cell_type": "code",
      "metadata": {
        "id": "dGPOUrqmh-cH",
        "colab_type": "code",
        "colab": {}
      },
      "source": [
        "inc 55 43\n",
        "55 43 0 80 0.561224489796 0.407407407407 0.472103004292"
      ],
      "execution_count": 0,
      "outputs": []
    },
    {
      "cell_type": "code",
      "metadata": {
        "id": "GToCjibiSZBh",
        "colab_type": "code",
        "outputId": "970d9ebc-a16e-493d-d0fc-acfc32b29c3e",
        "colab": {
          "base_uri": "https://localhost:8080/",
          "height": 599
        }
      },
      "source": [
        "# predictLong('What is the length of segment AB ? ##length') \n",
        "predictLong('line O is parallel to line AB ? ##AB',4) \n",
        " \n",
        "predictLong('circle O is parallel to line AB ? ##O',0) \n"
      ],
      "execution_count": 0,
      "outputs": [
        {
          "output_type": "stream",
          "text": [
            "tempS line O is parallel to line AB ? ##point AB\n",
            "parse_stories3([tempS]) (0,) []\n",
            "tempQ AB\n",
            "s1 [[[447, 520], [419, 521], [356, 522], [107, 523], [10, 524], [447, 525], [476, 526], [0, 0], [0, 0], [0, 0], [0, 0], [0, 0], [0, 0], [0, 0], [0, 0], [0, 0], [0, 0], [0, 0], [0, 0], [0, 0], [0, 0], [0, 0], [0, 0], [0, 0], [0, 0], [0, 0], [0, 0], [0, 0], [0, 0], [0, 0], [0, 0], [0, 0], [0, 0], [0, 0], [0, 0]]]\n",
            "q1 [[476, 524]]\n",
            "a1 [array([1., 0., 0., 0., 0., 0., 0., 0., 0., 0., 0., 0., 0., 0., 0., 0., 0.,\n",
            "       0., 0., 0., 0., 0., 0., 0., 0., 0., 0., 0., 0., 0., 0., 0., 0., 0.,\n",
            "       0.])]\n",
            "q_position 4\n",
            "gen_rule AB   line\n"
          ],
          "name": "stdout"
        },
        {
          "output_type": "display_data",
          "data": {
            "image/png": "[encoded data removed]",
            "text/plain": [
              "<Figure size 432x288 with 1 Axes>"
            ]
          },
          "metadata": {
            "tags": []
          }
        },
        {
          "output_type": "stream",
          "text": [
            "tempS circle O is parallel to line AB ? ##point O\n",
            "parse_stories3([tempS]) (0,) []\n",
            "tempQ O\n",
            "s1 [[[268, 524], [419, 525], [356, 526], [107, 527], [10, 528], [447, 529], [476, 530], [0, 0], [0, 0], [0, 0], [0, 0], [0, 0], [0, 0], [0, 0], [0, 0], [0, 0], [0, 0], [0, 0], [0, 0], [0, 0], [0, 0], [0, 0], [0, 0], [0, 0], [0, 0], [0, 0], [0, 0], [0, 0], [0, 0], [0, 0], [0, 0], [0, 0], [0, 0], [0, 0], [0, 0]]]\n",
            "q1 [[419, 524]]\n",
            "a1 [array([1., 0., 0., 0., 0., 0., 0., 0., 0., 0., 0., 0., 0., 0., 0., 0., 0.,\n",
            "       0., 0., 0., 0., 0., 0., 0., 0., 0., 0., 0., 0., 0., 0., 0., 0., 0.,\n",
            "       0.])]\n",
            "q_position 0\n",
            "gen_rule O   line\n"
          ],
          "name": "stdout"
        },
        {
          "output_type": "display_data",
          "data": {
            "image/png": "[encoded data removed]",
            "text/plain": [
              "<Figure size 432x288 with 1 Axes>"
            ]
          },
          "metadata": {
            "tags": []
          }
        },
        {
          "output_type": "execute_result",
          "data": {
            "text/plain": [
              "array([5])"
            ]
          },
          "metadata": {
            "tags": []
          },
          "execution_count": 14
        }
      ]
    },
    {
      "cell_type": "code",
      "metadata": {
        "id": "ymJ4v6KVFHa-",
        "colab_type": "code",
        "colab": {}
      },
      "source": [
        ""
      ],
      "execution_count": 0,
      "outputs": []
    },
    {
      "cell_type": "code",
      "metadata": {
        "id": "DnZMhkjJ-Wwn",
        "colab_type": "code",
        "outputId": "c6cfc4ef-9f9f-4956-9662-5a1e15a3576d",
        "colab": {
          "base_uri": "https://localhost:8080/",
          "height": 51
        }
      },
      "source": [
        "line1 = ['1025#0##BCA is a triangle']\n",
        "evaluate(line1,keyword_dict)"
      ],
      "execution_count": 0,
      "outputs": [
        {
          "output_type": "stream",
          "text": [
            "pos_rules ['value x']\n",
            "line BCA is a triangle\n"
          ],
          "name": "stdout"
        }
      ]
    },
    {
      "cell_type": "code",
      "metadata": {
        "id": "hUPcxMuMN_E4",
        "colab_type": "code",
        "outputId": "61055970-007e-4484-8aaf-b9baa3d2e3e2",
        "colab": {
          "base_uri": "https://localhost:8080/",
          "height": 1326
        }
      },
      "source": [
        "keyword_dict"
      ],
      "execution_count": 0,
      "outputs": [
        {
          "output_type": "execute_result",
          "data": {
            "text/plain": [
              "{'Circle': 1,\n",
              " 'Diameter': 2,\n",
              " 'Find': 1,\n",
              " 'Line': 1,\n",
              " 'Points': 1,\n",
              " 'Rectangle': 1,\n",
              " 'Segment': 1,\n",
              " 'Triangle': 1,\n",
              " 'Two': 1,\n",
              " 'What': 0,\n",
              " 'altitude': 2,\n",
              " 'angle': 1,\n",
              " 'angles': 1,\n",
              " 'arc': 1,\n",
              " 'arcs': 1,\n",
              " 'area': 1,\n",
              " 'average': 1,\n",
              " 'be': 2,\n",
              " 'center': 2,\n",
              " 'chord': 2,\n",
              " 'chords': 2,\n",
              " 'circle': 1,\n",
              " 'congruent': 2,\n",
              " 'correct': 1,\n",
              " 'degrees': 1,\n",
              " 'diameter': 1,\n",
              " 'equal': 2,\n",
              " 'equals': 2,\n",
              " 'equilateral': 1,\n",
              " 'has': 2,\n",
              " 'height': 1,\n",
              " 'hypotenuse': 2,\n",
              " 'intersect': 2,\n",
              " 'intersects': 2,\n",
              " 'is': 2,\n",
              " 'isosceles': 1,\n",
              " 'leg': 2,\n",
              " 'length': 2,\n",
              " 'lies': 2,\n",
              " 'line': 1,\n",
              " 'lines': 1,\n",
              " 'measure': 1,\n",
              " 'measures': 1,\n",
              " 'meet': 2,\n",
              " 'midpoints': 2,\n",
              " 'not': 1,\n",
              " 'on': 2,\n",
              " 'parallel': 2,\n",
              " 'perimeter': 1,\n",
              " 'perpendicular': 2,\n",
              " 'point': 1,\n",
              " 'points': 1,\n",
              " 'quadrilateral': 1,\n",
              " 'radius': 1,\n",
              " 'ratio': 2,\n",
              " 'rectangle': 1,\n",
              " 'rhombus': 1,\n",
              " 'right': 1,\n",
              " 'secant': 2,\n",
              " 'secants': 2,\n",
              " 'sector': 1,\n",
              " 'segment': 1,\n",
              " 'side': 2,\n",
              " 'sides': 2,\n",
              " 'six': 1,\n",
              " 'square': 1,\n",
              " 'sum': 1,\n",
              " 'tangent': 2,\n",
              " 'tangents': 2,\n",
              " 'trapezoid': 1,\n",
              " 'triangle': 1,\n",
              " 'true': 1,\n",
              " 'twice': 1,\n",
              " 'value': 1,\n",
              " 'what': 0,\n",
              " 'width': 1,\n",
              " 'with': 2}"
            ]
          },
          "metadata": {
            "tags": []
          },
          "execution_count": 11
        }
      ]
    },
    {
      "cell_type": "code",
      "metadata": {
        "id": "JZI13XG32B0-",
        "colab_type": "code",
        "outputId": "c436fa8c-0f63-4ce8-8a83-c8e57a8b13c1",
        "colab": {
          "base_uri": "https://localhost:8080/",
          "height": 1047
        }
      },
      "source": [
        "double_rule_list = list(set(double_rule_list))\n",
        "for v in double_rule_list:\n",
        "  print(v)"
      ],
      "execution_count": 0,
      "outputs": [
        {
          "output_type": "stream",
          "text": [
            "1470#1##is area What\n",
            "1482#0##is AB length\n",
            "1485#0##is area what\n",
            "1484#3##is area What\n",
            "1032#0##is D point\n",
            "1476#0##is value what\n",
            "1032#0##perpendicular BC point\n",
            "968#1##is measure what\n",
            "968#0##is O circle\n",
            "974#0##is value what\n",
            "1479#1##is value what\n",
            "969#0##intersect AB EF\n",
            "1020#1##is value What\n",
            "1005#1##center A B\n",
            "971#0##is area square\n",
            "1037#1##tangent AB circle\n",
            "1482#1##is length What\n",
            "1037#2##is measure length\n",
            "1027#1##is value What\n",
            "1479#0##center O circle\n",
            "1473#0##with AB O\n",
            "1006#2##be length Which\n",
            "1473#1##is area What\n",
            "977#1##is measure What\n",
            "975#1##is length what\n",
            "968#0##center circle O\n",
            "963#1##is value what\n",
            "1481#0##is value what\n",
            "1031#0##lies_on AB point\n",
            "1477#1##is value what\n",
            "1025#0##is value what\n",
            "1019#1##is perimeter What\n",
            "1473#0##center AB O\n",
            "985#0##lies_on B AC\n",
            "1031#1##is value What\n",
            "1005#1##tangent A B\n",
            "1035#1##is value What\n",
            "995#1##is sum What\n",
            "1473#0##is AB O\n",
            "1467#0##lies_on B AC\n",
            "1030#0##is value what\n",
            "993#1##is value what\n",
            "1037#2##equals length measure\n",
            "1467#1##is value what\n",
            "1151#0##is measure What\n",
            "1037#2##length measure length\n",
            "1469#0##is ABCD rectangle\n",
            "1017#0##is value what\n",
            "969#1##is value what\n",
            "1467#0##side B point\n",
            "1474#1##be value Which\n",
            "1005#1##is A B\n",
            "1018#1##is value What\n",
            "1480#1##is area ratio\n",
            "1014#1##is A what\n",
            "1468#1##is area What\n",
            "1469#1##is area what\n",
            "973#0##is AB D\n"
          ],
          "name": "stdout"
        }
      ]
    },
    {
      "cell_type": "code",
      "metadata": {
        "id": "IcaIsfKbzFQy",
        "colab_type": "code",
        "outputId": "e867fb8a-d9a3-4a54-df07-c8984cb1e5c0",
        "colab": {
          "base_uri": "https://localhost:8080/",
          "height": 603
        }
      },
      "source": [
        "np.sort([int(val) for val in word_idx.values() if val!='time1'])"
      ],
      "execution_count": 0,
      "outputs": [
        {
          "output_type": "execute_result",
          "data": {
            "text/plain": [
              "array([  1,   2,   3,   4,   5,   6,   7,   8,   9,  10,  11,  12,  13,\n",
              "        14,  15,  16,  17,  18,  19,  20,  21,  22,  23,  24,  25,  26,\n",
              "        27,  28,  29,  30,  31,  32,  33,  34,  35,  36,  37,  38,  39,\n",
              "        40,  41,  42,  43,  44,  45,  46,  47,  48,  49,  50,  51,  52,\n",
              "        53,  54,  55,  56,  57,  58,  59,  60,  61,  62,  63,  64,  65,\n",
              "        66,  67,  68,  69,  70,  71,  72,  73,  74,  75,  76,  77,  78,\n",
              "        79,  80,  81,  82,  83,  84,  85,  86,  87,  88,  89,  90,  91,\n",
              "        92,  93,  94,  95,  96,  97,  98,  99, 100, 101, 102, 103, 104,\n",
              "       105, 106, 107, 108, 109, 110, 111, 112, 113, 114, 115, 116, 117,\n",
              "       118, 119, 120, 121, 122, 123, 124, 125, 126, 127, 128, 129, 130,\n",
              "       131, 132, 133, 134, 135, 136, 137, 138, 139, 140, 141, 142, 143,\n",
              "       144, 145, 146, 147, 148, 149, 150, 151, 152, 153, 154, 155, 156,\n",
              "       157, 158, 159, 160, 161, 162, 163, 164, 165, 166, 167, 168, 169,\n",
              "       170, 171, 172, 173, 174, 175, 176, 177, 178, 179, 180, 181, 182,\n",
              "       183, 184, 185, 186, 187, 188, 189, 190, 191, 192, 193, 194, 195,\n",
              "       196, 197, 198, 199, 200, 201, 202, 203, 204, 205, 206, 207, 208,\n",
              "       209, 210, 211, 212, 213, 214, 215, 216, 217, 218, 219, 220, 221,\n",
              "       222, 223, 224, 225, 226, 227, 228, 229, 230, 231, 232, 233, 234,\n",
              "       235, 236, 237, 238, 239, 240, 241, 242, 243, 244, 245, 246, 247,\n",
              "       248, 249, 250, 251, 252, 253, 254, 255, 256, 257, 258, 259, 260,\n",
              "       261, 262, 263, 264, 265, 266, 267, 268, 269, 270, 271, 272, 273,\n",
              "       274, 275, 276, 277, 278, 279, 280, 281, 282, 283, 284, 285, 286,\n",
              "       287, 288, 289, 290, 291, 292, 293, 294, 295, 296, 297, 298, 299,\n",
              "       300, 301, 302, 303, 304, 305, 306, 307, 308, 309, 310, 311, 312,\n",
              "       313, 314, 315, 316, 317, 318, 319, 320, 321, 322, 323, 324, 325,\n",
              "       326, 327, 328, 329, 330, 331, 332, 333, 334, 335, 336, 337, 338,\n",
              "       339, 340, 341, 342, 343, 344, 345, 346, 347, 348, 349, 350, 351,\n",
              "       352, 353, 354, 355, 356, 357, 358, 359, 360, 361, 362, 363, 364,\n",
              "       365, 366, 367, 368, 369, 370, 371, 372, 373, 374, 375, 376, 377,\n",
              "       378, 379, 380, 381, 382, 383, 384, 385, 386, 387, 388, 389, 390,\n",
              "       391, 392, 393, 394, 395, 396, 397, 398, 399, 400, 401, 402, 403,\n",
              "       404, 405, 406, 407, 408, 409, 410, 411, 412, 413, 414, 415, 416,\n",
              "       417, 418, 419, 420, 421, 422, 423, 424, 425, 426, 427, 428])"
            ]
          },
          "metadata": {
            "tags": []
          },
          "execution_count": 43
        }
      ]
    },
    {
      "cell_type": "code",
      "metadata": {
        "id": "JSVZTXk5j1F1",
        "colab_type": "code",
        "outputId": "2a5a5d40-09bf-4a35-eff4-115abd411910",
        "colab": {
          "base_uri": "https://localhost:8080/",
          "height": 34
        }
      },
      "source": [
        "vocab[1]"
      ],
      "execution_count": 0,
      "outputs": [
        {
          "output_type": "execute_result",
          "data": {
            "text/plain": [
              "'illustrates'"
            ]
          },
          "metadata": {
            "tags": []
          },
          "execution_count": 45
        }
      ]
    },
    {
      "cell_type": "code",
      "metadata": {
        "id": "1tCUEIw_mPNw",
        "colab_type": "code",
        "outputId": "b2888959-8901-483e-cf1d-7882ddc7179a",
        "colab": {
          "base_uri": "https://localhost:8080/",
          "height": 139
        }
      },
      "source": [
        "\n",
        "for i in range(6):\n",
        "  s = [[word_idx.keys()[word_idx.values().index(j)]] for j in testS[i][0] if j>0 and j<220]\n",
        "  print (s)"
      ],
      "execution_count": 0,
      "outputs": [
        {
          "output_type": "stream",
          "text": [
            "[['The'], ['measure'], ['of'], ['angle'], ['BAC'], ['equals'], ['@'], ['v_0']]\n",
            "[['In'], ['the'], ['figure'], ['above'], [','], ['point'], ['B'], ['lies'], ['on'], ['side'], ['AC']]\n",
            "[['In'], ['rectangle'], ['ABDF'], ['above'], [','], ['C'], ['and'], ['E'], ['are'], ['midpoints'], ['of'], ['sides'], ['BD'], ['and'], ['DF'], [','], ['respectively']]\n",
            "[['Point'], ['P'], ['is'], ['the'], ['center'], ['of'], ['the'], ['large'], ['circle'], ['and'], ['PA'], ['and'], ['PB'], ['are'], ['radii']]\n",
            "[['In'], ['the'], ['figure'], ['above'], [','], ['the'], ['circle'], ['with'], ['center'], ['O'], ['has'], ['radius'], ['7'], [','], ['AB'], ['is'], ['a'], ['diameter'], [','], ['and'], ['@'], ['s_0'], ['holds']]\n",
            "[['In'], ['the'], ['figure'], ['above'], [','], ['the'], ['circle'], ['with'], ['center'], ['O'], ['has'], ['radius'], ['7'], [','], ['AB'], ['is'], ['a'], ['diameter'], [','], ['and'], ['@'], ['s_0'], ['holds']]\n"
          ],
          "name": "stdout"
        }
      ]
    },
    {
      "cell_type": "code",
      "metadata": {
        "id": "FPkrXQElqijP",
        "colab_type": "code",
        "outputId": "70d7b963-e9da-40d8-804e-cd47d9935397",
        "colab": {
          "base_uri": "https://localhost:8080/",
          "height": 119
        }
      },
      "source": [
        "\n",
        "for i in range(6):\n",
        "  s = [[word_idx.keys()[word_idx.values().index(j)]] for j in testQ[i] if j>0 and j<7974]\n",
        "  print (s)"
      ],
      "execution_count": 0,
      "outputs": [
        {
          "output_type": "stream",
          "text": [
            "[['equals']]\n",
            "[['lies_on'], ['B']]\n",
            "[['midpoints'], ['C']]\n",
            "[['center'], ['P']]\n",
            "[['has'], ['radius']]\n",
            "[['center'], ['O']]\n"
          ],
          "name": "stdout"
        }
      ]
    },
    {
      "cell_type": "code",
      "metadata": {
        "id": "El1ep50vC24w",
        "colab_type": "code",
        "outputId": "5d07fe47-bcd4-40bf-dc9f-4a8e7824005c",
        "colab": {
          "base_uri": "https://localhost:8080/",
          "height": 34
        }
      },
      "source": [
        "[word_idx.keys()[word_idx.values().index(i)] for i in test_preds[:6]]"
      ],
      "execution_count": 0,
      "outputs": [
        {
          "output_type": "execute_result",
          "data": {
            "text/plain": [
              "['BAC', 'AC', 'D', 'circle', 'AB', 'AB']"
            ]
          },
          "metadata": {
            "tags": []
          },
          "execution_count": 44
        }
      ]
    },
    {
      "cell_type": "code",
      "metadata": {
        "id": "cSUHfZjlzRMV",
        "colab_type": "code",
        "outputId": "734e574d-fdc3-4590-c068-aa551de7a845",
        "colab": {
          "base_uri": "https://localhost:8080/",
          "height": 34
        }
      },
      "source": [
        "from operator import __mul__\n",
        "se = [1,2,3]\n",
        "reduce(__mul__,se,1)"
      ],
      "execution_count": 0,
      "outputs": [
        {
          "output_type": "execute_result",
          "data": {
            "text/plain": [
              "6"
            ]
          },
          "metadata": {
            "tags": []
          },
          "execution_count": 52
        }
      ]
    },
    {
      "cell_type": "code",
      "metadata": {
        "id": "PXOu51yAveI6",
        "colab_type": "code",
        "outputId": "8e06b5cb-a398-4743-bf68-1acad30c460e",
        "colab": {
          "base_uri": "https://localhost:8080/",
          "height": 34
        }
      },
      "source": [
        "[word_idx.keys()[word_idx.values().index(i)] for i in test_labels[:6]]"
      ],
      "execution_count": 0,
      "outputs": [
        {
          "output_type": "execute_result",
          "data": {
            "text/plain": [
              "['measure', 'AC', 'BD', 'circle', '7', 'circle']"
            ]
          },
          "metadata": {
            "tags": []
          },
          "execution_count": 45
        }
      ]
    },
    {
      "cell_type": "code",
      "metadata": {
        "id": "jvdfyHBPnTCa",
        "colab_type": "code",
        "outputId": "d26657cf-3149-456d-e175-d78caa558cd2",
        "colab": {
          "base_uri": "https://localhost:8080/",
          "height": 34
        }
      },
      "source": [
        "testS[5][0]\n",
        "[j for j in train_labels[5][0]]"
      ],
      "execution_count": 0,
      "outputs": [
        {
          "output_type": "execute_result",
          "data": {
            "text/plain": [
              "42894"
            ]
          },
          "metadata": {
            "tags": []
          },
          "execution_count": 6
        }
      ]
    },
    {
      "cell_type": "code",
      "metadata": {
        "id": "jd8qPCyOoZA-",
        "colab_type": "code",
        "outputId": "bf4cbbdd-4402-4594-e2e2-fd9f98dacfda",
        "colab": {
          "base_uri": "https://localhost:8080/",
          "height": 136
        }
      },
      "source": [
        "testQ[5],trainQ[5],len([a for a in trainQ if sum(p>0 for p in a)>1])"
      ],
      "execution_count": 0,
      "outputs": [
        {
          "output_type": "execute_result",
          "data": {
            "text/plain": [
              "(array([103,  59,   0,   0,   0,   0,   0,   0,   0,   0,   0,   0,   0,\n",
              "          0,   0,   0,   0,   0,   0,   0,   0,   0,   0,   0,   0,   0,\n",
              "          0,   0,   0,   0,   0,   0,   0,   0,   0,   0]),\n",
              " array([166,  39,   0,   0,   0,   0,   0,   0,   0,   0,   0,   0,   0,\n",
              "          0,   0,   0,   0,   0,   0,   0,   0,   0,   0,   0,   0,   0,\n",
              "          0,   0,   0,   0,   0,   0,   0,   0,   0,   0]),\n",
              " 90)"
            ]
          },
          "metadata": {
            "tags": []
          },
          "execution_count": 41
        }
      ]
    },
    {
      "cell_type": "code",
      "metadata": {
        "id": "11mBVqHvnzzW",
        "colab_type": "code",
        "outputId": "d4befec3-ba88-4c76-ed6b-5a0e57f0a556",
        "colab": {
          "base_uri": "https://localhost:8080/",
          "height": 34
        }
      },
      "source": [
        "word_idx.keys()[word_idx.values().index(3171)]\n"
      ],
      "execution_count": 0,
      "outputs": [
        {
          "output_type": "execute_result",
          "data": {
            "text/plain": [
              "'In'"
            ]
          },
          "metadata": {
            "tags": []
          },
          "execution_count": 30
        }
      ]
    },
    {
      "cell_type": "code",
      "metadata": {
        "id": "5iGJsDJ1p85P",
        "colab_type": "code",
        "outputId": "ec57c851-b78d-4565-bc20-ce645abcdb6f",
        "colab": {
          "base_uri": "https://localhost:8080/",
          "height": 34
        }
      },
      "source": [
        "len(word_idx)"
      ],
      "execution_count": 0,
      "outputs": [
        {
          "output_type": "execute_result",
          "data": {
            "text/plain": [
              "7974"
            ]
          },
          "metadata": {
            "tags": []
          },
          "execution_count": 31
        }
      ]
    },
    {
      "cell_type": "code",
      "metadata": {
        "id": "Q-rI3T_sAS6p",
        "colab_type": "code",
        "outputId": "414e397f-a00b-4d66-ab90-fcbb8ee2aa68",
        "colab": {
          "base_uri": "https://localhost:8080/",
          "height": 563
        }
      },
      "source": [
        "import re\n",
        "parse_stories(['In circle O , diameter AB is perpendicular to chord CD at E .##perpendicular AB CD',\n",
        "'In circle O , diameter AC is perpendicular to chord AD at E .##perpendicular AC AD'])"
      ],
      "execution_count": 0,
      "outputs": [
        {
          "output_type": "execute_result",
          "data": {
            "text/plain": [
              "[([['In',\n",
              "    'circle',\n",
              "    'O',\n",
              "    ',',\n",
              "    'diameter',\n",
              "    'AB',\n",
              "    'is',\n",
              "    'perpendicular',\n",
              "    'to',\n",
              "    'chord',\n",
              "    'CD',\n",
              "    'at',\n",
              "    'E']],\n",
              "  ['perpendicular', 'AB'],\n",
              "  'CD'),\n",
              " ([['In',\n",
              "    'circle',\n",
              "    'O',\n",
              "    ',',\n",
              "    'diameter',\n",
              "    'AC',\n",
              "    'is',\n",
              "    'perpendicular',\n",
              "    'to',\n",
              "    'chord',\n",
              "    'AD',\n",
              "    'at',\n",
              "    'E']],\n",
              "  ['perpendicular', 'AC'],\n",
              "  'AD')]"
            ]
          },
          "metadata": {
            "tags": []
          },
          "execution_count": 5
        }
      ]
    },
    {
      "cell_type": "code",
      "metadata": {
        "id": "eZwGFlwkP242",
        "colab_type": "code",
        "outputId": "63423ce9-077f-4e25-f535-ec9037fbdf44",
        "colab": {
          "base_uri": "https://localhost:8080/",
          "height": 34
        }
      },
      "source": [
        "[word_idx.keys()[word_idx.values().index(i)] for i in test_preds[:5]]"
      ],
      "execution_count": 0,
      "outputs": [
        {
          "output_type": "execute_result",
          "data": {
            "text/plain": [
              "[' l', 'le', ' O', 'CD', ' O']"
            ]
          },
          "metadata": {
            "tags": []
          },
          "execution_count": 14
        }
      ]
    },
    {
      "cell_type": "code",
      "metadata": {
        "id": "JIdLD0q6w_E1",
        "colab_type": "code",
        "outputId": "5067cf87-bd6b-442b-d71d-918449cf20be",
        "colab": {
          "base_uri": "https://localhost:8080/",
          "height": 102
        }
      },
      "source": [
        "for story in testS[:5]:\n",
        "  for sentence in story:\n",
        "    print ([word_idx.keys()[word_idx.values().index(i)] for i in sentence if i!=0 and i!=8010])\n",
        "\n"
      ],
      "execution_count": 0,
      "outputs": [
        {
          "output_type": "stream",
          "text": [
            "['In', 'circle', 'O', ',', 'diameter', 'IB', 'is', 'perpendicular', 'to', 'chord', 'IC', 'at', 'E']\n",
            "['In', 'circle', 'O', ',', 'diameter', 'IC', 'is', 'perpendicular', 'to', 'chord', 'ID', 'at', 'E']\n",
            "['In', 'circle', 'O', ',', 'diameter', 'ID', 'is', 'perpendicular', 'to', 'chord', 'IE', 'at', 'E']\n",
            "['In', 'circle', 'O', ',', 'diameter', 'IE', 'is', 'perpendicular', 'to', 'chord', 'IF', 'at', 'E']\n",
            "['In', 'circle', 'O', ',', 'diameter', 'IF', 'is', 'perpendicular', 'to', 'chord', 'IG', 'at', 'E']\n"
          ],
          "name": "stdout"
        }
      ]
    },
    {
      "cell_type": "code",
      "metadata": {
        "id": "WJcHhbBTwz9s",
        "colab_type": "code",
        "colab": {}
      },
      "source": [
        "[word_idx.keys()[word_idx.values().index(i)] for i in test_labels[:5]]"
      ],
      "execution_count": 0,
      "outputs": []
    },
    {
      "cell_type": "code",
      "metadata": {
        "id": "vXldSynViQ_E",
        "colab_type": "code",
        "outputId": "c3ff3359-b325-4b88-b188-d33a5b77a54f",
        "colab": {
          "base_uri": "https://localhost:8080/",
          "height": 34
        }
      },
      "source": [
        "[word_idx.keys()[word_idx.values().index(i)] for i in test_labels[:5]]"
      ],
      "execution_count": 0,
      "outputs": [
        {
          "output_type": "execute_result",
          "data": {
            "text/plain": [
              "['IC', 'ID', 'IE', 'IF', 'IG']"
            ]
          },
          "metadata": {
            "tags": []
          },
          "execution_count": 4
        }
      ]
    },
    {
      "cell_type": "code",
      "metadata": {
        "id": "MUaS9cocy3cb",
        "colab_type": "code",
        "outputId": "956f1446-d156-4007-ed5a-9082b42abcf8",
        "colab": {
          "base_uri": "https://localhost:8080/",
          "height": 34
        }
      },
      "source": [
        "class AB(object):\n",
        "  def __init__(self):\n",
        "    self.asw = 5\n",
        "  def getAs(self):\n",
        "    return self.asw\n",
        "  \n",
        "errw = AB()\n",
        "print(errw.getAs())"
      ],
      "execution_count": 0,
      "outputs": [
        {
          "output_type": "stream",
          "text": [
            "5\n"
          ],
          "name": "stdout"
        }
      ]
    },
    {
      "cell_type": "code",
      "metadata": {
        "id": "tNo5ca5a2Kva",
        "colab_type": "code",
        "outputId": "31dc4928-8bda-4e7f-8053-5b795660dbeb",
        "colab": {
          "base_uri": "https://localhost:8080/",
          "height": 34
        }
      },
      "source": [
        "# np.argmax(train_preds[0])\n",
        "# word_idx.keys()[word_idx.values().index(1325)]\n",
        "len(train_preds)"
      ],
      "execution_count": 0,
      "outputs": [
        {
          "output_type": "execute_result",
          "data": {
            "text/plain": [
              "1600"
            ]
          },
          "metadata": {
            "tags": []
          },
          "execution_count": 96
        }
      ]
    },
    {
      "cell_type": "code",
      "metadata": {
        "id": "SLoeRLbl3R8C",
        "colab_type": "code",
        "outputId": "acd404bb-ed42-4013-f8b8-5722e63f4f05",
        "colab": {
          "base_uri": "https://localhost:8080/",
          "height": 33
        }
      },
      "source": [
        "story12 =  ['The', 'diagram', 'below', 'illustrates', 'the', 'construction', 'of', 'line', 'PS', 'parallel', 'to', 'line', 'RQ', 'through', 'point', 'P']\n",
        "query12 =  ['parallel']\n",
        "answer12 =  ['PS']\n",
        "story12.index(answer12[0])\n",
        "\n",
        "story12.index(query12[0])"
      ],
      "execution_count": 0,
      "outputs": [
        {
          "output_type": "execute_result",
          "data": {
            "text/plain": [
              "9"
            ]
          },
          "metadata": {
            "tags": []
          },
          "execution_count": 48
        }
      ]
    },
    {
      "cell_type": "code",
      "metadata": {
        "id": "dxoOQgVgarLh",
        "colab_type": "code",
        "outputId": "0cad8704-9d3d-4714-f5cf-cde93f13deb1",
        "colab": {
          "base_uri": "https://localhost:8080/",
          "height": 586
        }
      },
      "source": [
        "data2[0][0]\n",
        "# max_story_size1 = max(map(len, (s for s, _, _ in data2)))\n",
        "# mean_story_size = int(np.mean([ len(s) for s, _, _ in data2 ]))\n",
        "# sentence_size = max(map(len, chain.from_iterable(s for s, _, _ in data2)))\n",
        "# query_size = max(map(len, (q for _, q, _ in data2)))\n",
        "# memory_size = min(memory_size, max_story_size)\n",
        "np.array(trainS2).shape\n",
        "trainS2[100]"
      ],
      "execution_count": 0,
      "outputs": [
        {
          "output_type": "execute_result",
          "data": {
            "text/plain": [
              "[[522],\n",
              " [521],\n",
              " [520],\n",
              " [519],\n",
              " [518],\n",
              " [517],\n",
              " [136, 516],\n",
              " [515],\n",
              " [514],\n",
              " [513],\n",
              " [512],\n",
              " [419, 511],\n",
              " [510],\n",
              " [389, 509],\n",
              " [136, 508],\n",
              " [507],\n",
              " [506],\n",
              " [505],\n",
              " [504],\n",
              " [419, 503],\n",
              " [502],\n",
              " [407, 501],\n",
              " [500],\n",
              " [499],\n",
              " [498],\n",
              " [497],\n",
              " [496],\n",
              " [495],\n",
              " [136, 494],\n",
              " [493],\n",
              " [11, 492],\n",
              " [491],\n",
              " [490],\n",
              " [0],\n",
              " [0]]"
            ]
          },
          "metadata": {
            "tags": []
          },
          "execution_count": 16
        }
      ]
    },
    {
      "cell_type": "code",
      "metadata": {
        "id": "QzAWZ1tZygVU",
        "colab_type": "code",
        "outputId": "21aedad8-ab6c-431b-9fcc-91db8f3acfc9",
        "colab": {
          "base_uri": "https://localhost:8080/",
          "height": 33
        }
      },
      "source": [
        "len(word_idx)"
      ],
      "execution_count": 0,
      "outputs": [
        {
          "output_type": "execute_result",
          "data": {
            "text/plain": [
              "559"
            ]
          },
          "metadata": {
            "tags": []
          },
          "execution_count": 104
        }
      ]
    },
    {
      "cell_type": "code",
      "metadata": {
        "id": "wrVV8-bWZk6Z",
        "colab_type": "code",
        "outputId": "3882ffd3-e9a9-460b-cc94-d86c44227958",
        "colab": {
          "base_uri": "https://localhost:8080/",
          "height": 1000
        }
      },
      "source": [
        "# In circle O , diameter AB is perpendicular to chord CD at E .##perpendicular AB CD    \n",
        "import re\n",
        "\n",
        "\n",
        "\n",
        "def predictLong(se, q_position = -1):\n",
        "  raws = se.split('##')[0].split()\n",
        "#   print('raws', raws)\n",
        "  testS,testQ =  se.split('##')\n",
        "  splitQ = testQ.split(' ')\n",
        "  tempQ = ' '.join(splitQ[:2])\n",
        "  tempS = testS+'##'+tempQ+' point'\n",
        "#   print('tempS',tempS)\n",
        "#   print('parse_stories2([tempS])',np.array(parse_stories2([tempS])).shape, parse_stories2([tempS]))\n",
        "  \n",
        "  s,q,a =  parse_stories3([tempS])[0]\n",
        "  s,q,a = vectorize_data(s, q, a, word_idx, sentence_size,\n",
        "                         memory_size, q_position = q_position )\n",
        "#   print ('tempQ',tempQ)\n",
        "#   print('s1',s)\n",
        "  a1, att = model2.predict(s,q)\n",
        "  print('att', att)\n",
        "  plot_attention([[r] for r in raws],[['1'], ['2'], ['3']],  att)\n",
        "#   print('a12', a1)\n",
        "  if(a1[0]+1>len(raws)):\n",
        "    return [0]\n",
        "  if(log_info):\n",
        "    print('rule1', tempQ,' ',raws[int(a1[0])])\n",
        "\n",
        "  return a1\n",
        "# #   print('s12',s)\n",
        "# #   print('a12', a1)\n",
        "# #   print ('rule', word_idx.keys()[word_idx.values().index(a1)])\n",
        "\n",
        "#   if(a1[0]+1>len(raws)):\n",
        "#     return 0,0\n",
        "#   tempQ = tempQ+' '+ raws[int(a1[0])]\n",
        "# #   print ('tempQ',tempQ)\n",
        "#   tempS = testS+'##'+tempQ+' point'\n",
        "# #   print ('tempS',tempS)\n",
        "#   _,q,a =  parse_stories3([tempS])[0]\n",
        "  \n",
        "#   q = vectorize_question(s,q,a,word_idx, sentence_size, memory_size)\n",
        "# #   print (s)\n",
        "# #   print(q)\n",
        "  \n",
        "#   a2 = model2.predict(s,q)\n",
        "# #   print ('rule',a1.shape,a2.shape)\n",
        "# #   print('a2', a2)\n",
        "#   if a1!=429 and a2!=429 and a2[0]<len(raws):\n",
        "#     print('rule1', tempQ,' ',raws[int(a2[0])])\n",
        "# #     print('rule1', word_idx.keys()[word_idx.values().index(a1)],' ',word_idx.keys()[word_idx.values().index(a2)])\n",
        "#   return a1, a2\n",
        "  \n",
        "  \n",
        "  \n",
        "                          \n",
        "#   print('lenrange',len(splitQ))\n",
        "#   for i in range(len(splitQ)-1):\n",
        "# #     print('i',i)\n",
        "#     tempQ = ' '.join(splitQ[:i+1])\n",
        "# #   'point'; a dummy answer\n",
        "#     tempS = testS+'##'+tempQ+' point'\n",
        "# #     print(tempS)\n",
        "#     s,q,a =  parse_stories([tempS])[0]\n",
        "# #     print('s',s)\n",
        "#     s,q,a = vectorize_data(s,q,a,word_idx, sentence_size, memory_size)\n",
        "# #     print('len1',len(s)) \n",
        "#     print (s)\n",
        "#     print (q)\n",
        "#     print ('pred',model.predict(s,q))\n",
        "#   return s,q\n",
        "# ad = predictLong('In circle O , diameter AB is perpendicular to chord CD at E .','perpendicular AB CD') \n",
        "\n",
        "# np.array(ad).shape,model.predict(s,q)\n",
        "# model.predict(s,q)\n",
        "\n",
        "def evaluate(lines,keyword_dict, rule_dict = rule_dict):\n",
        "  single_rule_list = list()\n",
        "  qs = list()\n",
        "  tp = 0\n",
        "  fp = 0\n",
        "  tn = 0\n",
        "  fn = 0\n",
        "  selected_rules = list()\n",
        "  for line in lines:\n",
        "#     line.replace('\\n','')\n",
        "#     line = line[:-1]\n",
        "\n",
        "\n",
        "    qKey = line.split('##')[0]\n",
        "#     print('qKey',qKey)\n",
        "    \n",
        "    pos_rules = list()\n",
        "    if qKey in rule_dict.keys():\n",
        "      pos_rules = rule_dict[qKey]      \n",
        "    \n",
        "    pos_rule_encs = list()\n",
        "    pos_rule_encs2 = list()\n",
        "    \n",
        "    for rule in pos_rules:\n",
        "#       if(log_info):\n",
        "#             print('rule', rule)\n",
        "      rule_words = rule.split(' ')\n",
        "      rule1 = [rule_words[0],rule_words[1]]\n",
        "      \n",
        "#       print('before',[rule_word.replace('@','') for rule_word in rule.split(' ')])\n",
        "#       rule_words1 = ''.join([str(word_idx[rule_word.replace('@','')]) for rule_word in rule1])\n",
        "      rule_words1 = ''.join([str(word_idx[rule_word.replace('@','')]) for rule_word in rule1])\n",
        "        \n",
        "    \n",
        "      lss1 = ''.join(str(rule_words1))\n",
        "      \n",
        "#       print('lss',lss1, lss2)\n",
        "      pos_rule_encs.append(lss1)\n",
        "    if(log_info):      \n",
        "      print('pos_rules',pos_rules)\n",
        "#     print('pos_rules_encs',pos_rule_encs)\n",
        "    \n",
        "    line = line.split('##')[1]\n",
        "    if(log_info): \n",
        "      print('line',line)\n",
        "    words = line.split(' ')\n",
        "  \n",
        "#   pruning\n",
        "    if(len(words)>memory_size):\n",
        "      words = words[:memory_size]\n",
        "      line = ' '.join(words)\n",
        "  \n",
        "  \n",
        "    for wordId in range(len(words)):\n",
        "      \n",
        "      word = words[wordId]\n",
        "#       print(' word ', word)\n",
        "      if word in keyword_dict.keys() and keyword_dict[word]==1:\n",
        "        if(word=='on'):\n",
        "          continue\n",
        "          \n",
        "        if((word.lower() in ['lies','lie']) or (word.lower()=='is' and words[wordId+1]=='on' )):\n",
        "          word =word+'_on'\n",
        "        print('wordId', wordId)\n",
        "        a1= predictLong(line+' ##'+word, wordId)\n",
        "        pred_word = str(words[a1[0]])\n",
        "#         print('pred_word ', pred_word)\n",
        "        if(a1 == [0] or (not pred_word.isalnum()) or(pred_word.islower() and len(pred_word)>1)):\n",
        "          continue\n",
        "#         print('a1', a1)\n",
        "        word_id = word_idx[word]\n",
        "        lss3 = ''.join([str(word_id), str(word_idx[words[a1[0]].replace('@','')]) ])\n",
        "#         single_rule_list.append(qKey+'##'+word+' ' + word_idx.keys()[word_idx.values().index(a1)])\n",
        "        single_rule_list.append(qKey+'##'+word+' ' + pred_word)\n",
        "        selected_rules.append(lss1)\n",
        "#         predicted_rule = word + ' ' +a1\n",
        "        if containList(lss3, pos_rule_encs,'tp'):\n",
        "          tp = tp+1\n",
        "        else:\n",
        "          fp = fp+1\n",
        "        if(log_info):\n",
        "          print('inc',tp,fp)    \n",
        "          \n",
        "    for ruleId in range(len(pos_rule_encs)):\n",
        "#       print('ruleId', ruleId)    \n",
        "#       print('pos_rule_encs', pos_rule_encs, )\n",
        "      if not containList(pos_rule_encs[ruleId], selected_rules,'fp'):\n",
        "        fn = fn+1\n",
        "\n",
        "  single_rule_list = list(set(single_rule_list))\n",
        "  predict_single_rule_file = open(\"predict_single_rule_ext_file_mm.txt\", \"w+\")                              \n",
        "  for v in single_rule_list:\n",
        "    predict_single_rule_file.write(v)\n",
        "    predict_single_rule_file.write('\\n')\n",
        "  predict_single_rule_file.close()   \n",
        "                                \n",
        "          \n",
        "          \n",
        "  return tp,fp, tn, fn \n",
        "\n",
        "def containList(list1, lists,a):\n",
        "#   print(a,list1,'##',lists)\n",
        "#   print('lists',lists)\n",
        "#   print('list1',list1)\n",
        "  \n",
        "#   list_ind =int(''.join(str(x) for x in list1)) \n",
        "#   list_ints = list()\n",
        "  \n",
        "#   for i in lists:\n",
        "# #     print('i',i)\n",
        "# #     print('gen',int(''.join(str(x) for x in i)))\n",
        "#     list_ints.append(''.join(str(x).strip()) for x in i if len(''.join(str(x)).strip())>0) \n",
        "  if (list1 in lists):\n",
        "    return True\n",
        "  return False\n",
        "\n",
        "\n",
        "\n",
        "# predictLong('In triangle ABC above , the length of AB is 3 , and D is the midpoint of AC .##midpoint D AC') \n",
        "# predictLong('What is the length of segment AB ?##length AB') \n",
        "\n",
        "tp,fp, tn, fn = evaluate(evaluate_data, keyword_dict)\n",
        "precison = 1.0*tp/(tp+fp)\n",
        "recall = 1.0*tp/(tp+fn)\n",
        "f1Score = 2.0*precison*recall/(precison+recall)\n",
        "\n",
        "print(tp,fp, tn, fn,precison, recall, f1Score)\n"
      ],
      "execution_count": 0,
      "outputs": [
        {
          "output_type": "stream",
          "text": [
            "pos_rules ['value x']\n",
            "line In the figure above , what is the value of x ?\n",
            "wordId 8\n",
            "att [[[0.02767446 0.02775258 0.02808488 0.0276481  0.02783513 0.02783608\n",
            "   0.02765748 0.02763407 0.02779131 0.02802508 0.04845458 0.02806692\n",
            "   0.02806692 0.02806692 0.02806692 0.02806692 0.02806692 0.02806692\n",
            "   0.02806692 0.02806692 0.02806692 0.02806692 0.02806692 0.02806692\n",
            "   0.02806692 0.02806692 0.02806692 0.02806692 0.02806692 0.02806692\n",
            "   0.02806692 0.02806692 0.02806692 0.02806692 0.02806692]]\n",
            "\n",
            " [[0.02723718 0.02723785 0.02723783 0.0272371  0.02723825 0.02723775\n",
            "   0.02723751 0.02723709 0.0272394  0.02723959 0.07388205 0.0272391\n",
            "   0.0272391  0.0272391  0.0272391  0.0272391  0.0272391  0.0272391\n",
            "   0.0272391  0.0272391  0.0272391  0.0272391  0.0272391  0.0272391\n",
            "   0.0272391  0.0272391  0.0272391  0.0272391  0.0272391  0.0272391\n",
            "   0.0272391  0.0272391  0.0272391  0.0272391  0.0272391 ]]\n",
            "\n",
            " [[0.02723439 0.02723439 0.02723439 0.02723439 0.02723439 0.02723439\n",
            "   0.02723439 0.02723439 0.02723439 0.02723439 0.07403073 0.02723439\n",
            "   0.02723439 0.02723439 0.02723439 0.02723439 0.02723439 0.02723439\n",
            "   0.02723439 0.02723439 0.02723439 0.02723439 0.02723439 0.02723439\n",
            "   0.02723439 0.02723439 0.02723439 0.02723439 0.02723439 0.02723439\n",
            "   0.02723439 0.02723439 0.02723439 0.02723439 0.02723439]]]\n"
          ],
          "name": "stdout"
        },
        {
          "output_type": "error",
          "ename": "ValueError",
          "evalue": "ignored",
          "traceback": [
            "\u001b[0;31m\u001b[0m",
            "\u001b[0;31mValueError\u001b[0mTraceback (most recent call last)",
            "\u001b[0;32m<ipython-input-39-5ae7883cbd59>\u001b[0m in \u001b[0;36m<module>\u001b[0;34m()\u001b[0m\n\u001b[1;32m    196\u001b[0m \u001b[0;31m# predictLong('What is the length of segment AB ?##length AB')\u001b[0m\u001b[0;34m\u001b[0m\u001b[0;34m\u001b[0m\u001b[0;34m\u001b[0m\u001b[0m\n\u001b[1;32m    197\u001b[0m \u001b[0;34m\u001b[0m\u001b[0m\n\u001b[0;32m--> 198\u001b[0;31m \u001b[0mtp\u001b[0m\u001b[0;34m,\u001b[0m\u001b[0mfp\u001b[0m\u001b[0;34m,\u001b[0m \u001b[0mtn\u001b[0m\u001b[0;34m,\u001b[0m \u001b[0mfn\u001b[0m \u001b[0;34m=\u001b[0m \u001b[0mevaluate\u001b[0m\u001b[0;34m(\u001b[0m\u001b[0mevaluate_data\u001b[0m\u001b[0;34m,\u001b[0m \u001b[0mkeyword_dict\u001b[0m\u001b[0;34m)\u001b[0m\u001b[0;34m\u001b[0m\u001b[0;34m\u001b[0m\u001b[0m\n\u001b[0m\u001b[1;32m    199\u001b[0m \u001b[0mprecison\u001b[0m \u001b[0;34m=\u001b[0m \u001b[0;36m1.0\u001b[0m\u001b[0;34m*\u001b[0m\u001b[0mtp\u001b[0m\u001b[0;34m/\u001b[0m\u001b[0;34m(\u001b[0m\u001b[0mtp\u001b[0m\u001b[0;34m+\u001b[0m\u001b[0mfp\u001b[0m\u001b[0;34m)\u001b[0m\u001b[0;34m\u001b[0m\u001b[0;34m\u001b[0m\u001b[0m\n\u001b[1;32m    200\u001b[0m \u001b[0mrecall\u001b[0m \u001b[0;34m=\u001b[0m \u001b[0;36m1.0\u001b[0m\u001b[0;34m*\u001b[0m\u001b[0mtp\u001b[0m\u001b[0;34m/\u001b[0m\u001b[0;34m(\u001b[0m\u001b[0mtp\u001b[0m\u001b[0;34m+\u001b[0m\u001b[0mfn\u001b[0m\u001b[0;34m)\u001b[0m\u001b[0;34m\u001b[0m\u001b[0;34m\u001b[0m\u001b[0m\n",
            "\u001b[0;32m<ipython-input-39-5ae7883cbd59>\u001b[0m in \u001b[0;36mevaluate\u001b[0;34m(lines, keyword_dict, rule_dict)\u001b[0m\n\u001b[1;32m    139\u001b[0m           \u001b[0mword\u001b[0m \u001b[0;34m=\u001b[0m\u001b[0mword\u001b[0m\u001b[0;34m+\u001b[0m\u001b[0;34m'_on'\u001b[0m\u001b[0;34m\u001b[0m\u001b[0;34m\u001b[0m\u001b[0m\n\u001b[1;32m    140\u001b[0m         \u001b[0;32mprint\u001b[0m\u001b[0;34m(\u001b[0m\u001b[0;34m'wordId'\u001b[0m\u001b[0;34m,\u001b[0m \u001b[0mwordId\u001b[0m\u001b[0;34m)\u001b[0m\u001b[0;34m\u001b[0m\u001b[0;34m\u001b[0m\u001b[0m\n\u001b[0;32m--> 141\u001b[0;31m         \u001b[0ma1\u001b[0m\u001b[0;34m=\u001b[0m \u001b[0mpredictLong\u001b[0m\u001b[0;34m(\u001b[0m\u001b[0mline\u001b[0m\u001b[0;34m+\u001b[0m\u001b[0;34m' ##'\u001b[0m\u001b[0;34m+\u001b[0m\u001b[0mword\u001b[0m\u001b[0;34m,\u001b[0m \u001b[0mwordId\u001b[0m\u001b[0;34m)\u001b[0m\u001b[0;34m\u001b[0m\u001b[0;34m\u001b[0m\u001b[0m\n\u001b[0m\u001b[1;32m    142\u001b[0m         \u001b[0mpred_word\u001b[0m \u001b[0;34m=\u001b[0m \u001b[0mstr\u001b[0m\u001b[0;34m(\u001b[0m\u001b[0mwords\u001b[0m\u001b[0;34m[\u001b[0m\u001b[0ma1\u001b[0m\u001b[0;34m[\u001b[0m\u001b[0;36m0\u001b[0m\u001b[0;34m]\u001b[0m\u001b[0;34m]\u001b[0m\u001b[0;34m)\u001b[0m\u001b[0;34m\u001b[0m\u001b[0;34m\u001b[0m\u001b[0m\n\u001b[1;32m    143\u001b[0m \u001b[0;31m#         print('pred_word ', pred_word)\u001b[0m\u001b[0;34m\u001b[0m\u001b[0;34m\u001b[0m\u001b[0;34m\u001b[0m\u001b[0m\n",
            "\u001b[0;32m<ipython-input-39-5ae7883cbd59>\u001b[0m in \u001b[0;36mpredictLong\u001b[0;34m(se, q_position)\u001b[0m\n\u001b[1;32m     20\u001b[0m   \u001b[0ma1\u001b[0m\u001b[0;34m,\u001b[0m \u001b[0matt\u001b[0m \u001b[0;34m=\u001b[0m \u001b[0mmodel2\u001b[0m\u001b[0;34m.\u001b[0m\u001b[0mpredict\u001b[0m\u001b[0;34m(\u001b[0m\u001b[0ms\u001b[0m\u001b[0;34m,\u001b[0m\u001b[0mq\u001b[0m\u001b[0;34m)\u001b[0m\u001b[0;34m\u001b[0m\u001b[0;34m\u001b[0m\u001b[0m\n\u001b[1;32m     21\u001b[0m   \u001b[0;32mprint\u001b[0m\u001b[0;34m(\u001b[0m\u001b[0;34m'att'\u001b[0m\u001b[0;34m,\u001b[0m \u001b[0matt\u001b[0m\u001b[0;34m)\u001b[0m\u001b[0;34m\u001b[0m\u001b[0;34m\u001b[0m\u001b[0m\n\u001b[0;32m---> 22\u001b[0;31m   \u001b[0mplot_attention\u001b[0m\u001b[0;34m(\u001b[0m\u001b[0;34m[\u001b[0m\u001b[0;34m[\u001b[0m\u001b[0mr\u001b[0m\u001b[0;34m]\u001b[0m \u001b[0;32mfor\u001b[0m \u001b[0mr\u001b[0m \u001b[0;32min\u001b[0m \u001b[0mraws\u001b[0m\u001b[0;34m]\u001b[0m\u001b[0;34m,\u001b[0m\u001b[0;34m[\u001b[0m\u001b[0;34m[\u001b[0m\u001b[0;34m'1'\u001b[0m\u001b[0;34m]\u001b[0m\u001b[0;34m,\u001b[0m \u001b[0;34m[\u001b[0m\u001b[0;34m'2'\u001b[0m\u001b[0;34m]\u001b[0m\u001b[0;34m,\u001b[0m \u001b[0;34m[\u001b[0m\u001b[0;34m'3'\u001b[0m\u001b[0;34m]\u001b[0m\u001b[0;34m]\u001b[0m\u001b[0;34m,\u001b[0m  \u001b[0matt\u001b[0m\u001b[0;34m)\u001b[0m\u001b[0;34m\u001b[0m\u001b[0;34m\u001b[0m\u001b[0m\n\u001b[0m\u001b[1;32m     23\u001b[0m \u001b[0;31m#   print('a12', a1)\u001b[0m\u001b[0;34m\u001b[0m\u001b[0;34m\u001b[0m\u001b[0;34m\u001b[0m\u001b[0m\n\u001b[1;32m     24\u001b[0m   \u001b[0;32mif\u001b[0m\u001b[0;34m(\u001b[0m\u001b[0ma1\u001b[0m\u001b[0;34m[\u001b[0m\u001b[0;36m0\u001b[0m\u001b[0;34m]\u001b[0m\u001b[0;34m+\u001b[0m\u001b[0;36m1\u001b[0m\u001b[0;34m>\u001b[0m\u001b[0mlen\u001b[0m\u001b[0;34m(\u001b[0m\u001b[0mraws\u001b[0m\u001b[0;34m)\u001b[0m\u001b[0;34m)\u001b[0m\u001b[0;34m:\u001b[0m\u001b[0;34m\u001b[0m\u001b[0;34m\u001b[0m\u001b[0m\n",
            "\u001b[0;32m<ipython-input-27-11ccc69ec379>\u001b[0m in \u001b[0;36mplot_attention\u001b[0;34m(in_seq, out_seq, attentions)\u001b[0m\n\u001b[1;32m     11\u001b[0m     \u001b[0mfig\u001b[0m \u001b[0;34m=\u001b[0m \u001b[0mplt\u001b[0m\u001b[0;34m.\u001b[0m\u001b[0mfigure\u001b[0m\u001b[0;34m(\u001b[0m\u001b[0;34m)\u001b[0m\u001b[0;34m\u001b[0m\u001b[0;34m\u001b[0m\u001b[0m\n\u001b[1;32m     12\u001b[0m     \u001b[0max\u001b[0m \u001b[0;34m=\u001b[0m \u001b[0mfig\u001b[0m\u001b[0;34m.\u001b[0m\u001b[0madd_subplot\u001b[0m\u001b[0;34m(\u001b[0m\u001b[0;36m111\u001b[0m\u001b[0;34m)\u001b[0m\u001b[0;34m\u001b[0m\u001b[0;34m\u001b[0m\u001b[0m\n\u001b[0;32m---> 13\u001b[0;31m     \u001b[0mcax\u001b[0m \u001b[0;34m=\u001b[0m \u001b[0max\u001b[0m\u001b[0;34m.\u001b[0m\u001b[0mmatshow\u001b[0m\u001b[0;34m(\u001b[0m\u001b[0mattentions\u001b[0m\u001b[0;34m,\u001b[0m \u001b[0mcmap\u001b[0m\u001b[0;34m=\u001b[0m\u001b[0;34m'bone'\u001b[0m\u001b[0;34m)\u001b[0m\u001b[0;34m\u001b[0m\u001b[0;34m\u001b[0m\u001b[0m\n\u001b[0m\u001b[1;32m     14\u001b[0m \u001b[0;31m#     fig.colorbar(cax)\u001b[0m\u001b[0;34m\u001b[0m\u001b[0;34m\u001b[0m\u001b[0;34m\u001b[0m\u001b[0m\n\u001b[1;32m     15\u001b[0m \u001b[0;34m\u001b[0m\u001b[0m\n",
            "\u001b[0;32m/usr/local/lib/python2.7/dist-packages/matplotlib/axes/_axes.pyc\u001b[0m in \u001b[0;36mmatshow\u001b[0;34m(self, Z, **kwargs)\u001b[0m\n\u001b[1;32m   7839\u001b[0m         \"\"\"\n\u001b[1;32m   7840\u001b[0m         \u001b[0mZ\u001b[0m \u001b[0;34m=\u001b[0m \u001b[0mnp\u001b[0m\u001b[0;34m.\u001b[0m\u001b[0masanyarray\u001b[0m\u001b[0;34m(\u001b[0m\u001b[0mZ\u001b[0m\u001b[0;34m)\u001b[0m\u001b[0;34m\u001b[0m\u001b[0;34m\u001b[0m\u001b[0m\n\u001b[0;32m-> 7841\u001b[0;31m         \u001b[0mnr\u001b[0m\u001b[0;34m,\u001b[0m \u001b[0mnc\u001b[0m \u001b[0;34m=\u001b[0m \u001b[0mZ\u001b[0m\u001b[0;34m.\u001b[0m\u001b[0mshape\u001b[0m\u001b[0;34m\u001b[0m\u001b[0;34m\u001b[0m\u001b[0m\n\u001b[0m\u001b[1;32m   7842\u001b[0m         kw = {'origin': 'upper',\n\u001b[1;32m   7843\u001b[0m               \u001b[0;34m'interpolation'\u001b[0m\u001b[0;34m:\u001b[0m \u001b[0;34m'nearest'\u001b[0m\u001b[0;34m,\u001b[0m\u001b[0;34m\u001b[0m\u001b[0;34m\u001b[0m\u001b[0m\n",
            "\u001b[0;31mValueError\u001b[0m: too many values to unpack"
          ]
        },
        {
          "output_type": "display_data",
          "data": {
            "image/png": "[encoded data removed]",
            "text/plain": [
              "<Figure size 432x288 with 1 Axes>"
            ]
          },
          "metadata": {
            "tags": []
          }
        }
      ]
    },
    {
      "cell_type": "code",
      "metadata": {
        "id": "NKndOI4tSshd",
        "colab_type": "code",
        "colab": {}
      },
      "source": [
        "evaluate_rule_file_v1 = open(\"evaluate_rule_file_v1.txt\", \"w+\") \n",
        "for qline in evaluate_data:\n",
        "  qkey = qline.split('##')[0]\n",
        "  if qkey not in rule_dict:\n",
        "    continue\n",
        "  rules = rule_dict[qkey]  \n",
        "  evaluate_rule_file_v1.write(qline)\n",
        "  evaluate_rule_file_v1.write('$$')\n",
        "  for rule in rules:  \n",
        "    evaluate_rule_file_v1.write('@')  \n",
        "    evaluate_rule_file_v1.write(rule)\n",
        "  evaluate_rule_file_v1.write('\\n')\n",
        "  "
      ],
      "execution_count": 0,
      "outputs": []
    }
  ]
}